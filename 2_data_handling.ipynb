{
 "cells": [
  {
   "cell_type": "markdown",
   "id": "arbitrary-frame",
   "metadata": {
    "slideshow": {
     "slide_type": "slide"
    }
   },
   "source": [
    "<figure>\n",
    "  <IMG SRC=\"input/FAU.png\" WIDTH=250 ALIGN=\"right\">\n",
    "</figure>\n",
    "\n",
    "# Data Handling and Scientific Computing in Python 3\n",
    "    \n",
    "*David B. Blumenthal, Suryadipto Sarkar*"
   ]
  },
  {
   "cell_type": "markdown",
   "id": "impressed-motor",
   "metadata": {
    "slideshow": {
     "slide_type": "fragment"
    }
   },
   "source": [
    "---\n",
    "## Python modules and packages\n",
    "\n",
    "- Python files with the `.py` extension are called **modules**.\n",
    "- Collections of related modules are called **packages**.\n",
    "- There is a huge variety of Python packages for numerous purposed.\n",
    "- Today, we will learn about three very widely used packages: **NumPy**, **pandas**, and **SciPy**.\n",
    "\n",
    "---\n",
    "## Syntax for importing packages\n",
    "\n",
    "```python\n",
    "import package                       # Import a package.\n",
    "import package as pkg                # Import a package and assign an abbreviation to it.\n",
    "from package import something        # Import functionality from a package.\n",
    "from package import something as sth # Import functionality from a package and assign an abbreviation to it.\n",
    "```"
   ]
  },
  {
   "cell_type": "markdown",
   "id": "dutch-result",
   "metadata": {
    "slideshow": {
     "slide_type": "slide"
    }
   },
   "source": [
    "---\n",
    "## Efficient number crunching with NumPy\n",
    "\n",
    "- Main class `ndarray` representing **multi-dimensional arrays**.\n",
    "- Provides many useful **mathematical functions**.\n",
    "- Backend implemented in **C** and **Fortran** $\\Longrightarrow$ **very fast** if only library calls are used.\n",
    "- Documentation and tutorials available [here](https://numpy.org).\n",
    "- Typically imported as follows:"
   ]
  },
  {
   "cell_type": "code",
   "execution_count": 1,
   "id": "american-career",
   "metadata": {
    "slideshow": {
     "slide_type": "fragment"
    }
   },
   "outputs": [],
   "source": [
    "import numpy as np"
   ]
  },
  {
   "cell_type": "markdown",
   "id": "cultural-jumping",
   "metadata": {
    "slideshow": {
     "slide_type": "slide"
    }
   },
   "source": [
    "---\n",
    "## Creating a `np.ndarray`"
   ]
  },
  {
   "cell_type": "code",
   "execution_count": 2,
   "id": "later-airport",
   "metadata": {
    "slideshow": {
     "slide_type": "fragment"
    }
   },
   "outputs": [
    {
     "name": "stdout",
     "output_type": "stream",
     "text": [
      "a=\n",
      "[1 2 3 4 5]\n",
      "\n",
      "b=\n",
      "[[1 2 3]\n",
      " [4 5 6]]\n",
      "\n",
      "b has shape (2, 3).\n",
      "\n",
      "c=\n",
      "[[1. 1.]\n",
      " [1. 1.]\n",
      " [1. 1.]]\n",
      "\n",
      "d=\n",
      "[0 0 0 0 0]\n",
      "\n",
      "e=\n",
      "[ 0.  2.  4.  6.  8. 10.]\n",
      "\n",
      "f=\n",
      "[[ 0.  2.]\n",
      " [ 4.  6.]\n",
      " [ 8. 10.]]\n",
      "\n"
     ]
    }
   ],
   "source": [
    "a = np.array([1,2,3,4,5])                            # Create one-dimensional array from list.\n",
    "print(f'a=\\n{a}\\n')\n",
    "b = np.array([[1,2,3],[4,5,6]])                      # Create two-dimensional array from list.\n",
    "print(f'b=\\n{b}\\n')\n",
    "print(f'b has shape {b.shape}.\\n')                   # Get shape of array.\n",
    "c = np.ones(shape=(3,2))                             # Create two-dimensional array of ones of given shape.\n",
    "print(f'c=\\n{c}\\n')\n",
    "d = np.zeros(shape=(5), dtype=int)                   # Create one-dimensional array of integer zeros.\n",
    "print(f'd=\\n{d}\\n')\n",
    "e = np.arange(start=0, stop=11, step=2, dtype=float) # Use range-construction of array of floats.\n",
    "print(f'e=\\n{e}\\n')\n",
    "f = e.reshape(3, 2)                                  # Create array from existing array, transforming its shape.\n",
    "print(f'f=\\n{f}\\n')"
   ]
  },
  {
   "cell_type": "markdown",
   "id": "collected-subcommittee",
   "metadata": {
    "slideshow": {
     "slide_type": "slide"
    }
   },
   "source": [
    "---\n",
    "## Indexing and slicing one-dimensional arrays\n",
    "\n",
    "### Syntax for indexing\n",
    "\n",
    "```python\n",
    "value_at_index = array[index] # Get value at index.\n",
    "array[index] = new_value      # Update value at index.\n",
    "```\n",
    "\n",
    "### Syntax for slicing\n",
    "\n",
    "```python\n",
    "array_slice = array[start:stop:step] # Get array slice.\n",
    "array[start:stop:step] = new_slice   # Update array slice.\n",
    "```\n",
    "\n",
    "- **Default `start=0`**: If `start` is omitted, we start at the beginning.\n",
    "- **Default `end=len(array)`**: If `end` is omitted, we end at the last element.\n",
    "- **Default `step=1`**: If `step` is omitted, we use a step-size of 1.\n",
    "\n",
    "### Example"
   ]
  },
  {
   "cell_type": "code",
   "execution_count": 3,
   "id": "ahead-vision",
   "metadata": {
    "slideshow": {
     "slide_type": "fragment"
    }
   },
   "outputs": [
    {
     "data": {
      "text/plain": [
       "array([  1, 100,   3, 101,   5])"
      ]
     },
     "execution_count": 3,
     "metadata": {},
     "output_type": "execute_result"
    }
   ],
   "source": [
    "a[1:5:2] = [100, 101]\n",
    "a"
   ]
  },
  {
   "cell_type": "markdown",
   "id": "planned-network",
   "metadata": {
    "slideshow": {
     "slide_type": "slide"
    }
   },
   "source": [
    "---\n",
    "## <a name=\"ex1\"></a>Exercise 1\n",
    "\n",
    "Create an integer array of zeros with length 20. Change the first 5 values to 10. Change the next 10 values to a sequence starting at 12 and increasing with steps of 2 to 40 (do this with one command). Set the final 5 values to 30. Print the string `'The second but last entry in the array is <ENTRY>.'`, using an f-String."
   ]
  },
  {
   "cell_type": "code",
   "execution_count": null,
   "id": "heavy-state",
   "metadata": {
    "slideshow": {
     "slide_type": "skip"
    }
   },
   "outputs": [],
   "source": []
  },
  {
   "cell_type": "markdown",
   "id": "comprehensive-compound",
   "metadata": {
    "slideshow": {
     "slide_type": "skip"
    }
   },
   "source": [
    "<a href=\"#ex1sol\">Solution for Exercise 1</a>"
   ]
  },
  {
   "cell_type": "markdown",
   "id": "critical-identifier",
   "metadata": {
    "slideshow": {
     "slide_type": "slide"
    }
   },
   "source": [
    "---\n",
    "## Indexing and slicing two-dimensional arrays\n",
    "\n",
    "- For each dimension, just like in the one-dimensional case.\n",
    "- Seperate dimensions via `,`.\n",
    "\n",
    "### Example"
   ]
  },
  {
   "cell_type": "code",
   "execution_count": 5,
   "id": "resident-malaysia",
   "metadata": {
    "slideshow": {
     "slide_type": "fragment"
    }
   },
   "outputs": [
    {
     "name": "stdout",
     "output_type": "stream",
     "text": [
      "[[100.   0.   0.   0.   0.   0.   0.   0.]\n",
      " [  0.   0.   0.   0. 200. 200. 200. 200.]\n",
      " [  0.   0.   0.   0.   0. 400. 400. 400.]]\n"
     ]
    }
   ],
   "source": [
    "a = np.zeros((3, 8)) # Array of floating point zeros with 3 rows and 8 columns.\n",
    "a[0, 0] = 100        # Assign 0 to top-left element.\n",
    "a[1, 4:] = 200       # Row with index 1, columns starting with index 4 to the end.\n",
    "a[2, -1:4:-1] = 400  # Row with index 2, columns from the end with steps of -1 and stop before reaching index 4\n",
    "print(a)"
   ]
  },
  {
   "cell_type": "markdown",
   "id": "broke-nightlife",
   "metadata": {
    "slideshow": {
     "slide_type": "slide"
    }
   },
   "source": [
    "---\n",
    "## <a name=\"ex2\"></a>Exercise 2\n",
    "\n",
    "Create a two-dimensional integer array `x` with the following values:\n",
    "$$\n",
    "x = \\begin{pmatrix}4&2&3&2\\\\2&4&3&1\\\\2&4&1&3\\\\4&1&2&3\\end{pmatrix}\n",
    "$$\n",
    "Subsequently, write code to print:\n",
    "- The first row of `x`.\n",
    "- The first column of `x`.\n",
    "- The third row of `x`.\n",
    "- The last two columns of `x`.\n",
    "- The 2 by 2 block of values in the upper right-hand corner of `x`.\n",
    "- The 2 by 2 block of values at the center of `x`."
   ]
  },
  {
   "cell_type": "code",
   "execution_count": null,
   "id": "configured-sound",
   "metadata": {
    "slideshow": {
     "slide_type": "skip"
    }
   },
   "outputs": [],
   "source": []
  },
  {
   "cell_type": "markdown",
   "id": "tested-element",
   "metadata": {
    "slideshow": {
     "slide_type": "skip"
    }
   },
   "source": [
    "<a href=\"#ex2sol\">Solution for Exercise 2</a>"
   ]
  },
  {
   "cell_type": "markdown",
   "id": "equivalent-emerald",
   "metadata": {
    "slideshow": {
     "slide_type": "slide"
    }
   },
   "source": [
    "---\n",
    "## Numeric operations\n",
    "\n",
    "### Element-wise operations\n",
    "\n",
    "- **General syntax:** `a <operator> b`, where `a` and `b` are `np.ndarray` objects with the same shape.\n",
    "- Yields an array with the same shape as `a` and `b`.\n",
    "\n",
    "```python\n",
    "c = a + b # Element-wise addition.\n",
    "c = a - b # Element-wise substraction.\n",
    "c = a * b # Element-wise multiplication.\n",
    "c = a / b # Element-wise division.\n",
    "```"
   ]
  },
  {
   "cell_type": "markdown",
   "id": "positive-fourth",
   "metadata": {
    "slideshow": {
     "slide_type": "slide"
    }
   },
   "source": [
    "### Scalar operations\n",
    "\n",
    "- **General syntax:** `scalar <operator> a` or `a <operator> scalar`, where `a` is a `np.ndarray` object and `scalar` is a scalar.\n",
    "- Yields array with the same shape as `a`.\n",
    "\n",
    "```python\n",
    "c = 2 + a  # Add 2 to all elements. Equivalent to a + 2.\n",
    "c = 2 * a  # Multiply all elements by 2. Equivalent to a * 2.\n",
    "c = 2 - a  # Substract all elements from 2.\n",
    "c = a - 2  # Substract 2 from all elements.\n",
    "c = 2 / a  # Divide 2 by all elements.\n",
    "c = a / 2  # Divide all elements by 2.\n",
    "c = a ** 2 # Take all elements to the power of 2.\n",
    "c = 2 ** a # Take 2 to the power of all elements.\n",
    "```"
   ]
  },
  {
   "cell_type": "markdown",
   "id": "complimentary-literacy",
   "metadata": {
    "slideshow": {
     "slide_type": "slide"
    }
   },
   "source": [
    "### Very basic linear algrebra\n",
    "\n",
    "- **Matrix multiplication:** `a @ b`, where `a` and `b` are `np.ndarray` objects whose inner dimensions match. That is, if `a` is of shape $(n,m)$, `b` must be of shape $(m,k)$ for some $k$. Yields `np.ndarray` object of shape $(n,k)$.\n",
    "- **Matrix transposition:** `a.T`, where `a` is an `np.ndarray` object of shape $(n,m)$. Yields `np.ndarray` object of shape $(m,n)$.\n",
    "\n",
    "```python\n",
    "b = a.T   # Transpose array a to obtain array b.\n",
    "c = a @ b # Multiply a with b.\n",
    "```\n",
    "\n",
    "- **Much more functionality** is available via the [`np.linalg`](https://numpy.org/doc/stable/reference/routines.linalg.html) submodule and the member functions of the [`np.ndarray`](https://numpy.org/doc/stable/reference/generated/numpy.ndarray.html) class. Read the linked documentations for more information."
   ]
  },
  {
   "cell_type": "markdown",
   "id": "educated-thousand",
   "metadata": {
    "slideshow": {
     "slide_type": "slide"
    }
   },
   "source": [
    "---\n",
    "## Why you should use NumPy\n",
    "\n",
    "- Construct an array $l=[0,1,\\ldots,99999]$ of $10^5$ items using Python `list` and `np.ndarray`.\n",
    "- Compute the maximum using standard and NumPy functionality.\n",
    "- Compare speed."
   ]
  },
  {
   "cell_type": "markdown",
   "id": "funny-scholarship",
   "metadata": {
    "slideshow": {
     "slide_type": "slide"
    }
   },
   "source": [
    "### Constructing lists / arrays"
   ]
  },
  {
   "cell_type": "code",
   "execution_count": 7,
   "id": "continued-appeal",
   "metadata": {
    "slideshow": {
     "slide_type": "fragment"
    }
   },
   "outputs": [
    {
     "name": "stdout",
     "output_type": "stream",
     "text": [
      "2.57 ms ± 146 µs per loop (mean ± std. dev. of 7 runs, 100 loops each)\n"
     ]
    }
   ],
   "source": [
    "%%timeit -n 100 # Execute cell 100 times and measure and report runtime.\n",
    "python_list = list(range(0,100000))"
   ]
  },
  {
   "cell_type": "code",
   "execution_count": 8,
   "id": "comparable-ordering",
   "metadata": {
    "slideshow": {
     "slide_type": "fragment"
    }
   },
   "outputs": [
    {
     "name": "stdout",
     "output_type": "stream",
     "text": [
      "52.4 µs ± 25.8 µs per loop (mean ± std. dev. of 7 runs, 100 loops each)\n"
     ]
    }
   ],
   "source": [
    "%%timeit -n 100\n",
    "numpy_array = np.arange(0,100000)"
   ]
  },
  {
   "cell_type": "markdown",
   "id": "progressive-divorce",
   "metadata": {
    "slideshow": {
     "slide_type": "fragment"
    }
   },
   "source": [
    "- **Construction is around $40$ times faster if you use NumPy.**"
   ]
  },
  {
   "cell_type": "markdown",
   "id": "southwest-pixel",
   "metadata": {
    "slideshow": {
     "slide_type": "slide"
    }
   },
   "source": [
    "### Computing maxima in lists / arrays"
   ]
  },
  {
   "cell_type": "code",
   "execution_count": 9,
   "id": "regular-league",
   "metadata": {
    "slideshow": {
     "slide_type": "skip"
    }
   },
   "outputs": [],
   "source": [
    "python_list = list(range(0,100000))"
   ]
  },
  {
   "cell_type": "code",
   "execution_count": 10,
   "id": "second-courage",
   "metadata": {
    "slideshow": {
     "slide_type": "fragment"
    }
   },
   "outputs": [
    {
     "name": "stdout",
     "output_type": "stream",
     "text": [
      "3.09 ms ± 161 µs per loop (mean ± std. dev. of 7 runs, 100 loops each)\n"
     ]
    }
   ],
   "source": [
    "%%timeit -n 100\n",
    "max_val = 0\n",
    "for val in python_list:\n",
    "    if val > max_val:\n",
    "        max_val = val\n",
    "max_val"
   ]
  },
  {
   "cell_type": "code",
   "execution_count": 11,
   "id": "blessed-tribune",
   "metadata": {
    "slideshow": {
     "slide_type": "fragment"
    }
   },
   "outputs": [
    {
     "name": "stdout",
     "output_type": "stream",
     "text": [
      "1.45 ms ± 140 µs per loop (mean ± std. dev. of 7 runs, 100 loops each)\n"
     ]
    }
   ],
   "source": [
    "%%timeit -n 100\n",
    "max(python_list)"
   ]
  },
  {
   "cell_type": "code",
   "execution_count": 12,
   "id": "intellectual-airfare",
   "metadata": {
    "slideshow": {
     "slide_type": "skip"
    }
   },
   "outputs": [],
   "source": [
    "numpy_array = np.arange(0,100000)"
   ]
  },
  {
   "cell_type": "code",
   "execution_count": 13,
   "id": "professional-astrology",
   "metadata": {
    "slideshow": {
     "slide_type": "fragment"
    }
   },
   "outputs": [
    {
     "name": "stdout",
     "output_type": "stream",
     "text": [
      "81.5 µs ± 22.5 µs per loop (mean ± std. dev. of 7 runs, 100 loops each)\n"
     ]
    }
   ],
   "source": [
    "%%timeit -n 100\n",
    "np.max(numpy_array)"
   ]
  },
  {
   "cell_type": "code",
   "execution_count": 123,
   "id": "fantastic-sampling",
   "metadata": {
    "slideshow": {
     "slide_type": "fragment"
    }
   },
   "outputs": [
    {
     "data": {
      "text/plain": [
       "44.94773519163763"
      ]
     },
     "execution_count": 123,
     "metadata": {},
     "output_type": "execute_result"
    }
   ],
   "source": [
    "2.58 * 1000 / 57.4"
   ]
  },
  {
   "cell_type": "markdown",
   "id": "equal-disorder",
   "metadata": {
    "slideshow": {
     "slide_type": "fragment"
    }
   },
   "source": [
    "- **Computing maxima with `np.max` is around $20$ times faster than with Python's inbuilt `max` function and around $40$ times faster than with a for-loop.**\n",
    "- $\\Longrightarrow$ For performant code, **use library functions** whenever possible."
   ]
  },
  {
   "cell_type": "markdown",
   "id": "utility-clinic",
   "metadata": {
    "slideshow": {
     "slide_type": "slide"
    }
   },
   "source": [
    "---\n",
    "## <a name=\"ex3\"></a>Exercise 3\n",
    "\n",
    "1. Read the CSV file `input/array_a.csv` and store it in an `np.ndarray` `a` of appropriate shape. You can either write your own parser or use an appropriate library function.\n",
    "2. Compute another array `b` as $b=(a^\\top - \\pi)\\cdot e$. Consult [NumPy's documentation](https://numpy.org/doc/stable/reference/) to find out how to obtain the constants $\\pi$ and $e$.\n",
    "3. Compute a third array `c` as $c=ab$ and save it in a CSV file `output/array_c.csv`.\n",
    "4. Use a nested for-loop to compute the column-wise sums of `c` and store them in a one-dimensional array `d`. Measure the runtime using `%%timeit`.\n",
    "5. Now do the same but use an appropriate member function of `np.ndarray` instead of a for-loop. Again, measure the runtime using `%%timeit`."
   ]
  },
  {
   "cell_type": "code",
   "execution_count": null,
   "id": "necessary-participation",
   "metadata": {
    "slideshow": {
     "slide_type": "skip"
    }
   },
   "outputs": [],
   "source": [
    "# Use this cell for tasks 1, 2, and 3."
   ]
  },
  {
   "cell_type": "code",
   "execution_count": null,
   "id": "pressing-trauma",
   "metadata": {
    "slideshow": {
     "slide_type": "skip"
    }
   },
   "outputs": [],
   "source": [
    "# Use this cell for task 4."
   ]
  },
  {
   "cell_type": "code",
   "execution_count": null,
   "id": "devoted-checklist",
   "metadata": {
    "slideshow": {
     "slide_type": "skip"
    }
   },
   "outputs": [],
   "source": [
    "# Use this cell for task 5."
   ]
  },
  {
   "cell_type": "markdown",
   "id": "growing-disco",
   "metadata": {
    "slideshow": {
     "slide_type": "skip"
    }
   },
   "source": [
    "<a href=\"#ex3sol\">Solution for Exercise 3</a>"
   ]
  },
  {
   "cell_type": "markdown",
   "id": "cloudy-wayne",
   "metadata": {
    "slideshow": {
     "slide_type": "slide"
    }
   },
   "source": [
    "---\n",
    "## Data management with pandas\n",
    "\n",
    "- Very widely used package for **managing tabular data**.\n",
    "- Main class **`DataFrame`**.\n",
    "- Extensive documentation can be found [here](https://pandas.pydata.org/docs/).\n",
    "- Typically imported as follows:"
   ]
  },
  {
   "cell_type": "code",
   "execution_count": 18,
   "id": "fitted-foster",
   "metadata": {
    "slideshow": {
     "slide_type": "fragment"
    }
   },
   "outputs": [],
   "source": [
    "import pandas as pd"
   ]
  },
  {
   "cell_type": "markdown",
   "id": "federal-entry",
   "metadata": {
    "slideshow": {
     "slide_type": "slide"
    }
   },
   "source": [
    "---\n",
    "## Introductory example\n",
    "\n",
    "- Consider the file `input/transport.csv`, which looks as follows:\n",
    "\n",
    "```\n",
    "country, car, bus, rail\n",
    "some more explanations, yada yada yada\n",
    "France, 86.1, 5.3, 8.6 \n",
    "Germany, 85.2, 7.1, 7.7 \n",
    "Netherlands, 86.4, 4.6, 9 \n",
    "United Kingdom, 88.2, 6.5, 5.3\n",
    "```\n",
    "\n",
    "- We now load it into a `pd.DataFrame` object using `pd.read_csv`:"
   ]
  },
  {
   "cell_type": "code",
   "execution_count": 19,
   "id": "national-transcript",
   "metadata": {
    "slideshow": {
     "slide_type": "fragment"
    }
   },
   "outputs": [
    {
     "data": {
      "text/html": [
       "<div>\n",
       "<style scoped>\n",
       "    .dataframe tbody tr th:only-of-type {\n",
       "        vertical-align: middle;\n",
       "    }\n",
       "\n",
       "    .dataframe tbody tr th {\n",
       "        vertical-align: top;\n",
       "    }\n",
       "\n",
       "    .dataframe thead th {\n",
       "        text-align: right;\n",
       "    }\n",
       "</style>\n",
       "<table border=\"1\" class=\"dataframe\">\n",
       "  <thead>\n",
       "    <tr style=\"text-align: right;\">\n",
       "      <th></th>\n",
       "      <th>car</th>\n",
       "      <th>bus</th>\n",
       "      <th>rail</th>\n",
       "    </tr>\n",
       "    <tr>\n",
       "      <th>country</th>\n",
       "      <th></th>\n",
       "      <th></th>\n",
       "      <th></th>\n",
       "    </tr>\n",
       "  </thead>\n",
       "  <tbody>\n",
       "    <tr>\n",
       "      <th>France</th>\n",
       "      <td>86.1</td>\n",
       "      <td>5.3</td>\n",
       "      <td>8.6</td>\n",
       "    </tr>\n",
       "    <tr>\n",
       "      <th>Germany</th>\n",
       "      <td>85.2</td>\n",
       "      <td>7.1</td>\n",
       "      <td>7.7</td>\n",
       "    </tr>\n",
       "    <tr>\n",
       "      <th>Netherlands</th>\n",
       "      <td>86.4</td>\n",
       "      <td>4.6</td>\n",
       "      <td>9.0</td>\n",
       "    </tr>\n",
       "    <tr>\n",
       "      <th>United Kingdom</th>\n",
       "      <td>88.2</td>\n",
       "      <td>6.5</td>\n",
       "      <td>5.3</td>\n",
       "    </tr>\n",
       "  </tbody>\n",
       "</table>\n",
       "</div>"
      ],
      "text/plain": [
       "                 car  bus  rail\n",
       "country                        \n",
       "France          86.1  5.3   8.6\n",
       "Germany         85.2  7.1   7.7\n",
       "Netherlands     86.4  4.6   9.0\n",
       "United Kingdom  88.2  6.5   5.3"
      ]
     },
     "metadata": {},
     "output_type": "display_data"
    }
   ],
   "source": [
    "tran = pd.read_csv('input/transport.csv', skiprows=[1], skipinitialspace=True, index_col=0) # Read DataFrame.\n",
    "display(tran)                                                                               # And display it."
   ]
  },
  {
   "cell_type": "markdown",
   "id": "balanced-lobby",
   "metadata": {
    "slideshow": {
     "slide_type": "fragment"
    }
   },
   "source": [
    "- The first argument specifies the path to the file.\n",
    "- We use **`skiprows=[1]`**, because we don't want to load the second row `some more explanations, yada yada yada`.\n",
    "- We use **`skipinitialspace=True`**, because we want to get rid off the leading spaces in the column names.\n",
    "- We use **`index_col=0`**, because we want to use the country names as indices.\n",
    "- The function `pd.read_csv` has **many more optional arguments**. More more information, consult the [documentation](https://pandas.pydata.org/pandas-docs/stable/reference/api/pandas.read_csv.html).\n"
   ]
  },
  {
   "cell_type": "markdown",
   "id": "entertaining-password",
   "metadata": {
    "slideshow": {
     "slide_type": "slide"
    }
   },
   "source": [
    "---\n",
    "## Basic `DataFrame` manipulation\n",
    "\n",
    "### Accessing column and index/row names"
   ]
  },
  {
   "cell_type": "code",
   "execution_count": 20,
   "id": "tutorial-senegal",
   "metadata": {
    "slideshow": {
     "slide_type": "fragment"
    }
   },
   "outputs": [
    {
     "name": "stdout",
     "output_type": "stream",
     "text": [
      "Index(['car', 'bus', 'rail'], dtype='object')\n",
      "Index(['France', 'Germany', 'Netherlands', 'United Kingdom'], dtype='object', name='country')\n"
     ]
    }
   ],
   "source": [
    "print(tran.columns) # Column names.\n",
    "print(tran.index)   # Index/row names."
   ]
  },
  {
   "cell_type": "markdown",
   "id": "french-fitness",
   "metadata": {
    "slideshow": {
     "slide_type": "slide"
    }
   },
   "source": [
    "### Accessing cells\n",
    "\n",
    "- Use the **`.iloc`** syntax to access values by **row and column number**."
   ]
  },
  {
   "cell_type": "code",
   "execution_count": 21,
   "id": "outdoor-october",
   "metadata": {
    "slideshow": {
     "slide_type": "fragment"
    }
   },
   "outputs": [
    {
     "name": "stdout",
     "output_type": "stream",
     "text": [
      "5.3\n",
      "85.2\n",
      "9.0\n",
      "car     88.2\n",
      "bus      6.5\n",
      "rail     5.3\n",
      "Name: United Kingdom, dtype: float64\n",
      "country\n",
      "France            5.3\n",
      "Germany           7.1\n",
      "Netherlands       4.6\n",
      "United Kingdom    6.5\n",
      "Name: bus, dtype: float64\n"
     ]
    }
   ],
   "source": [
    "print(tran.iloc[0, 1])  # Gives the bus data for France.\n",
    "print(tran.iloc[1, 0])  # Gives the car data for Germany.\n",
    "print(tran.iloc[2, 2])  # Gives the rail data for Netherlands.\n",
    "print(tran.iloc[3])     # All data for United Kindom.\n",
    "print(tran.iloc[:, 1])  # All data for bus."
   ]
  },
  {
   "cell_type": "markdown",
   "id": "industrial-legislature",
   "metadata": {
    "slideshow": {
     "slide_type": "slide"
    }
   },
   "source": [
    "- Use the **`.loc`** syntax to access values by **row and column names**.\n",
    "- This is a bit lengthier but **much easier to read** than the `.iloc` syntax."
   ]
  },
  {
   "cell_type": "code",
   "execution_count": 22,
   "id": "honey-indiana",
   "metadata": {
    "slideshow": {
     "slide_type": "fragment"
    }
   },
   "outputs": [
    {
     "name": "stdout",
     "output_type": "stream",
     "text": [
      "5.3\n",
      "85.2\n",
      "9.0\n",
      "car     88.2\n",
      "bus      6.5\n",
      "rail     5.3\n",
      "Name: United Kingdom, dtype: float64\n",
      "country\n",
      "France            5.3\n",
      "Germany           7.1\n",
      "Netherlands       4.6\n",
      "United Kingdom    6.5\n",
      "Name: bus, dtype: float64\n"
     ]
    }
   ],
   "source": [
    "print(tran.loc['France', 'bus'])\n",
    "print(tran.loc['Germany', 'car'])\n",
    "print(tran.loc['Netherlands', 'rail'])\n",
    "print(tran.loc['United Kingdom'])\n",
    "print(tran.loc[:, 'bus'])"
   ]
  },
  {
   "cell_type": "markdown",
   "id": "french-floor",
   "metadata": {
    "slideshow": {
     "slide_type": "slide"
    }
   },
   "source": [
    "### Accessing columns\n",
    "\n",
    "- The following two commands are equivalent:"
   ]
  },
  {
   "cell_type": "code",
   "execution_count": 23,
   "id": "running-shuttle",
   "metadata": {
    "slideshow": {
     "slide_type": "fragment"
    }
   },
   "outputs": [
    {
     "data": {
      "text/plain": [
       "country\n",
       "France            86.1\n",
       "Germany           85.2\n",
       "Netherlands       86.4\n",
       "United Kingdom    88.2\n",
       "Name: car, dtype: float64"
      ]
     },
     "execution_count": 23,
     "metadata": {},
     "output_type": "execute_result"
    }
   ],
   "source": [
    "tran['car'] # Access via column name.\n",
    "tran.car    # Access via . syntax."
   ]
  },
  {
   "cell_type": "markdown",
   "id": "acoustic-balloon",
   "metadata": {
    "slideshow": {
     "slide_type": "slide"
    }
   },
   "source": [
    "### Conditionally selecting rows"
   ]
  },
  {
   "cell_type": "code",
   "execution_count": 24,
   "id": "harmful-carry",
   "metadata": {
    "slideshow": {
     "slide_type": "fragment"
    }
   },
   "outputs": [
    {
     "data": {
      "text/html": [
       "<div>\n",
       "<style scoped>\n",
       "    .dataframe tbody tr th:only-of-type {\n",
       "        vertical-align: middle;\n",
       "    }\n",
       "\n",
       "    .dataframe tbody tr th {\n",
       "        vertical-align: top;\n",
       "    }\n",
       "\n",
       "    .dataframe thead th {\n",
       "        text-align: right;\n",
       "    }\n",
       "</style>\n",
       "<table border=\"1\" class=\"dataframe\">\n",
       "  <thead>\n",
       "    <tr style=\"text-align: right;\">\n",
       "      <th></th>\n",
       "      <th>car</th>\n",
       "      <th>bus</th>\n",
       "      <th>rail</th>\n",
       "    </tr>\n",
       "    <tr>\n",
       "      <th>country</th>\n",
       "      <th></th>\n",
       "      <th></th>\n",
       "      <th></th>\n",
       "    </tr>\n",
       "  </thead>\n",
       "  <tbody>\n",
       "    <tr>\n",
       "      <th>Germany</th>\n",
       "      <td>85.2</td>\n",
       "      <td>7.1</td>\n",
       "      <td>7.7</td>\n",
       "    </tr>\n",
       "    <tr>\n",
       "      <th>United Kingdom</th>\n",
       "      <td>88.2</td>\n",
       "      <td>6.5</td>\n",
       "      <td>5.3</td>\n",
       "    </tr>\n",
       "  </tbody>\n",
       "</table>\n",
       "</div>"
      ],
      "text/plain": [
       "                 car  bus  rail\n",
       "country                        \n",
       "Germany         85.2  7.1   7.7\n",
       "United Kingdom  88.2  6.5   5.3"
      ]
     },
     "metadata": {},
     "output_type": "display_data"
    },
    {
     "data": {
      "text/html": [
       "<div>\n",
       "<style scoped>\n",
       "    .dataframe tbody tr th:only-of-type {\n",
       "        vertical-align: middle;\n",
       "    }\n",
       "\n",
       "    .dataframe tbody tr th {\n",
       "        vertical-align: top;\n",
       "    }\n",
       "\n",
       "    .dataframe thead th {\n",
       "        text-align: right;\n",
       "    }\n",
       "</style>\n",
       "<table border=\"1\" class=\"dataframe\">\n",
       "  <thead>\n",
       "    <tr style=\"text-align: right;\">\n",
       "      <th></th>\n",
       "      <th>car</th>\n",
       "      <th>bus</th>\n",
       "      <th>rail</th>\n",
       "    </tr>\n",
       "    <tr>\n",
       "      <th>country</th>\n",
       "      <th></th>\n",
       "      <th></th>\n",
       "      <th></th>\n",
       "    </tr>\n",
       "  </thead>\n",
       "  <tbody>\n",
       "    <tr>\n",
       "      <th>France</th>\n",
       "      <td>86.1</td>\n",
       "      <td>5.3</td>\n",
       "      <td>8.6</td>\n",
       "    </tr>\n",
       "    <tr>\n",
       "      <th>Germany</th>\n",
       "      <td>85.2</td>\n",
       "      <td>7.1</td>\n",
       "      <td>7.7</td>\n",
       "    </tr>\n",
       "    <tr>\n",
       "      <th>Netherlands</th>\n",
       "      <td>86.4</td>\n",
       "      <td>4.6</td>\n",
       "      <td>9.0</td>\n",
       "    </tr>\n",
       "  </tbody>\n",
       "</table>\n",
       "</div>"
      ],
      "text/plain": [
       "              car  bus  rail\n",
       "country                     \n",
       "France       86.1  5.3   8.6\n",
       "Germany      85.2  7.1   7.7\n",
       "Netherlands  86.4  4.6   9.0"
      ]
     },
     "metadata": {},
     "output_type": "display_data"
    },
    {
     "data": {
      "text/html": [
       "<div>\n",
       "<style scoped>\n",
       "    .dataframe tbody tr th:only-of-type {\n",
       "        vertical-align: middle;\n",
       "    }\n",
       "\n",
       "    .dataframe tbody tr th {\n",
       "        vertical-align: top;\n",
       "    }\n",
       "\n",
       "    .dataframe thead th {\n",
       "        text-align: right;\n",
       "    }\n",
       "</style>\n",
       "<table border=\"1\" class=\"dataframe\">\n",
       "  <thead>\n",
       "    <tr style=\"text-align: right;\">\n",
       "      <th></th>\n",
       "      <th>car</th>\n",
       "      <th>bus</th>\n",
       "      <th>rail</th>\n",
       "    </tr>\n",
       "    <tr>\n",
       "      <th>country</th>\n",
       "      <th></th>\n",
       "      <th></th>\n",
       "      <th></th>\n",
       "    </tr>\n",
       "  </thead>\n",
       "  <tbody>\n",
       "    <tr>\n",
       "      <th>Germany</th>\n",
       "      <td>85.2</td>\n",
       "      <td>7.1</td>\n",
       "      <td>7.7</td>\n",
       "    </tr>\n",
       "  </tbody>\n",
       "</table>\n",
       "</div>"
      ],
      "text/plain": [
       "          car  bus  rail\n",
       "country                 \n",
       "Germany  85.2  7.1   7.7"
      ]
     },
     "metadata": {},
     "output_type": "display_data"
    },
    {
     "data": {
      "text/html": [
       "<div>\n",
       "<style scoped>\n",
       "    .dataframe tbody tr th:only-of-type {\n",
       "        vertical-align: middle;\n",
       "    }\n",
       "\n",
       "    .dataframe tbody tr th {\n",
       "        vertical-align: top;\n",
       "    }\n",
       "\n",
       "    .dataframe thead th {\n",
       "        text-align: right;\n",
       "    }\n",
       "</style>\n",
       "<table border=\"1\" class=\"dataframe\">\n",
       "  <thead>\n",
       "    <tr style=\"text-align: right;\">\n",
       "      <th></th>\n",
       "      <th>car</th>\n",
       "      <th>bus</th>\n",
       "      <th>rail</th>\n",
       "    </tr>\n",
       "    <tr>\n",
       "      <th>country</th>\n",
       "      <th></th>\n",
       "      <th></th>\n",
       "      <th></th>\n",
       "    </tr>\n",
       "  </thead>\n",
       "  <tbody>\n",
       "    <tr>\n",
       "      <th>France</th>\n",
       "      <td>86.1</td>\n",
       "      <td>5.3</td>\n",
       "      <td>8.6</td>\n",
       "    </tr>\n",
       "    <tr>\n",
       "      <th>Germany</th>\n",
       "      <td>85.2</td>\n",
       "      <td>7.1</td>\n",
       "      <td>7.7</td>\n",
       "    </tr>\n",
       "    <tr>\n",
       "      <th>Netherlands</th>\n",
       "      <td>86.4</td>\n",
       "      <td>4.6</td>\n",
       "      <td>9.0</td>\n",
       "    </tr>\n",
       "    <tr>\n",
       "      <th>United Kingdom</th>\n",
       "      <td>88.2</td>\n",
       "      <td>6.5</td>\n",
       "      <td>5.3</td>\n",
       "    </tr>\n",
       "  </tbody>\n",
       "</table>\n",
       "</div>"
      ],
      "text/plain": [
       "                 car  bus  rail\n",
       "country                        \n",
       "France          86.1  5.3   8.6\n",
       "Germany         85.2  7.1   7.7\n",
       "Netherlands     86.4  4.6   9.0\n",
       "United Kingdom  88.2  6.5   5.3"
      ]
     },
     "metadata": {},
     "output_type": "display_data"
    }
   ],
   "source": [
    "display(tran[tran.bus > 5.5])                       # Select rows based on 'bus' values.\n",
    "display(tran[tran.rail > 6.5])                      # Select rows based on 'rail' values.\n",
    "display(tran[(tran.bus > 5.5) & (tran.rail > 6.5)]) # Select rows based on 'bus' and 'rail' condition.\n",
    "display(tran[(tran.bus > 5.5) | (tran.rail > 6.5)]) # Select rows based on 'bus' or 'rail' condition."
   ]
  },
  {
   "cell_type": "markdown",
   "id": "green-setting",
   "metadata": {
    "slideshow": {
     "slide_type": "slide"
    }
   },
   "source": [
    "### Adding a column to a `DataFrame`\n",
    "\n",
    "- **General syntax:** `df[name_new_column] = something`. "
   ]
  },
  {
   "cell_type": "code",
   "execution_count": 25,
   "id": "apparent-complexity",
   "metadata": {
    "slideshow": {
     "slide_type": "fragment"
    }
   },
   "outputs": [
    {
     "data": {
      "text/html": [
       "<div>\n",
       "<style scoped>\n",
       "    .dataframe tbody tr th:only-of-type {\n",
       "        vertical-align: middle;\n",
       "    }\n",
       "\n",
       "    .dataframe tbody tr th {\n",
       "        vertical-align: top;\n",
       "    }\n",
       "\n",
       "    .dataframe thead th {\n",
       "        text-align: right;\n",
       "    }\n",
       "</style>\n",
       "<table border=\"1\" class=\"dataframe\">\n",
       "  <thead>\n",
       "    <tr style=\"text-align: right;\">\n",
       "      <th></th>\n",
       "      <th>car</th>\n",
       "      <th>bus</th>\n",
       "      <th>rail</th>\n",
       "      <th>public_transport</th>\n",
       "    </tr>\n",
       "    <tr>\n",
       "      <th>country</th>\n",
       "      <th></th>\n",
       "      <th></th>\n",
       "      <th></th>\n",
       "      <th></th>\n",
       "    </tr>\n",
       "  </thead>\n",
       "  <tbody>\n",
       "    <tr>\n",
       "      <th>France</th>\n",
       "      <td>86.1</td>\n",
       "      <td>5.3</td>\n",
       "      <td>8.6</td>\n",
       "      <td>13.9</td>\n",
       "    </tr>\n",
       "    <tr>\n",
       "      <th>Germany</th>\n",
       "      <td>85.2</td>\n",
       "      <td>7.1</td>\n",
       "      <td>7.7</td>\n",
       "      <td>14.8</td>\n",
       "    </tr>\n",
       "    <tr>\n",
       "      <th>Netherlands</th>\n",
       "      <td>86.4</td>\n",
       "      <td>4.6</td>\n",
       "      <td>9.0</td>\n",
       "      <td>13.6</td>\n",
       "    </tr>\n",
       "    <tr>\n",
       "      <th>United Kingdom</th>\n",
       "      <td>88.2</td>\n",
       "      <td>6.5</td>\n",
       "      <td>5.3</td>\n",
       "      <td>11.8</td>\n",
       "    </tr>\n",
       "  </tbody>\n",
       "</table>\n",
       "</div>"
      ],
      "text/plain": [
       "                 car  bus  rail  public_transport\n",
       "country                                          \n",
       "France          86.1  5.3   8.6              13.9\n",
       "Germany         85.2  7.1   7.7              14.8\n",
       "Netherlands     86.4  4.6   9.0              13.6\n",
       "United Kingdom  88.2  6.5   5.3              11.8"
      ]
     },
     "metadata": {},
     "output_type": "display_data"
    }
   ],
   "source": [
    "tran['public_transport'] = tran.rail + tran.bus # Add new column for overall public transport (rail + bus).\n",
    "display(tran)"
   ]
  },
  {
   "cell_type": "markdown",
   "id": "billion-truth",
   "metadata": {
    "slideshow": {
     "slide_type": "slide"
    }
   },
   "source": [
    "---\n",
    "## Using `numpy ` functions for `DataFrame` objects\n",
    "\n",
    "- Many `numpy` functions can be used on `pd.DataFrame` objects using the `df.<function>`, `df.column.<function>` or `df['column'].<function>` syntax."
   ]
  },
  {
   "cell_type": "code",
   "execution_count": 26,
   "id": "colored-genetics",
   "metadata": {
    "slideshow": {
     "slide_type": "fragment"
    }
   },
   "outputs": [
    {
     "name": "stdout",
     "output_type": "stream",
     "text": [
      "car                 86.475\n",
      "bus                  5.875\n",
      "rail                 7.650\n",
      "public_transport    13.525\n",
      "dtype: float64\n",
      "86.47500000000001\n",
      "86.47500000000001\n",
      "86.47500000000001\n",
      "86.47500000000001\n",
      "United Kingdom\n"
     ]
    }
   ],
   "source": [
    "print(tran.mean())        # Compute means for all columns.\n",
    "print(tran.mean().car)    # Compute means for all columns and then access the mean for 'car'.\n",
    "print(tran.mean()['car']) # Equivalent to previous command.\n",
    "print(tran.car.mean())    # Compute the mean for the 'car' column.\n",
    "print(tran['car'].mean()) # Equivalent to previous command.\n",
    "print(tran.car.idxmax())  # Find the index (i.e., country) which has the maximal value in the 'car' column."
   ]
  },
  {
   "cell_type": "markdown",
   "id": "native-papua",
   "metadata": {
    "slideshow": {
     "slide_type": "slide"
    }
   },
   "source": [
    "---\n",
    "## <a name=\"ex4\"></a>Exercise 4\n",
    "The file `input/annual_precip.csv` contains the average yearly rainfall and total land area for all the countries in the world (well, there are some missing values);  the data is available on the website of the [World Bank](http://data.worldbank.org/). Open the data file to see what it looks like. Load the data with the `read_csv` function of `pandas`, making sure that the names of the countries and the columns can be used to select a row, and perform the following tasks:\n",
    "\n",
    "* Print the first 5 lines of the `DataFrame` to the screen with the `.head()` function.\n",
    "* Print the average annual rainfall for Panama and make sure to include the units.\n",
    "* Report the total land area of the Netherlands and make sure to include the units.\n",
    "* Report all countries with an average annual rainfall less than 200 mm/year.\n",
    "* Report all countries with an average annual rainfall more than 2500 mm/year.\n",
    "* Report all countries with an average annual rainfall that is within 50 mm/year of the average annual rainfall in the Netherlands and save the results as a CSV file `output/rainfall_similar_to_nl.csv` using `pd.DataFrame.to_csv()`."
   ]
  },
  {
   "cell_type": "code",
   "execution_count": null,
   "id": "embedded-worse",
   "metadata": {
    "slideshow": {
     "slide_type": "skip"
    }
   },
   "outputs": [],
   "source": []
  },
  {
   "cell_type": "markdown",
   "id": "smaller-favorite",
   "metadata": {
    "slideshow": {
     "slide_type": "skip"
    }
   },
   "source": [
    "<a href=\"#ex4sol\">Solution for Exercise 4</a>"
   ]
  },
  {
   "cell_type": "markdown",
   "id": "israeli-effect",
   "metadata": {
    "slideshow": {
     "slide_type": "slide"
    }
   },
   "source": [
    "---\n",
    "## Statistical tests with SciPy\n",
    "\n",
    "- Another widely used package for **scientific computing**.\n",
    "- Even more functionality than NumPy.\n",
    "- Documentation can be found [here](https://docs.scipy.org/doc/scipy/reference/).\n",
    "- We'll only cover one topic: **statistical tests**, more specifically, the **two-sample $t$-test** and the **Fisher exact test**.\n",
    "\n",
    "### Importing SciPy's `stats` module"
   ]
  },
  {
   "cell_type": "code",
   "execution_count": 28,
   "id": "weird-mambo",
   "metadata": {
    "slideshow": {
     "slide_type": "fragment"
    }
   },
   "outputs": [],
   "source": [
    "from scipy import stats"
   ]
  },
  {
   "cell_type": "markdown",
   "id": "processed-booth",
   "metadata": {
    "slideshow": {
     "slide_type": "slide"
    }
   },
   "source": [
    "### Two-sample $t$-test\n",
    "\n",
    "- Compare means of two independent samples.\n",
    "- Available in SciPy as [`scipy.stats.ttest_ind()`](https://docs.scipy.org/doc/scipy/reference/generated/scipy.stats.ttest_ind.html#scipy.stats.ttest_ind).\n",
    "- The `equal_var` argument controls if sample variances are assumed to be equal (default: `True`)."
   ]
  },
  {
   "cell_type": "code",
   "execution_count": 29,
   "id": "opponent-pickup",
   "metadata": {
    "slideshow": {
     "slide_type": "fragment"
    }
   },
   "outputs": [
    {
     "name": "stdout",
     "output_type": "stream",
     "text": [
      "Ttest_indResult(statistic=3.0534915360662302, pvalue=0.002466107899967792)\n"
     ]
    }
   ],
   "source": [
    "a = np.random.random_sample(100) + 0.1       # 100 random numbers uniformly drawn from interval [0.1, 1.1).\n",
    "b = np.random.random_sample(200)             # 200 random numbers uniformly drawn from interval [0, 1).\n",
    "# Null-hypothesis: No difference in means of a and b.\n",
    "print(stats.ttest_ind(a, b, equal_var=True)) # Test returns a tuple (test-statistic, p-value)."
   ]
  },
  {
   "cell_type": "markdown",
   "id": "tribal-picnic",
   "metadata": {
    "slideshow": {
     "slide_type": "slide"
    }
   },
   "source": [
    "### Fisher exact test\n",
    "\n",
    "- Test if two dichotomous variables are independent.\n",
    "- Available in SciPy as [`scipy.stats.fisher_exact()`](https://docs.scipy.org/doc/scipy/reference/generated/scipy.stats.fisher_exact.html).\n",
    "- Use for small sample sizes (too slow, otherwise).\n",
    "- For larger sample sizes, use the $\\chi^2$-test: [`scipy.stats.chi2_contingency()`](https://docs.scipy.org/doc/scipy/reference/generated/scipy.stats.chi2_contingency.html#scipy.stats.chi2_contingency)."
   ]
  },
  {
   "cell_type": "code",
   "execution_count": 30,
   "id": "fresh-brooks",
   "metadata": {
    "slideshow": {
     "slide_type": "fragment"
    }
   },
   "outputs": [
    {
     "data": {
      "text/html": [
       "<div>\n",
       "<style scoped>\n",
       "    .dataframe tbody tr th:only-of-type {\n",
       "        vertical-align: middle;\n",
       "    }\n",
       "\n",
       "    .dataframe tbody tr th {\n",
       "        vertical-align: top;\n",
       "    }\n",
       "\n",
       "    .dataframe thead th {\n",
       "        text-align: right;\n",
       "    }\n",
       "</style>\n",
       "<table border=\"1\" class=\"dataframe\">\n",
       "  <thead>\n",
       "    <tr style=\"text-align: right;\">\n",
       "      <th></th>\n",
       "      <th>studying</th>\n",
       "      <th>not-studying</th>\n",
       "    </tr>\n",
       "  </thead>\n",
       "  <tbody>\n",
       "    <tr>\n",
       "      <th>men</th>\n",
       "      <td>1</td>\n",
       "      <td>11</td>\n",
       "    </tr>\n",
       "    <tr>\n",
       "      <th>women</th>\n",
       "      <td>9</td>\n",
       "      <td>3</td>\n",
       "    </tr>\n",
       "  </tbody>\n",
       "</table>\n",
       "</div>"
      ],
      "text/plain": [
       "       studying  not-studying\n",
       "men           1            11\n",
       "women         9             3"
      ]
     },
     "metadata": {},
     "output_type": "display_data"
    },
    {
     "name": "stdout",
     "output_type": "stream",
     "text": [
      "The null-hypothesis can be rejected with p-value 2.759E-03.\n"
     ]
    }
   ],
   "source": [
    "table = pd.DataFrame(data={'studying': [1,9], 'not-studying': [11,3]}, index=['men', 'women']) # Generate Dummy data.\n",
    "display(table)\n",
    "# Null-hypothesis: Men and women are equally likely to study.\n",
    "oddsratio, p_value = stats.fisher_exact(table.values)                                          # Run the test.\n",
    "if p_value < 0.05:\n",
    "    print(f'The null-hypothesis can be rejected with p-value {p_value:.3E}.')\n",
    "else:\n",
    "    print('The null-hypothesis cannot be rejected.')"
   ]
  },
  {
   "cell_type": "markdown",
   "id": "foster-greene",
   "metadata": {
    "slideshow": {
     "slide_type": "slide"
    }
   },
   "source": [
    "---\n",
    "## <a name=\"ex5\"></a>Exercise 5\n",
    "\n",
    "Use `scipy.stats.ttest_ind()` to compare annual rainfalls specified in `input/annual_precip.csv` in countries which are, respectively, larger and smaller than Germany. Pay attention to properly handle missing values (consult panda's documentation to learn how this can be done)."
   ]
  },
  {
   "cell_type": "code",
   "execution_count": null,
   "id": "handy-beverage",
   "metadata": {
    "slideshow": {
     "slide_type": "skip"
    }
   },
   "outputs": [],
   "source": []
  },
  {
   "cell_type": "markdown",
   "id": "competent-brief",
   "metadata": {
    "slideshow": {
     "slide_type": "skip"
    }
   },
   "source": [
    "<a href=\"#ex5sol\">Solution for Exercise 5</a>"
   ]
  },
  {
   "cell_type": "markdown",
   "id": "fantastic-monthly",
   "metadata": {
    "slideshow": {
     "slide_type": "slide"
    }
   },
   "source": [
    "---\n",
    "## Solutions for exercises"
   ]
  },
  {
   "cell_type": "markdown",
   "id": "impaired-compensation",
   "metadata": {
    "slideshow": {
     "slide_type": "subslide"
    }
   },
   "source": [
    "<a name=\"ex1sol\">Solution for Exercise 1</a>"
   ]
  },
  {
   "cell_type": "code",
   "execution_count": 4,
   "id": "experienced-vacation",
   "metadata": {
    "slideshow": {
     "slide_type": "fragment"
    }
   },
   "outputs": [
    {
     "name": "stdout",
     "output_type": "stream",
     "text": [
      "The second but last entry in the array is 40.\n"
     ]
    }
   ],
   "source": [
    "array = np.zeros(shape=20, dtype=int)\n",
    "array[:5] = 10\n",
    "array[5:15] = np.arange(start=12, stop=31, step=2)\n",
    "array[15:] = 40\n",
    "print(f'The second but last entry in the array is {array[-2]}.')"
   ]
  },
  {
   "cell_type": "markdown",
   "id": "imperial-wireless",
   "metadata": {
    "slideshow": {
     "slide_type": "skip"
    }
   },
   "source": [
    "<a href=\"#ex1\">Back to Exercise 1</a>"
   ]
  },
  {
   "cell_type": "markdown",
   "id": "optical-protocol",
   "metadata": {
    "slideshow": {
     "slide_type": "slide"
    }
   },
   "source": [
    "<a name=\"ex2sol\">Solution for Exercise 2</a>"
   ]
  },
  {
   "cell_type": "code",
   "execution_count": 6,
   "id": "alike-breed",
   "metadata": {
    "slideshow": {
     "slide_type": "fragment"
    }
   },
   "outputs": [
    {
     "name": "stdout",
     "output_type": "stream",
     "text": [
      "The array x:\n",
      "[[4 2 3 2]\n",
      " [2 4 3 1]\n",
      " [2 4 1 3]\n",
      " [4 1 2 3]]\n",
      "The first row of x:\n",
      "[4 2 3 2]\n",
      "The first column of x:\n",
      "[4 2 2 4]\n",
      "The third row of x:\n",
      "[2 4 1 3]\n",
      "The last two columns of x:\n",
      "[[3 2]\n",
      " [3 1]\n",
      " [1 3]\n",
      " [2 3]]\n",
      "The four values in the upper right hand corner:\n",
      "[[3 2]\n",
      " [3 1]]\n",
      "The four values at the center of x:\n",
      "[[4 3]\n",
      " [4 1]]\n"
     ]
    }
   ],
   "source": [
    "x = np.array([[4, 2, 3, 2],\n",
    "              [2, 4, 3, 1],\n",
    "              [2, 4, 1, 3],\n",
    "              [4, 1, 2, 3]])\n",
    "print(f'The array x:\\n{x}')\n",
    "print(f'The first row of x:\\n{x[0, :]}')\n",
    "print(f'The first column of x:\\n{x[:, 0]}')\n",
    "print(f'The third row of x:\\n{x[2, :]}')\n",
    "print(f'The last two columns of x:\\n{x[:, -2:]}')\n",
    "print(f'The four values in the upper right hand corner:\\n{x[:2, -2:]}')\n",
    "print(f'The four values at the center of x:\\n{x[1:3, 1:3]}')"
   ]
  },
  {
   "cell_type": "markdown",
   "id": "equipped-thickness",
   "metadata": {
    "slideshow": {
     "slide_type": "skip"
    }
   },
   "source": [
    "<a href=\"#ex2\">Back to Exercise 2</a>"
   ]
  },
  {
   "cell_type": "markdown",
   "id": "patient-scene",
   "metadata": {
    "slideshow": {
     "slide_type": "slide"
    }
   },
   "source": [
    "<a name=\"ex3sol\">Solution for Exercise 3</a>"
   ]
  },
  {
   "cell_type": "code",
   "execution_count": 14,
   "id": "egyptian-gasoline",
   "metadata": {
    "slideshow": {
     "slide_type": "fragment"
    }
   },
   "outputs": [],
   "source": [
    "# Read input into array using a hand-written parser.\n",
    "rows = []\n",
    "with open('input/array_a.csv') as fp:\n",
    "    for line in fp:\n",
    "        row = [float(elem) for elem in line.strip().split(',')]\n",
    "        rows.append(row)\n",
    "a = np.array(rows)\n",
    "\n",
    "# Alternatively, you can use np.loadtxt.\n",
    "# a = np.loadtxt('input/array_a.csv', delimiter=',')\n",
    "\n",
    "# Compute array b.\n",
    "b = (a.T - np.pi) * np.e\n",
    "\n",
    "# Compute array c and save it.\n",
    "c = a @ b\n",
    "with open('output/array_c.csv', 'w') as fp:\n",
    "    for row in c:\n",
    "        row_as_csv = ','.join([str(cell) for cell in row])\n",
    "        fp.write(f'{row_as_csv}\\n')"
   ]
  },
  {
   "cell_type": "code",
   "execution_count": 15,
   "id": "touched-david",
   "metadata": {
    "slideshow": {
     "slide_type": "fragment"
    }
   },
   "outputs": [
    {
     "name": "stdout",
     "output_type": "stream",
     "text": [
      "182 µs ± 69.5 µs per loop (mean ± std. dev. of 7 runs, 100 loops each)\n"
     ]
    }
   ],
   "source": [
    "%%timeit -n 100\n",
    "# Use nested for loop to compute column sums.\n",
    "d = np.zeros(shape=c.shape[1], dtype=float)\n",
    "for col in range(c.shape[1]):\n",
    "    for row in range(c.shape[0]):\n",
    "        d[col] += c[row, col]"
   ]
  },
  {
   "cell_type": "code",
   "execution_count": 16,
   "id": "likely-access",
   "metadata": {
    "slideshow": {
     "slide_type": "fragment"
    }
   },
   "outputs": [
    {
     "name": "stdout",
     "output_type": "stream",
     "text": [
      "14.6 µs ± 4.42 µs per loop (mean ± std. dev. of 7 runs, 100 loops each)\n"
     ]
    }
   ],
   "source": [
    "%%timeit -n 100\n",
    "# Use library function to compute column sums.\n",
    "d = c.sum(axis=0)"
   ]
  },
  {
   "cell_type": "markdown",
   "id": "genuine-enemy",
   "metadata": {
    "slideshow": {
     "slide_type": "skip"
    }
   },
   "source": [
    "<a href=\"#ex3\">Back to Exercise 3</a>"
   ]
  },
  {
   "cell_type": "markdown",
   "id": "detected-brazil",
   "metadata": {
    "slideshow": {
     "slide_type": "slide"
    }
   },
   "source": [
    "<a name=\"ex4sol\">Solution for Exercise 4</a>"
   ]
  },
  {
   "cell_type": "code",
   "execution_count": 27,
   "id": "final-checklist",
   "metadata": {
    "slideshow": {
     "slide_type": "fragment"
    }
   },
   "outputs": [
    {
     "name": "stdout",
     "output_type": "stream",
     "text": [
      "First five lines of rain dataset:\n"
     ]
    },
    {
     "data": {
      "text/html": [
       "<div>\n",
       "<style scoped>\n",
       "    .dataframe tbody tr th:only-of-type {\n",
       "        vertical-align: middle;\n",
       "    }\n",
       "\n",
       "    .dataframe tbody tr th {\n",
       "        vertical-align: top;\n",
       "    }\n",
       "\n",
       "    .dataframe thead th {\n",
       "        text-align: right;\n",
       "    }\n",
       "</style>\n",
       "<table border=\"1\" class=\"dataframe\">\n",
       "  <thead>\n",
       "    <tr style=\"text-align: right;\">\n",
       "      <th></th>\n",
       "      <th>precip</th>\n",
       "      <th>area</th>\n",
       "    </tr>\n",
       "    <tr>\n",
       "      <th>country</th>\n",
       "      <th></th>\n",
       "      <th></th>\n",
       "    </tr>\n",
       "  </thead>\n",
       "  <tbody>\n",
       "    <tr>\n",
       "      <th>Afghanistan</th>\n",
       "      <td>327.0</td>\n",
       "      <td>652.2</td>\n",
       "    </tr>\n",
       "    <tr>\n",
       "      <th>Albania</th>\n",
       "      <td>1485.0</td>\n",
       "      <td>27.4</td>\n",
       "    </tr>\n",
       "    <tr>\n",
       "      <th>Algeria</th>\n",
       "      <td>89.0</td>\n",
       "      <td>2381.7</td>\n",
       "    </tr>\n",
       "    <tr>\n",
       "      <th>American Samoa</th>\n",
       "      <td>NaN</td>\n",
       "      <td>0.2</td>\n",
       "    </tr>\n",
       "    <tr>\n",
       "      <th>Andorra</th>\n",
       "      <td>NaN</td>\n",
       "      <td>0.5</td>\n",
       "    </tr>\n",
       "  </tbody>\n",
       "</table>\n",
       "</div>"
      ],
      "text/plain": [
       "                precip    area\n",
       "country                       \n",
       "Afghanistan      327.0   652.2\n",
       "Albania         1485.0    27.4\n",
       "Algeria           89.0  2381.7\n",
       "American Samoa     NaN     0.2\n",
       "Andorra            NaN     0.5"
      ]
     },
     "metadata": {},
     "output_type": "display_data"
    },
    {
     "name": "stdout",
     "output_type": "stream",
     "text": [
      "\n",
      "Average annual rainfall in Panama is 2692.0 mm/year.\n",
      "\n",
      "Land area of the Netherlands is 33.7 thousand km^2.\n",
      "\n",
      "Countries where average rainfall is below 200 mm/year:\n"
     ]
    },
    {
     "data": {
      "text/html": [
       "<div>\n",
       "<style scoped>\n",
       "    .dataframe tbody tr th:only-of-type {\n",
       "        vertical-align: middle;\n",
       "    }\n",
       "\n",
       "    .dataframe tbody tr th {\n",
       "        vertical-align: top;\n",
       "    }\n",
       "\n",
       "    .dataframe thead th {\n",
       "        text-align: right;\n",
       "    }\n",
       "</style>\n",
       "<table border=\"1\" class=\"dataframe\">\n",
       "  <thead>\n",
       "    <tr style=\"text-align: right;\">\n",
       "      <th></th>\n",
       "      <th>precip</th>\n",
       "      <th>area</th>\n",
       "    </tr>\n",
       "    <tr>\n",
       "      <th>country</th>\n",
       "      <th></th>\n",
       "      <th></th>\n",
       "    </tr>\n",
       "  </thead>\n",
       "  <tbody>\n",
       "    <tr>\n",
       "      <th>Algeria</th>\n",
       "      <td>89.0</td>\n",
       "      <td>2381.7</td>\n",
       "    </tr>\n",
       "    <tr>\n",
       "      <th>Bahrain</th>\n",
       "      <td>83.0</td>\n",
       "      <td>0.8</td>\n",
       "    </tr>\n",
       "    <tr>\n",
       "      <th>Egypt, Arab Rep.</th>\n",
       "      <td>51.0</td>\n",
       "      <td>995.5</td>\n",
       "    </tr>\n",
       "    <tr>\n",
       "      <th>Jordan</th>\n",
       "      <td>111.0</td>\n",
       "      <td>88.8</td>\n",
       "    </tr>\n",
       "    <tr>\n",
       "      <th>Kuwait</th>\n",
       "      <td>121.0</td>\n",
       "      <td>17.8</td>\n",
       "    </tr>\n",
       "    <tr>\n",
       "      <th>Libya</th>\n",
       "      <td>56.0</td>\n",
       "      <td>1759.5</td>\n",
       "    </tr>\n",
       "    <tr>\n",
       "      <th>Mauritania</th>\n",
       "      <td>92.0</td>\n",
       "      <td>1030.7</td>\n",
       "    </tr>\n",
       "    <tr>\n",
       "      <th>Niger</th>\n",
       "      <td>151.0</td>\n",
       "      <td>1266.7</td>\n",
       "    </tr>\n",
       "    <tr>\n",
       "      <th>Oman</th>\n",
       "      <td>125.0</td>\n",
       "      <td>309.5</td>\n",
       "    </tr>\n",
       "    <tr>\n",
       "      <th>Qatar</th>\n",
       "      <td>74.0</td>\n",
       "      <td>11.6</td>\n",
       "    </tr>\n",
       "    <tr>\n",
       "      <th>Saudi Arabia</th>\n",
       "      <td>59.0</td>\n",
       "      <td>2149.7</td>\n",
       "    </tr>\n",
       "    <tr>\n",
       "      <th>Turkmenistan</th>\n",
       "      <td>161.0</td>\n",
       "      <td>469.9</td>\n",
       "    </tr>\n",
       "    <tr>\n",
       "      <th>United Arab Emirates</th>\n",
       "      <td>78.0</td>\n",
       "      <td>83.6</td>\n",
       "    </tr>\n",
       "    <tr>\n",
       "      <th>Yemen, Rep.</th>\n",
       "      <td>167.0</td>\n",
       "      <td>528.0</td>\n",
       "    </tr>\n",
       "  </tbody>\n",
       "</table>\n",
       "</div>"
      ],
      "text/plain": [
       "                      precip    area\n",
       "country                             \n",
       "Algeria                 89.0  2381.7\n",
       "Bahrain                 83.0     0.8\n",
       "Egypt, Arab Rep.        51.0   995.5\n",
       "Jordan                 111.0    88.8\n",
       "Kuwait                 121.0    17.8\n",
       "Libya                   56.0  1759.5\n",
       "Mauritania              92.0  1030.7\n",
       "Niger                  151.0  1266.7\n",
       "Oman                   125.0   309.5\n",
       "Qatar                   74.0    11.6\n",
       "Saudi Arabia            59.0  2149.7\n",
       "Turkmenistan           161.0   469.9\n",
       "United Arab Emirates    78.0    83.6\n",
       "Yemen, Rep.            167.0   528.0"
      ]
     },
     "metadata": {},
     "output_type": "display_data"
    },
    {
     "name": "stdout",
     "output_type": "stream",
     "text": [
      "\n",
      "Countries where average rainfall is above 2500 mm/year:\n"
     ]
    },
    {
     "data": {
      "text/html": [
       "<div>\n",
       "<style scoped>\n",
       "    .dataframe tbody tr th:only-of-type {\n",
       "        vertical-align: middle;\n",
       "    }\n",
       "\n",
       "    .dataframe tbody tr th {\n",
       "        vertical-align: top;\n",
       "    }\n",
       "\n",
       "    .dataframe thead th {\n",
       "        text-align: right;\n",
       "    }\n",
       "</style>\n",
       "<table border=\"1\" class=\"dataframe\">\n",
       "  <thead>\n",
       "    <tr style=\"text-align: right;\">\n",
       "      <th></th>\n",
       "      <th>precip</th>\n",
       "      <th>area</th>\n",
       "    </tr>\n",
       "    <tr>\n",
       "      <th>country</th>\n",
       "      <th></th>\n",
       "      <th></th>\n",
       "    </tr>\n",
       "  </thead>\n",
       "  <tbody>\n",
       "    <tr>\n",
       "      <th>Bangladesh</th>\n",
       "      <td>2666.0</td>\n",
       "      <td>130.2</td>\n",
       "    </tr>\n",
       "    <tr>\n",
       "      <th>Brunei Darussalam</th>\n",
       "      <td>2722.0</td>\n",
       "      <td>5.3</td>\n",
       "    </tr>\n",
       "    <tr>\n",
       "      <th>Colombia</th>\n",
       "      <td>2612.0</td>\n",
       "      <td>1109.5</td>\n",
       "    </tr>\n",
       "    <tr>\n",
       "      <th>Costa Rica</th>\n",
       "      <td>2926.0</td>\n",
       "      <td>51.1</td>\n",
       "    </tr>\n",
       "    <tr>\n",
       "      <th>Fiji</th>\n",
       "      <td>2592.0</td>\n",
       "      <td>18.3</td>\n",
       "    </tr>\n",
       "    <tr>\n",
       "      <th>Indonesia</th>\n",
       "      <td>2702.0</td>\n",
       "      <td>1811.6</td>\n",
       "    </tr>\n",
       "    <tr>\n",
       "      <th>Malaysia</th>\n",
       "      <td>2875.0</td>\n",
       "      <td>328.6</td>\n",
       "    </tr>\n",
       "    <tr>\n",
       "      <th>Panama</th>\n",
       "      <td>2692.0</td>\n",
       "      <td>74.3</td>\n",
       "    </tr>\n",
       "    <tr>\n",
       "      <th>Papua New Guinea</th>\n",
       "      <td>3142.0</td>\n",
       "      <td>452.9</td>\n",
       "    </tr>\n",
       "    <tr>\n",
       "      <th>Sao Tome and Principe</th>\n",
       "      <td>3200.0</td>\n",
       "      <td>1.0</td>\n",
       "    </tr>\n",
       "    <tr>\n",
       "      <th>Sierra Leone</th>\n",
       "      <td>2526.0</td>\n",
       "      <td>71.6</td>\n",
       "    </tr>\n",
       "    <tr>\n",
       "      <th>Solomon Islands</th>\n",
       "      <td>3028.0</td>\n",
       "      <td>28.0</td>\n",
       "    </tr>\n",
       "  </tbody>\n",
       "</table>\n",
       "</div>"
      ],
      "text/plain": [
       "                       precip    area\n",
       "country                              \n",
       "Bangladesh             2666.0   130.2\n",
       "Brunei Darussalam      2722.0     5.3\n",
       "Colombia               2612.0  1109.5\n",
       "Costa Rica             2926.0    51.1\n",
       "Fiji                   2592.0    18.3\n",
       "Indonesia              2702.0  1811.6\n",
       "Malaysia               2875.0   328.6\n",
       "Panama                 2692.0    74.3\n",
       "Papua New Guinea       3142.0   452.9\n",
       "Sao Tome and Principe  3200.0     1.0\n",
       "Sierra Leone           2526.0    71.6\n",
       "Solomon Islands        3028.0    28.0"
      ]
     },
     "metadata": {},
     "output_type": "display_data"
    },
    {
     "name": "stdout",
     "output_type": "stream",
     "text": [
      "\n",
      "Countries with almost the same rainfall as Netherlands:\n"
     ]
    },
    {
     "data": {
      "text/html": [
       "<div>\n",
       "<style scoped>\n",
       "    .dataframe tbody tr th:only-of-type {\n",
       "        vertical-align: middle;\n",
       "    }\n",
       "\n",
       "    .dataframe tbody tr th {\n",
       "        vertical-align: top;\n",
       "    }\n",
       "\n",
       "    .dataframe thead th {\n",
       "        text-align: right;\n",
       "    }\n",
       "</style>\n",
       "<table border=\"1\" class=\"dataframe\">\n",
       "  <thead>\n",
       "    <tr style=\"text-align: right;\">\n",
       "      <th></th>\n",
       "      <th>precip</th>\n",
       "      <th>area</th>\n",
       "    </tr>\n",
       "    <tr>\n",
       "      <th>country</th>\n",
       "      <th></th>\n",
       "      <th></th>\n",
       "    </tr>\n",
       "  </thead>\n",
       "  <tbody>\n",
       "    <tr>\n",
       "      <th>Burkina Faso</th>\n",
       "      <td>748.0</td>\n",
       "      <td>273.6</td>\n",
       "    </tr>\n",
       "    <tr>\n",
       "      <th>Lesotho</th>\n",
       "      <td>788.0</td>\n",
       "      <td>30.4</td>\n",
       "    </tr>\n",
       "    <tr>\n",
       "      <th>Mexico</th>\n",
       "      <td>752.0</td>\n",
       "      <td>1944.0</td>\n",
       "    </tr>\n",
       "    <tr>\n",
       "      <th>Netherlands</th>\n",
       "      <td>778.0</td>\n",
       "      <td>33.7</td>\n",
       "    </tr>\n",
       "    <tr>\n",
       "      <th>Slovak Republic</th>\n",
       "      <td>824.0</td>\n",
       "      <td>48.1</td>\n",
       "    </tr>\n",
       "    <tr>\n",
       "      <th>Swaziland</th>\n",
       "      <td>788.0</td>\n",
       "      <td>17.2</td>\n",
       "    </tr>\n",
       "  </tbody>\n",
       "</table>\n",
       "</div>"
      ],
      "text/plain": [
       "                 precip    area\n",
       "country                        \n",
       "Burkina Faso      748.0   273.6\n",
       "Lesotho           788.0    30.4\n",
       "Mexico            752.0  1944.0\n",
       "Netherlands       778.0    33.7\n",
       "Slovak Republic   824.0    48.1\n",
       "Swaziland         788.0    17.2"
      ]
     },
     "metadata": {},
     "output_type": "display_data"
    }
   ],
   "source": [
    "rain = pd.read_csv('input/annual_precip.csv', skiprows=2, index_col=0)\n",
    "\n",
    "print('First five lines of rain dataset:')\n",
    "display(rain.head())\n",
    "\n",
    "print(f\"\\nAverage annual rainfall in Panama is {rain.loc['Panama','precip']} mm/year.\")\n",
    "\n",
    "print(f\"\\nLand area of the Netherlands is {rain.loc['Netherlands','area']} thousand km^2.\")\n",
    "\n",
    "print('\\nCountries where average rainfall is below 200 mm/year:')\n",
    "display(rain[ rain.precip < 200 ])\n",
    "\n",
    "print('\\nCountries where average rainfall is above 2500 mm/year:')\n",
    "display(rain[ rain.precip > 2500 ])\n",
    "\n",
    "print('\\nCountries with almost the same rainfall as Netherlands:')\n",
    "rainfall_similar_nl = rain[abs(rain.loc['Netherlands','precip'] - rain.precip) < 50]\n",
    "display(rainfall_similar_nl)\n",
    "rainfall_similar_nl.to_csv('output/rainfall_similar_to_nl.csv')"
   ]
  },
  {
   "cell_type": "markdown",
   "id": "virgin-concentration",
   "metadata": {
    "slideshow": {
     "slide_type": "skip"
    }
   },
   "source": [
    "<a href=\"#ex4\">Back to Exercise 4</a>"
   ]
  },
  {
   "cell_type": "markdown",
   "id": "artificial-horizon",
   "metadata": {
    "slideshow": {
     "slide_type": "slide"
    }
   },
   "source": [
    "<a name=\"ex5sol\">Solution for Exercise 5</a>"
   ]
  },
  {
   "cell_type": "code",
   "execution_count": 31,
   "id": "dried-laugh",
   "metadata": {
    "slideshow": {
     "slide_type": "fragment"
    }
   },
   "outputs": [
    {
     "name": "stdout",
     "output_type": "stream",
     "text": [
      "Two-sided test\n",
      "Test statistic: -3.8724171826322746\n",
      "P value: 0.00016960348441481194\n",
      "---\n",
      "One-sided test\n",
      "Test statistic: -3.8724171826322746\n",
      "P value: 8.480174220740597e-05\n"
     ]
    }
   ],
   "source": [
    "rain = pd.read_csv('input/annual_precip.csv', skiprows=2, index_col=0)              # Load the data.\n",
    "rain.dropna(inplace=True)                                                           # Discard rows with missing data.\n",
    "rain_in_larger = rain.precip[rain.area >= rain.loc['Germany', 'area']].values       # Rainfall in larger countries.\n",
    "rain_in_smaller = rain.precip[rain.area < rain.loc['Germany', 'area']].values       # Rainfall in smaller countries.\n",
    "t_stat, p_value = stats.ttest_ind(rain_in_larger, rain_in_smaller, equal_var=False) # Run two-sided test.\n",
    "print(f'Two-sided test\\nTest statistic: {t_stat}\\nP value: {p_value}')\n",
    "# Run one-sided test.\n",
    "t_stat, p_value = stats.ttest_ind(rain_in_larger, rain_in_smaller, equal_var=False, alternative='less')\n",
    "print(f'---\\nOne-sided test\\nTest statistic: {t_stat}\\nP value: {p_value}')"
   ]
  },
  {
   "cell_type": "markdown",
   "id": "neutral-aside",
   "metadata": {
    "slideshow": {
     "slide_type": "skip"
    }
   },
   "source": [
    "<a href=\"#ex5\">Back to Exercise 5</a>"
   ]
  }
 ],
 "metadata": {
  "celltoolbar": "Slideshow",
  "kernelspec": {
   "display_name": "python-intro",
   "language": "python",
   "name": "python-intro"
  },
  "language_info": {
   "codemirror_mode": {
    "name": "ipython",
    "version": 3
   },
   "file_extension": ".py",
   "mimetype": "text/x-python",
   "name": "python",
   "nbconvert_exporter": "python",
   "pygments_lexer": "ipython3",
   "version": "3.10.4"
  },
  "latex_envs": {
   "LaTeX_envs_menu_present": true,
   "autoclose": false,
   "autocomplete": true,
   "bibliofile": "biblio.bib",
   "cite_by": "apalike",
   "current_citInitial": 1,
   "eqLabelWithNumbers": true,
   "eqNumInitial": 1,
   "hotkeys": {
    "equation": "Ctrl-E",
    "itemize": "Ctrl-I"
   },
   "labels_anchors": false,
   "latex_user_defs": false,
   "report_style_numbering": false,
   "user_envs_cfg": false
  }
 },
 "nbformat": 4,
 "nbformat_minor": 5
}
