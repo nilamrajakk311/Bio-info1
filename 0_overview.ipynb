{
 "cells": [
  {
   "cell_type": "markdown",
   "id": "executive-asian",
   "metadata": {
    "slideshow": {
     "slide_type": "slide"
    }
   },
   "source": [
    "<figure>\n",
    "  <IMG SRC=\"input/FAU.png\" WIDTH=250 ALIGN=\"right\">\n",
    "</figure>\n",
    "\n",
    "# Introduction to Python for Bioinformatics\n",
    "    \n",
    "*David B. Blumenthal, Suryadipto Sarkar*"
   ]
  },
  {
   "cell_type": "markdown",
   "id": "cubic-narrow",
   "metadata": {
    "slideshow": {
     "slide_type": "slide"
    }
   },
   "source": [
    "---\n",
    "## Python is the most popular programming language in the world\n",
    "\n",
    "|Rank|Language|Share|\n",
    "|---|---|---|\n",
    "|1|Python|30.17 %|\n",
    "|2|Java|17.18 %|\n",
    "|3|JavaScript|8.21 %|\n",
    "|4|C#|6.76 %|\n",
    "|5|C/C++|6.71 %|\n",
    "\n",
    "- Data from [PYPL PopularitY of Programming Language Index March 2021](https://pypl.github.io/PYPL.html).\n",
    "- Based on numbers of Google searches for language tutorials."
   ]
  },
  {
   "cell_type": "markdown",
   "id": "biblical-saturn",
   "metadata": {
    "slideshow": {
     "slide_type": "slide"
    }
   },
   "source": [
    "<figure>\n",
    "  <IMG SRC=\"input/growth_major_languages.png\" WIDTH=750>\n",
    "</figure>\n",
    "    \n",
    "- Figure from https://stackoverflow.blog/2017/09/06/incredible-growth-python/."
   ]
  },
  {
   "cell_type": "markdown",
   "id": "pacific-gross",
   "metadata": {
    "slideshow": {
     "slide_type": "slide"
    }
   },
   "source": [
    "---\n",
    "## Some advantages of Python (I)\n",
    "\n",
    "- Very **easy syntax**.\n",
    "- **Multi-purpose** programming language.\n",
    "- **Powerful packages** for many applications, e.g.:\n",
    "  - Scientific computing.\n",
    "  - Data handling.\n",
    "  - Statistics.\n",
    "  - Machine learning.\n",
    "  - Plotting."
   ]
  },
  {
   "cell_type": "markdown",
   "id": "8aa1b6dd",
   "metadata": {
    "slideshow": {
     "slide_type": "slide"
    }
   },
   "source": [
    "- Many packages have **very efficient C, C++, or Fortran backends**. \n",
    "- $\\Longrightarrow$ Well-designed Python code is often not only **easy to read**, but also **fast**."
   ]
  },
  {
   "cell_type": "markdown",
   "id": "determined-howard",
   "metadata": {
    "slideshow": {
     "slide_type": "slide"
    }
   },
   "source": [
    "---\n",
    "## Topics covered in this course"
   ]
  },
  {
   "cell_type": "markdown",
   "id": "clean-ordering",
   "metadata": {
    "slideshow": {
     "slide_type": "slide"
    }
   },
   "source": [
    "### `1_first_steps.ipynb`\n",
    "- Numbers.\n",
    "- Containers.\n",
    "- Comparisons.\n",
    "- Boolean operations\n",
    "- If/else-statements\n",
    "- Loops\n",
    "- List, dictionary, and set comprehension.\n",
    "- I/O."
   ]
  },
  {
   "cell_type": "markdown",
   "id": "false-arthritis",
   "metadata": {
    "slideshow": {
     "slide_type": "slide"
    }
   },
   "source": [
    "## `2_data_handling.ipynb`\n",
    "\n",
    "- Number crunching with [NumPy](https://numpy.org/).\n",
    "- Data management with [pandas](https://pandas.pydata.org/).\n",
    "- Statistical tests with [SciPy](https://scipy.org/)."
   ]
  },
  {
   "cell_type": "markdown",
   "id": "alien-wayne",
   "metadata": {
    "slideshow": {
     "slide_type": "slide"
    }
   },
   "source": [
    "### `3_functions_and_classes.ipynb`\n",
    "\n",
    "- Define your own functions.\n",
    "- Define your own classes."
   ]
  },
  {
   "cell_type": "markdown",
   "id": "accessible-moore",
   "metadata": {
    "slideshow": {
     "slide_type": "slide"
    }
   },
   "source": [
    "### `4_visualization_with_seaborn.ipynb`\n",
    "\n",
    "- Visualize data with [seaborn](https://seaborn.pydata.org/)."
   ]
  },
  {
   "cell_type": "markdown",
   "id": "oriented-treatment",
   "metadata": {
    "slideshow": {
     "slide_type": "slide"
    }
   },
   "source": [
    "### `5_gene_set_enrichment_analysis_with_gseapy.ipynb`\n",
    "\n",
    "- Carry out gene set enrichment analysis with [GSEApy](https://gseapy.readthedocs.io/en/latest/index.html)."
   ]
  },
  {
   "cell_type": "markdown",
   "id": "curious-opposition",
   "metadata": {
    "slideshow": {
     "slide_type": "slide"
    }
   },
   "source": [
    "### `6_sequence_analysis_with_biopython.ipynb`\n",
    "\n",
    "- Sequence analysis with [Biopython](https://biopython.org/).\n",
    "- Read and write FASTA files.\n",
    "- Query BLAST.\n",
    "- Obtain metadata from NCBI Entrez."
   ]
  },
  {
   "cell_type": "markdown",
   "id": "55140cae",
   "metadata": {
    "slideshow": {
     "slide_type": "slide"
    }
   },
   "source": [
    "### `7_image_classification_using_keras.ipynb`\n",
    "\n",
    "- Get a first glimpse at how to classify images with deep learning approaches."
   ]
  },
  {
   "cell_type": "markdown",
   "id": "olive-stereo",
   "metadata": {
    "slideshow": {
     "slide_type": "slide"
    }
   },
   "source": [
    "---\n",
    "## Topics not covered in this course\n",
    "\n",
    "- There are two ways to use Python:\n",
    "  - As a **user**.\n",
    "  - As a **package developer**.\n",
    "- This course focuses on the **user perspective**.\n",
    "- We will not cover topics that are more relevant for package developers, e.g.:\n",
    "  - How to structure Python packages.\n",
    "  - How to document Python packages, classes, and functions.\n",
    "  - How to make Python packages easily accessible to users."
   ]
  },
  {
   "cell_type": "markdown",
   "id": "weird-vampire",
   "metadata": {
    "slideshow": {
     "slide_type": "slide"
    }
   },
   "source": [
    "---\n",
    "## What we expect of you\n",
    "\n",
    "- Please always try to solve the exercises **without looking at the solutions** given at the bottom of the Notebooks.\n",
    "- If you have questions, **ask them immediately**."
   ]
  },
  {
   "cell_type": "markdown",
   "id": "058a2536",
   "metadata": {
    "slideshow": {
     "slide_type": "slide"
    }
   },
   "source": [
    "---\n",
    "## Grading\n",
    "\n",
    "- At the end of the course, you will be able to select from a couple of small toy projects.\n",
    "- Implement your own Jupyter notebook to solve the project and send it to us for grading.\n",
    "- You will be graded based on two criteria:\n",
    "  - Do the notebooks run bug-free?\n",
    "  - Tidyness and readibility of the code."
   ]
  },
  {
   "cell_type": "markdown",
   "id": "c09dc0c0",
   "metadata": {
    "slideshow": {
     "slide_type": "slide"
    }
   },
   "source": [
    "---\n",
    "## Plagiarism\n",
    "\n",
    "- Even if >= 2 of you pick the same project, you are expected to solve it independently.\n",
    "- **If we detect plagiarism, we will have to let you fail.**\n",
    "- That would be very stupid, because otherwise failing this course will be very difficult."
   ]
  }
 ],
 "metadata": {
  "celltoolbar": "Slideshow",
  "kernelspec": {
   "display_name": "python-intro",
   "language": "python",
   "name": "python-intro"
  },
  "language_info": {
   "codemirror_mode": {
    "name": "ipython",
    "version": 3
   },
   "file_extension": ".py",
   "mimetype": "text/x-python",
   "name": "python",
   "nbconvert_exporter": "python",
   "pygments_lexer": "ipython3",
   "version": "3.8.8"
  },
  "latex_envs": {
   "LaTeX_envs_menu_present": true,
   "autoclose": false,
   "autocomplete": true,
   "bibliofile": "biblio.bib",
   "cite_by": "apalike",
   "current_citInitial": 1,
   "eqLabelWithNumbers": true,
   "eqNumInitial": 1,
   "hotkeys": {
    "equation": "Ctrl-E",
    "itemize": "Ctrl-I"
   },
   "labels_anchors": false,
   "latex_user_defs": false,
   "report_style_numbering": false,
   "user_envs_cfg": false
  }
 },
 "nbformat": 4,
 "nbformat_minor": 5
}
