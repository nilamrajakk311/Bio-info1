{
 "cells": [
  {
   "cell_type": "markdown",
   "id": "charitable-adventure",
   "metadata": {
    "slideshow": {
     "slide_type": "slide"
    }
   },
   "source": [
    "<figure>\n",
    "  <IMG SRC=\"input/FAU.png\" WIDTH=250 ALIGN=\"right\">\n",
    "</figure>\n",
    "\n",
    "# Functions and Classes in Python 3\n",
    "    \n",
    "*David B. Blumenthal, Suryadipto Sarkar*"
   ]
  },
  {
   "cell_type": "markdown",
   "id": "handy-groove",
   "metadata": {
    "slideshow": {
     "slide_type": "fragment"
    }
   },
   "source": [
    "### Things we will learn today\n",
    "\n",
    "- How to **write and use your own functions**.\n",
    "- How to **write and use your own classes**.\n",
    "\n",
    "### Things we will not learn today\n",
    "\n",
    "- Proper documentation of classes and functions via docstrings.\n",
    "- Inheritence / derived classes.\n",
    "- Abstract classes."
   ]
  },
  {
   "cell_type": "code",
   "execution_count": 1,
   "id": "amino-legend",
   "metadata": {
    "slideshow": {
     "slide_type": "skip"
    }
   },
   "outputs": [],
   "source": [
    "import numpy as np\n",
    "import pandas as pd\n",
    "import scipy.stats as stats"
   ]
  },
  {
   "cell_type": "markdown",
   "id": "insured-remark",
   "metadata": {
    "slideshow": {
     "slide_type": "slide"
    }
   },
   "source": [
    "---\n",
    "## Functions\n",
    "\n",
    "- We've already used functions in the previous notebooks.\n",
    "- E.g., `np.zeros()` is a function that returns a NumPy array.\n",
    "- But we can also **define our own functions**.\n",
    "\n",
    "$$\n",
    "f(x)=\\begin{cases}\\cos(x)& \\text{if $x<0$}\\\\ \\exp(-x)& \\text{if $x\\geq0$}\\end{cases}\n",
    "$$\n",
    "\n",
    "### Defining a function"
   ]
  },
  {
   "cell_type": "code",
   "execution_count": 2,
   "id": "developing-affairs",
   "metadata": {
    "slideshow": {
     "slide_type": "fragment"
    }
   },
   "outputs": [],
   "source": [
    "def f(x):\n",
    "    if x < 0:\n",
    "        return np.cos(x)\n",
    "    return np.exp(-x)"
   ]
  },
  {
   "cell_type": "markdown",
   "id": "contemporary-lemon",
   "metadata": {
    "slideshow": {
     "slide_type": "fragment"
    }
   },
   "source": [
    "### Using a function"
   ]
  },
  {
   "cell_type": "code",
   "execution_count": 3,
   "id": "numerical-pharmacology",
   "metadata": {
    "slideshow": {
     "slide_type": "fragment"
    }
   },
   "outputs": [
    {
     "name": "stdout",
     "output_type": "stream",
     "text": [
      "f(3) = 0.049787068367863944\n"
     ]
    }
   ],
   "source": [
    "print(f'f(3) = {f(3)}')"
   ]
  },
  {
   "cell_type": "markdown",
   "id": "computational-visibility",
   "metadata": {
    "slideshow": {
     "slide_type": "slide"
    }
   },
   "source": [
    "---\n",
    "## <a name=\"ex1\"></a>Exercise 1\n",
    "\n",
    "Write a Python function for $g_\\alpha(x)=e^{-\\alpha x}\\cos(x)$, where $x$ and $\\alpha$ are passed as input parameters.\n",
    "\n",
    "Subsequently, use list comprehension to compute the list $(g_3(n))_{n=1}^{5}$ and print the result."
   ]
  },
  {
   "cell_type": "code",
   "execution_count": null,
   "id": "broad-dealer",
   "metadata": {
    "slideshow": {
     "slide_type": "skip"
    }
   },
   "outputs": [],
   "source": []
  },
  {
   "cell_type": "markdown",
   "id": "integrated-custom",
   "metadata": {
    "slideshow": {
     "slide_type": "skip"
    }
   },
   "source": [
    "<a href=\"#ex1sol\">Solution for Exercise 1</a>"
   ]
  },
  {
   "cell_type": "markdown",
   "id": "creative-whole",
   "metadata": {
    "slideshow": {
     "slide_type": "slide"
    }
   },
   "source": [
    "---\n",
    "## Positional arguments and keyword arguments\n",
    "\n",
    "- Functions can have **positional arguments**, followed by **keyword arguments**\n",
    "\n",
    "```python\n",
    "def func(pos_arg_1, pos_arg_2, kwarg_1 = kwarg_default_1, kwarg_2 = kwarg_default_2):\n",
    "    # do something\n",
    "```\n",
    "\n",
    "- Positional arguments must be entered.\n",
    "- Keyword arguments have a default value and can be entered in any order using the `kwarg=value` syntax.\n",
    "\n",
    "### An example\n",
    "\n",
    "\n",
    "- Implement function $h_{a,b}(x,y)=a\\cos(\\pi x+b y)$.\n",
    "- The parameters should have default $a=1$ and $b=2$."
   ]
  },
  {
   "cell_type": "code",
   "execution_count": 5,
   "id": "palestinian-threshold",
   "metadata": {
    "slideshow": {
     "slide_type": "fragment"
    }
   },
   "outputs": [
    {
     "name": "stdout",
     "output_type": "stream",
     "text": [
      "0.653643620863612\n",
      "0.653643620863612\n",
      "1.307287241727224\n",
      "0.4161468365471423\n",
      "0.8322936730942846\n"
     ]
    }
   ],
   "source": [
    "def h(x, y, a=1, b=2):\n",
    "      return a * np.cos(np.pi * x + b * y)\n",
    "print(h(1, 2))                             # Use defaults.\n",
    "print(h(1, 2, a=1, b=2))                   # Equivalent to above call.\n",
    "print(h(1, 2, a=2))                        # Use non-default values for a.\n",
    "print(h(1, 2, b=1))                        # Use non-default values for b.\n",
    "print(h(1, 2, a=2, b=1))                   # Use non-default values for both a and b."
   ]
  },
  {
   "cell_type": "markdown",
   "id": "valid-arctic",
   "metadata": {
    "slideshow": {
     "slide_type": "slide"
    }
   },
   "source": [
    "---\n",
    "## Local variables\n",
    "\n",
    "- You can define local variables inside a function, which **aren't visible globally**."
   ]
  },
  {
   "cell_type": "code",
   "execution_count": 6,
   "id": "trained-baker",
   "metadata": {
    "slideshow": {
     "slide_type": "fragment"
    }
   },
   "outputs": [
    {
     "name": "stdout",
     "output_type": "stream",
     "text": [
      "10! = 3628800\n"
     ]
    },
    {
     "ename": "NameError",
     "evalue": "name 'fact' is not defined",
     "output_type": "error",
     "traceback": [
      "\u001b[0;31m---------------------------------------------------------------------------\u001b[0m",
      "\u001b[0;31mNameError\u001b[0m                                 Traceback (most recent call last)",
      "Input \u001b[0;32mIn [6]\u001b[0m, in \u001b[0;36m<cell line: 8>\u001b[0;34m()\u001b[0m\n\u001b[1;32m      5\u001b[0m     \u001b[38;5;28mprint\u001b[39m(\u001b[38;5;124mf\u001b[39m\u001b[38;5;124m'\u001b[39m\u001b[38;5;132;01m{\u001b[39;00mn\u001b[38;5;132;01m}\u001b[39;00m\u001b[38;5;124m! = \u001b[39m\u001b[38;5;132;01m{\u001b[39;00mfact\u001b[38;5;132;01m}\u001b[39;00m\u001b[38;5;124m'\u001b[39m) \u001b[38;5;66;03m# This works, too.\u001b[39;00m\n\u001b[1;32m      7\u001b[0m factorial(\u001b[38;5;241m10\u001b[39m)\n\u001b[0;32m----> 8\u001b[0m \u001b[38;5;28mprint\u001b[39m(\u001b[43mfact\u001b[49m)\n",
      "\u001b[0;31mNameError\u001b[0m: name 'fact' is not defined"
     ]
    }
   ],
   "source": [
    "def factorial(n):\n",
    "    fact = 1                # The variable fact is not visible outside the function.\n",
    "    for i in range(2, n+1):\n",
    "        fact *= i           # This works.\n",
    "    print(f'{n}! = {fact}') # This works, too.\n",
    "\n",
    "factorial(10)\n",
    "print(fact)                 # This produces an error."
   ]
  },
  {
   "cell_type": "markdown",
   "id": "skilled-computer",
   "metadata": {
    "slideshow": {
     "slide_type": "slide"
    }
   },
   "source": [
    "---\n",
    "## Anonymous functions \n",
    "\n",
    "- You can **define simple, anonymous functions on the fly**, using lambda expressions.\n",
    "\n",
    "```python\n",
    "lambda arguments: return_value_1 if condition else return_value_2\n",
    "```\n",
    "\n",
    "- Useful for use in functions like `map(func, seq)`, `filter(func, seq)`, or `sorted()`, which expect functions as arguments.\n",
    "\n",
    "### Example using `map`\n",
    "\n",
    "- **`map(func, seq)`** applies `func` to each element in `seq` and returns a `map` object, which can be cast to `list`, `tuple`, or `set`."
   ]
  },
  {
   "cell_type": "code",
   "execution_count": 7,
   "id": "focal-aluminum",
   "metadata": {
    "slideshow": {
     "slide_type": "fragment"
    }
   },
   "outputs": [
    {
     "name": "stdout",
     "output_type": "stream",
     "text": [
      "[0, 1.0, 0.2, 0.25, 0.16666666666666666, 0.125, 0.09090909090909091, 0.3333333333333333, 0.08333333333333333]\n"
     ]
    }
   ],
   "source": [
    "my_list = [0, 1, 5, 4, 6, 8, 11, 3, 12]\n",
    "print(list(map(lambda x: 1 / x if x != 0 else 0, my_list)))"
   ]
  },
  {
   "cell_type": "markdown",
   "id": "macro-update",
   "metadata": {
    "slideshow": {
     "slide_type": "slide"
    }
   },
   "source": [
    "### Example using `filter`\n",
    "\n",
    "- **`filter(func, seq)`** applies `func` to each element in `seq` and returns a `filter` object containing each element `elem` of `seq` with `bool(func(elem))==True`."
   ]
  },
  {
   "cell_type": "code",
   "execution_count": 8,
   "id": "incorporate-occasions",
   "metadata": {
    "slideshow": {
     "slide_type": "fragment"
    }
   },
   "outputs": [
    {
     "name": "stdout",
     "output_type": "stream",
     "text": [
      "[1, 5, 4, 6, 8, 11, 3, 12]\n"
     ]
    }
   ],
   "source": [
    "print(list(filter(lambda x: 1 if x != 0 else 0, my_list)))"
   ]
  },
  {
   "cell_type": "markdown",
   "id": "double-stevens",
   "metadata": {
    "slideshow": {
     "slide_type": "fragment"
    }
   },
   "source": [
    "### Example using `sorted`\n",
    "\n",
    "- **`sorted(iterable, key=None, reverse=False)`** sorts `iterable`.\n",
    "- If `key` is specified, it serves as key for the sort comparison.\n",
    "- If `reverse=True`, `iterable` is sorted in descending order."
   ]
  },
  {
   "cell_type": "code",
   "execution_count": 9,
   "id": "loved-driver",
   "metadata": {
    "slideshow": {
     "slide_type": "fragment"
    }
   },
   "outputs": [
    {
     "name": "stdout",
     "output_type": "stream",
     "text": [
      "[(0, 0), (1, 1), (2, 5), (3, 4), (4, 6), (5, 8), (6, 11), (7, 3), (8, 12)]\n",
      "[(0, 0), (1, 1), (2, 5), (3, 4), (4, 6), (5, 8), (6, 11), (7, 3), (8, 12)]\n",
      "[(0, 0), (1, 1), (7, 3), (3, 4), (2, 5), (4, 6), (5, 8), (6, 11), (8, 12)]\n"
     ]
    }
   ],
   "source": [
    "my_tuples = [(index, elem) for index, elem in enumerate(my_list)]\n",
    "print(my_tuples)                             # Print list of tuples.\n",
    "print(sorted(my_tuples))                     # Nothing happens, since by default, tuples are sorted by first entry.\n",
    "print(sorted(my_tuples, key=lambda t: t[1])) # Sort the tuples by second entry."
   ]
  },
  {
   "cell_type": "markdown",
   "id": "impossible-norfolk",
   "metadata": {
    "slideshow": {
     "slide_type": "slide"
    }
   },
   "source": [
    "---\n",
    "## Pass by assignment\n",
    "\n",
    "- In Python, function arguments are **passed by assignment**.\n",
    "- When you call a function, each **function argument becomes a variable to which the passed value is assigned**.\n",
    "\n",
    "### How does assignment work?\n",
    "\n",
    "\n",
    "- If the assignment target is an identifier, or variable name, then this name is bound to the object. For example, in `x = l` for some already initialized list `l`, the name `x` is bound to the list object referenced by  `l`.\n",
    "- If the name is already bound to a separate object, then it’s re-bound to the new object. For example, if `x` is already `l` and you issue `x = 3`, then the variable name `x` is re-bound to `3`."
   ]
  },
  {
   "cell_type": "markdown",
   "id": "geological-shadow",
   "metadata": {
    "slideshow": {
     "slide_type": "slide"
    }
   },
   "source": [
    "\n",
    "### Important for functions that are or are not supposed to modify their arguments!"
   ]
  },
  {
   "cell_type": "code",
   "execution_count": 10,
   "id": "olympic-natural",
   "metadata": {
    "slideshow": {
     "slide_type": "fragment"
    }
   },
   "outputs": [
    {
     "name": "stdout",
     "output_type": "stream",
     "text": [
      "Before calling append_2_to_list_correct: [0, 1]\n",
      "CORRECT Before appending 2: [0, 1]\n",
      "CORRECT After appending 2: [0, 1, 2]\n",
      "After calling append_2_to_list_correct: [0, 1, 2]\n",
      "---\n",
      "Before calling append_2_to_list_buggy: [0, 1]\n",
      "BUGGY Before appending 2: [0, 1]\n",
      "BUGGY After appending 2: [0, 1, 2]\n",
      "After calling append_2_to_list_buggy: [0, 1]\n"
     ]
    }
   ],
   "source": [
    "def append_2_to_list_correct(l):\n",
    "    print(f'CORRECT Before appending 2: {l}')\n",
    "    l.append(2)\n",
    "    print(f'CORRECT After appending 2: {l}')\n",
    "\n",
    "l = [0, 1]\n",
    "print(f'Before calling append_2_to_list_correct: {l}')\n",
    "append_2_to_list_correct(l)\n",
    "print(f'After calling append_2_to_list_correct: {l}')\n",
    "    \n",
    "def append_2_to_list_buggy(l):\n",
    "    print(f'BUGGY Before appending 2: {l}')\n",
    "    l = l + [2]\n",
    "    print(f'BUGGY After appending 2: {l}')\n",
    "\n",
    "l = [0, 1]\n",
    "print(f'---\\nBefore calling append_2_to_list_buggy: {l}')\n",
    "append_2_to_list_buggy(l)\n",
    "print(f'After calling append_2_to_list_buggy: {l}')"
   ]
  },
  {
   "cell_type": "markdown",
   "id": "invalid-hybrid",
   "metadata": {
    "slideshow": {
     "slide_type": "slide"
    }
   },
   "source": [
    "---\n",
    "## <a name=\"ex2\"></a>Exercise 2\n",
    "The function `f`, which we wrote earlier in this notebook, implements the following function\n",
    "\n",
    "$$\n",
    "f(x)=\\begin{cases}\\cos(x) & \\text{if $x<0$}\\\\ \\exp(-x)& \\text{if $x\\geq0$}\\end{cases}\n",
    "$$\n",
    "\n",
    "- Derive an analytic expression (by hand) for the first derivative of $f(x)$ and implement it in a Python function `f_prime(x)`.\n",
    "\n",
    "- Implement a Python function `numerical_derivative(g, x, d)`, which for any function $g$, numerically computes an approximate derivative as follows:\n",
    "\n",
    "$$\\mathrm{numerical\\_derivative}(g,x,d)=\\frac{g(x+d)-g(x-d)}{2d}$$\n",
    "\n",
    "- Compare the two derivatives for different values of $x$ and $d$."
   ]
  },
  {
   "cell_type": "markdown",
   "id": "south-northern",
   "metadata": {
    "slideshow": {
     "slide_type": "skip"
    }
   },
   "source": [
    "<a href=\"#ex2sol\">Solution for Exercise 2</a>"
   ]
  },
  {
   "cell_type": "markdown",
   "id": "elementary-equilibrium",
   "metadata": {
    "slideshow": {
     "slide_type": "slide"
    }
   },
   "source": [
    "---\n",
    "## Classes\n",
    "\n",
    "- In Python, everything is an **object instantiating a class**.\n",
    "- Classes have **member variables** (used to store data) and **member functions**.\n",
    "- Unlike in other programming languages, **all members variables and functions are public**.\n",
    "- **Convention:** members starting with **_** should not (but can) be accessed from outside the class.\n",
    "\n",
    "### A very simply class"
   ]
  },
  {
   "cell_type": "code",
   "execution_count": 12,
   "id": "brazilian-phrase",
   "metadata": {
    "slideshow": {
     "slide_type": "fragment"
    }
   },
   "outputs": [],
   "source": [
    "class Date(object):\n",
    "    \n",
    "    # Constructor, called when creating a Date object.\n",
    "    def __init__(self, day, month, year):\n",
    "        self.day = day       # A member variable.\n",
    "        self.month = month   # Another member variable.\n",
    "        self.year = year     # Yet another member variable.\n",
    "    \n",
    "    # Returns a unique string representation of the object. \n",
    "    # Should contain enough information to allow reconstructing the object.\n",
    "    def __repr__(self):\n",
    "        return f'{self.day}/{self.month}/{self.year}'"
   ]
  },
  {
   "cell_type": "markdown",
   "id": "outdoor-probability",
   "metadata": {
    "slideshow": {
     "slide_type": "slide"
    }
   },
   "source": [
    "### So far, our `Date` class cannot do much"
   ]
  },
  {
   "cell_type": "code",
   "execution_count": 13,
   "id": "naval-workstation",
   "metadata": {
    "slideshow": {
     "slide_type": "fragment"
    }
   },
   "outputs": [
    {
     "name": "stdout",
     "output_type": "stream",
     "text": [
      "25/3/2021\n",
      "25/3/2020\n"
     ]
    }
   ],
   "source": [
    "# Construct a Date object.\n",
    "date = Date(25,3,2021)\n",
    "print(date)\n",
    "# Change one of its member variables.\n",
    "date.year = 2020\n",
    "print(date)"
   ]
  },
  {
   "cell_type": "markdown",
   "id": "possible-wings",
   "metadata": {
    "slideshow": {
     "slide_type": "slide"
    }
   },
   "source": [
    "### Implementing `==`, `!=`, `<`, `>`, `<=`, and `>=`"
   ]
  },
  {
   "cell_type": "code",
   "execution_count": 14,
   "id": "enhanced-ecuador",
   "metadata": {
    "slideshow": {
     "slide_type": "fragment"
    }
   },
   "outputs": [],
   "source": [
    "class Date(object):\n",
    "    \n",
    "    # Constructor, called when creating a Date object.\n",
    "    def __init__(self, day, month, year):\n",
    "        self.day = day       # A member variable.\n",
    "        self.month = month   # Another member variable.\n",
    "        self.year = year     # Yet another member variable.\n",
    "    \n",
    "    # Returns a unique string representation of the object. \n",
    "    # Should contain enough information to allow reconstructing the object.\n",
    "    def __repr__(self):\n",
    "        return f'{self.day}/{self.month}/{self.year}'\n",
    "    \n",
    "    # Should return True if (self == other).\n",
    "    def __eq__(self, other):\n",
    "        return self.day == other.day and self.month == other.month and self.year == other.year\n",
    "    \n",
    "    # Should return (self < other).\n",
    "    def __lt__(self, other):\n",
    "        if self.year < other.year:\n",
    "            return True\n",
    "        elif self.year > other.year:\n",
    "            return False\n",
    "        elif self.month < other.month:\n",
    "            return True\n",
    "        elif self.month > other.month:\n",
    "            return False\n",
    "        elif self.day < other.day:\n",
    "            return True\n",
    "        else:\n",
    "            return False\n",
    "    \n",
    "    # Should return (self <= other).\n",
    "    def __le__(self, other):\n",
    "        return self.__lt__(other) or self.__eq__(other)"
   ]
  },
  {
   "cell_type": "markdown",
   "id": "dominican-internship",
   "metadata": {},
   "source": [
    "### Example usage"
   ]
  },
  {
   "cell_type": "code",
   "execution_count": 15,
   "id": "favorite-preference",
   "metadata": {},
   "outputs": [
    {
     "name": "stdout",
     "output_type": "stream",
     "text": [
      "False\n",
      "True\n",
      "False\n",
      "True\n",
      "False\n",
      "True\n"
     ]
    }
   ],
   "source": [
    "date_1 = Date(29,10,2017) # A date.\n",
    "date_2 = Date(3,4,2001)   # Another date.\n",
    "print(date_1 == date_2)   # Calls date_1.__eq__(date_2).\n",
    "print(date_1 != date_2)   # Calls date_1.__ne__(date_2). The implementation of __ne__() is inferred from __eq__().\n",
    "print(date_1 < date_2)    # Calls date_1.__lt__(date_2).\n",
    "print(date_1 > date_2)    # Calls date_1.__gt__(date_2). The implementation of __gt__() is inferred from __lt__().\n",
    "print(date_1 <= date_2)   # Calls date_1.__le__(date_2).\n",
    "print(date_1 >= date_2)   # Calls date_1.__ge__(date_2). The implementation of __ge__() is inferred from __le__()."
   ]
  },
  {
   "cell_type": "markdown",
   "id": "adjustable-genome",
   "metadata": {},
   "source": [
    "### Static variables and methods\n",
    "\n",
    "- Static variables and methods are defined and accessed on the **class level** rather than on the instance level.\n",
    "- They **cannot use data stored in class instances**. "
   ]
  },
  {
   "cell_type": "code",
   "execution_count": 32,
   "id": "arbitrary-science",
   "metadata": {},
   "outputs": [],
   "source": [
    "class Date(object):\n",
    "    \n",
    "    # Two static variables.\n",
    "    month_name_to_number = {'January': 1, 'February': 2, 'March': 3, 'April': 4, 'May': 5, 'June': 6, 'July': 7, \n",
    "                            'August': 8, 'September': 9, 'October': 10, 'November': 11, 'December': 12}\n",
    "    month_abbrv_to_number = {month[:3]: number for month, number in Date.month_name_to_number.items()}\n",
    "    \n",
    "    # A static method.\n",
    "    @staticmethod\n",
    "    def get_month_number(month):\n",
    "        month_name_or_abbrv = month[0].upper() + month[1:].lower()\n",
    "        number = None\n",
    "        if len(month_name_or_abbrv) <= 3:\n",
    "            number = Date.month_abbrv_to_number.get(month_name_or_abbrv)\n",
    "        else:\n",
    "            number = Date.month_name_to_number.get(month_name_or_abbrv)\n",
    "        if number:\n",
    "            return number\n",
    "        else:\n",
    "            print(f'WARNING: Invalid month {month}.')\n",
    "            \n",
    "    def __init__(self, day, month, year):\n",
    "        self.day = day       \n",
    "        self.month = month   \n",
    "        self.year = year     \n",
    "    \n",
    "    def __repr__(self):\n",
    "        return f'{self.day}/{self.month}/{self.year}'"
   ]
  },
  {
   "cell_type": "markdown",
   "id": "efficient-ecology",
   "metadata": {
    "slideshow": {
     "slide_type": "slide"
    }
   },
   "source": [
    "### Using static variables and functions"
   ]
  },
  {
   "cell_type": "code",
   "execution_count": 33,
   "id": "qualified-layout",
   "metadata": {
    "slideshow": {
     "slide_type": "fragment"
    }
   },
   "outputs": [
    {
     "name": "stdout",
     "output_type": "stream",
     "text": [
      "{'January': 1, 'February': 2, 'March': 3, 'April': 4, 'May': 5, 'June': 6, 'July': 7, 'August': 8, 'September': 9, 'October': 10, 'November': 11, 'December': 12}\n",
      "{'Jan': 1, 'Feb': 2, 'Mar': 3, 'Apr': 4, 'May': 5, 'Jun': 6, 'Jul': 7, 'Aug': 8, 'Sep': 9, 'Oct': 10, 'Nov': 11, 'Dec': 12}\n",
      "1\n"
     ]
    }
   ],
   "source": [
    "print(Date.month_name_to_number)        # Access static variable.\n",
    "print(Date.month_abbrv_to_number)       # Access static variable.\n",
    "print(Date.get_month_number(\"January\")) # Access static function."
   ]
  },
  {
   "cell_type": "markdown",
   "id": "constant-terry",
   "metadata": {
    "slideshow": {
     "slide_type": "slide"
    }
   },
   "source": [
    "---\n",
    "## <a name=\"ex3\"></a>Exercise 3\n",
    "\n",
    "- Extend the constructor of `Date` such that it also accepts month names and three letter abbreviations.\n",
    "- Extend the `Date` class with two member functions `days_in_current_month()` and `is_valid()`.\n",
    "  - The function `days_in_current_month()` should return the number of days in the current month (pay attention to take care of leap years).\n",
    "  - The function `is_valid()` should return True if the date is valid and False otherwise.\n",
    "- Extend the constructor of `Date` such that it prints a warning if the constructed date is invalid.\n",
    "- Test the newly implemented functionality."
   ]
  },
  {
   "cell_type": "code",
   "execution_count": null,
   "id": "unlike-liquid",
   "metadata": {
    "slideshow": {
     "slide_type": "skip"
    }
   },
   "outputs": [],
   "source": []
  },
  {
   "cell_type": "markdown",
   "id": "demanding-adams",
   "metadata": {
    "slideshow": {
     "slide_type": "skip"
    }
   },
   "source": [
    "<a href=\"#ex3sol\">Solution for Exercise 3</a>"
   ]
  },
  {
   "cell_type": "markdown",
   "id": "associate-cooperation",
   "metadata": {
    "slideshow": {
     "slide_type": "slide"
    }
   },
   "source": [
    "---\n",
    "## Solutions for exercises"
   ]
  },
  {
   "cell_type": "markdown",
   "id": "behavioral-conviction",
   "metadata": {
    "slideshow": {
     "slide_type": "slide"
    }
   },
   "source": [
    "<a name=\"ex1sol\">Solution for Exercise 1</a>"
   ]
  },
  {
   "cell_type": "code",
   "execution_count": 35,
   "id": "guilty-insurance",
   "metadata": {
    "slideshow": {
     "slide_type": "fragment"
    }
   },
   "outputs": [
    {
     "name": "stdout",
     "output_type": "stream",
     "text": [
      "[0.02690006784157161, -0.0010315248769040485, -0.00012217478005274374, -4.016125209984385e-06, 8.67729207718202e-08]\n"
     ]
    }
   ],
   "source": [
    "def g(x, alpha):\n",
    "    return np.exp(-alpha * x) * np.cos(x)\n",
    "print([g(n, 3) for n in range(1, 6)])"
   ]
  },
  {
   "cell_type": "markdown",
   "id": "thorough-compilation",
   "metadata": {
    "slideshow": {
     "slide_type": "skip"
    }
   },
   "source": [
    "<a href=\"#ex1\">Back to Exercise 1</a>"
   ]
  },
  {
   "cell_type": "markdown",
   "id": "happy-imperial",
   "metadata": {
    "slideshow": {
     "slide_type": "slide"
    }
   },
   "source": [
    "<a name=\"ex2sol\">Solution for Exercise 2</a>"
   ]
  },
  {
   "cell_type": "code",
   "execution_count": 11,
   "id": "leading-mumbai",
   "metadata": {
    "slideshow": {
     "slide_type": "fragment"
    }
   },
   "outputs": [
    {
     "name": "stdout",
     "output_type": "stream",
     "text": [
      "f'(1) = -0.36787944117144233\n",
      "numeric_derivative(f, 1, 0.001) = -0.3678795024846526\n",
      "numeric_derivative(f, 1, 1) = -0.43233235838169365\n",
      "---\n",
      "f'(-5) = -0.9589242746631385\n",
      "numeric_derivative(f, -5, 0.001) = -0.9589241148427741\n",
      "numeric_derivative(f, -5, 1) = -0.8069069537569891\n"
     ]
    }
   ],
   "source": [
    "def f_prime(x):\n",
    "    if x < 0:\n",
    "        return -np.sin(x)\n",
    "    return -np.exp(-x)\n",
    "\n",
    "def numeric_derivative(g, x, d):\n",
    "    return (g(x + d) - g(x - d))/(2 * d)\n",
    "\n",
    "x = 1\n",
    "print(f\"f'({x}) = {f_prime(x)}\")\n",
    "d=0.001\n",
    "print(f\"numeric_derivative(f, {x}, {d}) = {numeric_derivative(f, x, d)}\")\n",
    "d=1\n",
    "print(f\"numeric_derivative(f, {x}, {d}) = {numeric_derivative(f, x, d)}\")\n",
    "x = -5\n",
    "d=0.001\n",
    "print(f\"---\\nf'({x}) = {f_prime(x)}\")\n",
    "print(f\"numeric_derivative(f, {x}, {d}) = {numeric_derivative(f, x, d)}\")\n",
    "d=1\n",
    "print(f\"numeric_derivative(f, {x}, {d}) = {numeric_derivative(f, x, d)}\")"
   ]
  },
  {
   "cell_type": "markdown",
   "id": "hawaiian-status",
   "metadata": {
    "slideshow": {
     "slide_type": "skip"
    }
   },
   "source": [
    "<a href=\"#ex2\">Back to Exercise 2</a>"
   ]
  },
  {
   "cell_type": "markdown",
   "id": "angry-category",
   "metadata": {
    "slideshow": {
     "slide_type": "slide"
    }
   },
   "source": [
    "<a name=\"ex3sol\">Solution for Exercise 3</a>"
   ]
  },
  {
   "cell_type": "code",
   "execution_count": 34,
   "id": "realistic-alliance",
   "metadata": {
    "slideshow": {
     "slide_type": "fragment"
    }
   },
   "outputs": [
    {
     "name": "stdout",
     "output_type": "stream",
     "text": [
      "WARNING: 29/2/2021 is no valid date.\n"
     ]
    }
   ],
   "source": [
    "class Date(object):\n",
    "    \n",
    "    month_name_to_number = {'January': 1, 'February': 2, 'March': 3, 'April': 4, 'May': 5, 'June': 6, 'July': 7, \n",
    "                            'August': 8, 'September': 9, 'October': 10, 'November': 11, 'December': 12}\n",
    "    month_abbrv_to_number = {month[:3]: number for month, number in Date.month_name_to_number.items()}\n",
    "    \n",
    "    @staticmethod\n",
    "    def get_month_number(month):\n",
    "        month_name_or_abbrv = month[0].upper() + month[1:].lower()\n",
    "        number = None\n",
    "        if len(month_name_or_abbrv) <= 3:\n",
    "            number = Date.month_abbrv_to_number.get(month_name_or_abbrv)\n",
    "        else:\n",
    "            number = Date.month_name_to_number.get(month_name_or_abbrv)\n",
    "        if number:\n",
    "            return number\n",
    "        else:\n",
    "            print(f'WARNING: Invalid month {month}.')\n",
    "    \n",
    "    def __init__(self, day, month, year):\n",
    "        self.day = day\n",
    "        if isinstance(month, str):\n",
    "            month = self.get_month_number(month)\n",
    "        self.month = month\n",
    "        self.year = year\n",
    "        if not self.is_valid():\n",
    "            print(f'WARNING: {self} is no valid date.')\n",
    "    \n",
    "    def __repr__(self):\n",
    "        return f'{self.day}/{self.month}/{self.year}'\n",
    "    \n",
    "    def __eq__(self, other):\n",
    "        return self.day == other.day and self.month == other.month and self.year == other.year\n",
    "    \n",
    "    def __lt__(self, other):\n",
    "        if self.year < other.year:\n",
    "            return True\n",
    "        elif self.year > other.year:\n",
    "            return False\n",
    "        elif self.month < other.month:\n",
    "            return True\n",
    "        elif self.month > other.month:\n",
    "            return False\n",
    "        elif self.day < other.day:\n",
    "            return True\n",
    "        else:\n",
    "            return False\n",
    "        \n",
    "    def __le__(self, other):\n",
    "        return self.__lt__(other) or self.__eq__(other)\n",
    "    \n",
    "    def current_year_is_leap_year(self):\n",
    "        return self.year % 4 == 0 and (self.year % 100 != 0 or self.year % 400 == 0)\n",
    "    \n",
    "    def days_in_current_month(self):\n",
    "        if self.month == 2:\n",
    "            if self.current_year_is_leap_year():\n",
    "                return 29\n",
    "            else:\n",
    "                return 28\n",
    "        elif self.month in {1, 3, 5, 7, 8, 10, 12}:\n",
    "            return 31\n",
    "        else:\n",
    "            return 20\n",
    "    \n",
    "    def is_valid(self):\n",
    "        valid_year = isinstance(self.year, int)\n",
    "        valid_month = isinstance(self.month, int) and self.month in range(1, 13)\n",
    "        valid_day = isinstance(self.day, int) and self.day in range(1, self.days_in_current_month() + 1)\n",
    "        return valid_year and valid_month and valid_day\n",
    "    \n",
    "invalid_date = Date(29, 'Feb', 2021)\n",
    "valid_date = Date(29,2,2020)"
   ]
  },
  {
   "cell_type": "markdown",
   "id": "handed-rocket",
   "metadata": {
    "slideshow": {
     "slide_type": "skip"
    }
   },
   "source": [
    "<a href=\"#ex3\">Back to Exercise 3</a>"
   ]
  }
 ],
 "metadata": {
  "celltoolbar": "Slideshow",
  "kernelspec": {
   "display_name": "python-intro",
   "language": "python",
   "name": "python-intro"
  },
  "language_info": {
   "codemirror_mode": {
    "name": "ipython",
    "version": 3
   },
   "file_extension": ".py",
   "mimetype": "text/x-python",
   "name": "python",
   "nbconvert_exporter": "python",
   "pygments_lexer": "ipython3",
   "version": "3.10.4"
  },
  "latex_envs": {
   "LaTeX_envs_menu_present": true,
   "autoclose": false,
   "autocomplete": true,
   "bibliofile": "biblio.bib",
   "cite_by": "apalike",
   "current_citInitial": 1,
   "eqLabelWithNumbers": true,
   "eqNumInitial": 1,
   "hotkeys": {
    "equation": "Ctrl-E",
    "itemize": "Ctrl-I"
   },
   "labels_anchors": false,
   "latex_user_defs": false,
   "report_style_numbering": false,
   "user_envs_cfg": false
  }
 },
 "nbformat": 4,
 "nbformat_minor": 5
}
