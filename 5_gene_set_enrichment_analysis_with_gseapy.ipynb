{
 "cells": [
  {
   "cell_type": "markdown",
   "metadata": {
    "slideshow": {
     "slide_type": "slide"
    }
   },
   "source": [
    "<figure>\n",
    "  <IMG SRC=\"input/FAU.png\" WIDTH=250 ALIGN=\"right\">\n",
    "</figure>\n",
    "\n",
    "# GSEApy: Gene Set Enrichment Analysis in Python\n",
    "    \n",
    "*David B. Blumenthal*, *Suryadipto Sarkar*"
   ]
  },
  {
   "cell_type": "markdown",
   "metadata": {
    "slideshow": {
     "slide_type": "slide"
    }
   },
   "source": [
    "\n",
    "---\n",
    "## GSEApy is a python implementation for GSEA and wrapper for Enrichr.\n",
    "\n",
    "\n",
    "It’s used for convenient GO enrichments and produce publication-quality figures from python.\n",
    "\n",
    "GSEAPY could be used for RNA-seq, ChIP-seq, Microarry data.\n",
    "\n",
    "Gene Set Enrichment Analysis (GSEA) is a computational method that determines whether an a priori defined set of genes shows statistically significant, concordant differences between two biological states (e.g. phenotypes).\n",
    "\n",
    "The full GSEA is far too extensive to describe here; see GSEA documentation for more information.\n"
   ]
  },
  {
   "cell_type": "markdown",
   "metadata": {
    "slideshow": {
     "slide_type": "slide"
    }
   },
   "source": [
    "### GSEApy has six sub-commands available: `gsea`, `prerank`, `ssgsea`, `replot` `enrichr`, `biomart`.\n",
    "\n",
    "* The `gsea` module produces GSEA results. The input requries a txt file(FPKM, Expected Counts, TPM, et.al), a cls file, and gene_sets file in gmt format.\n",
    "\n",
    "* The `prerank` module produces **Prerank tool**  results. The input expects a pre-ranked gene list dataset with correlation values, provided in .rnk format, and gene_sets file in gmt format. `prerank` module is an API to GSEA pre-rank tools.\n",
    "\n",
    "* The `ssgsea` module performs **single sample GSEA(ssGSEA)** analysis. The input expects a pd.Series (indexed by gene name), or a pd.DataFrame (include `GCT` file) with expression values and a `GMT` file. For multiple sample input, ssGSEA reconigzes gct format, too. ssGSEA enrichment score for the gene set is described by [D. Barbie et al 2009](http://www.nature.com/nature/journal/v462/n7269/abs/nature08460.html).\n",
    "\n",
    "* The `replot` module reproduce GSEA desktop version results. The only input for GSEApy is the location to `GSEA` Desktop output results.\n",
    "\n",
    "* The `enrichr` module enable you perform gene set enrichment analysis using `Enrichr` API. Enrichr is open source and freely available online at: http://amp.pharm.mssm.edu/Enrichr . It runs very fast.\n",
    "\n",
    "* The `biomart` module helps you convert gene ids using BioMart API."
   ]
  },
  {
   "cell_type": "code",
   "execution_count": 1,
   "metadata": {
    "slideshow": {
     "slide_type": "notes"
    }
   },
   "outputs": [
    {
     "data": {
      "text/plain": [
       "'0.10.8'"
      ]
     },
     "execution_count": 1,
     "metadata": {},
     "output_type": "execute_result"
    }
   ],
   "source": [
    "import gseapy as gp\n",
    "import pandas as pd\n",
    "gp.__version__\n"
   ]
  },
  {
   "cell_type": "markdown",
   "metadata": {
    "slideshow": {
     "slide_type": "slide"
    }
   },
   "source": [
    "## 1. Enrichr\n",
    "\n",
    "### Enrichr is a web-based tool for gene over-representation analysis using functional annotations. Enrichr has more than 30 geneset libraries.  \n",
    "\n",
    "![Benjamin Bannekat](https://media.springernature.com/lw685/springer-static/image/art%3A10.1186%2F1471-2105-14-128/MediaObjects/12859_2013_Article_5841_Fig1_HTML.jpg?as=webp)\n",
    "\n",
    "Enrichr is open source and freely available online at: http://amp.pharm.mssm.edu/Enrichr \n",
    "---\n"
   ]
  },
  {
   "cell_type": "markdown",
   "metadata": {
    "slideshow": {
     "slide_type": "slide"
    }
   },
   "source": [
    "### Data format\n",
    "\n",
    "The only thing you need to prepare is a gene list file.\n",
    "\n",
    "Note: Enrichr uses a list of Entrez gene symbols as input.\n",
    "\n",
    "For enrichr, you can either use a list of genes or directly pass a .txt file to `gene_list`.\n",
    "### Read an example `gene_list.txt` file"
   ]
  },
  {
   "cell_type": "code",
   "execution_count": 2,
   "metadata": {
    "slideshow": {
     "slide_type": "fragment"
    }
   },
   "outputs": [
    {
     "data": {
      "text/html": [
       "<div>\n",
       "<style scoped>\n",
       "    .dataframe tbody tr th:only-of-type {\n",
       "        vertical-align: middle;\n",
       "    }\n",
       "\n",
       "    .dataframe tbody tr th {\n",
       "        vertical-align: top;\n",
       "    }\n",
       "\n",
       "    .dataframe thead th {\n",
       "        text-align: right;\n",
       "    }\n",
       "</style>\n",
       "<table border=\"1\" class=\"dataframe\">\n",
       "  <thead>\n",
       "    <tr style=\"text-align: right;\">\n",
       "      <th></th>\n",
       "      <th>0</th>\n",
       "    </tr>\n",
       "  </thead>\n",
       "  <tbody>\n",
       "    <tr>\n",
       "      <th>0</th>\n",
       "      <td>IGKV4-1</td>\n",
       "    </tr>\n",
       "    <tr>\n",
       "      <th>1</th>\n",
       "      <td>CD55</td>\n",
       "    </tr>\n",
       "    <tr>\n",
       "      <th>2</th>\n",
       "      <td>IGKC</td>\n",
       "    </tr>\n",
       "    <tr>\n",
       "      <th>3</th>\n",
       "      <td>PPFIBP1</td>\n",
       "    </tr>\n",
       "    <tr>\n",
       "      <th>4</th>\n",
       "      <td>ABHD4</td>\n",
       "    </tr>\n",
       "  </tbody>\n",
       "</table>\n",
       "</div>"
      ],
      "text/plain": [
       "                 0\n",
       "0          IGKV4-1\n",
       "1             CD55\n",
       "2             IGKC\n",
       "3          PPFIBP1\n",
       "4            ABHD4"
      ]
     },
     "execution_count": 2,
     "metadata": {},
     "output_type": "execute_result"
    }
   ],
   "source": [
    "gene_list = pd.read_csv(\"input/gene_list.txt\",header=None, sep=\"\\t\")\n",
    "gene_list.head()"
   ]
  },
  {
   "cell_type": "markdown",
   "metadata": {
    "slideshow": {
     "slide_type": "fragment"
    }
   },
   "source": [
    "Make a list out of it:"
   ]
  },
  {
   "cell_type": "code",
   "execution_count": 3,
   "metadata": {
    "slideshow": {
     "slide_type": "fragment"
    }
   },
   "outputs": [
    {
     "name": "stdout",
     "output_type": "stream",
     "text": [
      "['IGKV4-1', 'CD55', 'IGKC', 'PPFIBP1', 'ABHD4', 'PCSK6', 'PGD', 'ARHGDIB', 'ITGB2', 'CARD6']\n"
     ]
    }
   ],
   "source": [
    "glist = gene_list.squeeze().str.strip().tolist()\n",
    "print(glist[:10])"
   ]
  },
  {
   "cell_type": "markdown",
   "metadata": {
    "slideshow": {
     "slide_type": "slide"
    }
   },
   "source": [
    "\n",
    "\n",
    "### Various libraries support:\n"
   ]
  },
  {
   "cell_type": "code",
   "execution_count": 4,
   "metadata": {
    "slideshow": {
     "slide_type": "fragment"
    }
   },
   "outputs": [
    {
     "data": {
      "text/plain": [
       "['ARCHS4_Cell-lines',\n",
       " 'ARCHS4_IDG_Coexp',\n",
       " 'ARCHS4_Kinases_Coexp',\n",
       " 'ARCHS4_TFs_Coexp',\n",
       " 'ARCHS4_Tissues',\n",
       " 'Achilles_fitness_decrease',\n",
       " 'Achilles_fitness_increase',\n",
       " 'Aging_Perturbations_from_GEO_down',\n",
       " 'Aging_Perturbations_from_GEO_up',\n",
       " 'Allen_Brain_Atlas_10x_scRNA_2021']"
      ]
     },
     "execution_count": 4,
     "metadata": {},
     "output_type": "execute_result"
    }
   ],
   "source": [
    "names = gp.get_library_name() # default: Human\n",
    "names[:10]"
   ]
  },
  {
   "cell_type": "markdown",
   "metadata": {
    "slideshow": {
     "slide_type": "slide"
    }
   },
   "source": [
    "### Various organisms support\n",
    "Select database from { ‘Human’, ‘Mouse’, ‘Yeast’, ‘Fly’, ‘Fish’, ‘Worm’ }"
   ]
  },
  {
   "cell_type": "code",
   "execution_count": 10,
   "metadata": {
    "slideshow": {
     "slide_type": "fragment"
    }
   },
   "outputs": [
    {
     "data": {
      "text/plain": [
       "['Cellular_Component_AutoRIF',\n",
       " 'Cellular_Component_AutoRIF_Predicted_zscore',\n",
       " 'GO_Biological_Process_2018',\n",
       " 'GO_Biological_Process_AutoRIF',\n",
       " 'GO_Biological_Process_AutoRIF_Predicted_zscore',\n",
       " 'GO_Cellular_Component_2018',\n",
       " 'GO_Cellular_Component_AutoRIF',\n",
       " 'GO_Cellular_Component_AutoRIF_Predicted_zscore',\n",
       " 'GO_Molecular_Function_2018',\n",
       " 'GO_Molecular_Function_AutoRIF']"
      ]
     },
     "execution_count": 10,
     "metadata": {},
     "output_type": "execute_result"
    }
   ],
   "source": [
    "yeast = gp.get_library_name(organism='Yeast')\n",
    "yeast[:10]"
   ]
  },
  {
   "cell_type": "markdown",
   "metadata": {
    "slideshow": {
     "slide_type": "slide"
    }
   },
   "source": [
    "\n",
    "### Running Enrichr\n",
    "\n",
    "#### Differenr input options \n",
    "Multi-libraries names supported, separate each name by comma or input a list.\n",
    "\n",
    "For example:"
   ]
  },
  {
   "cell_type": "code",
   "execution_count": 6,
   "metadata": {
    "slideshow": {
     "slide_type": "fragment"
    }
   },
   "outputs": [],
   "source": [
    "# gene_list\n",
    "gene_list=\"input/gene_list.txt\",\n",
    "gene_list=glist\n",
    "# gene_sets\n",
    "gene_sets='KEGG_2016'\n",
    "gene_sets='KEGG_2016,KEGG_2013'\n",
    "gene_sets=['KEGG_2016','KEGG_2013']"
   ]
  },
  {
   "cell_type": "code",
   "execution_count": 7,
   "metadata": {
    "slideshow": {
     "slide_type": "fragment"
    }
   },
   "outputs": [
    {
     "name": "stderr",
     "output_type": "stream",
     "text": [
      "/Users/dbblumenthal/opt/anaconda3/envs/python-intro/lib/python3.10/site-packages/gseapy/enrichr.py:427: FutureWarning: The frame.append method is deprecated and will be removed from pandas in a future version. Use pandas.concat instead.\n",
      "  self.results = self.results.append(res, ignore_index=True)\n",
      "/Users/dbblumenthal/opt/anaconda3/envs/python-intro/lib/python3.10/site-packages/gseapy/enrichr.py:427: FutureWarning: The frame.append method is deprecated and will be removed from pandas in a future version. Use pandas.concat instead.\n",
      "  self.results = self.results.append(res, ignore_index=True)\n"
     ]
    }
   ],
   "source": [
    "enr = gp.enrichr(gene_list=\"input/gene_list.txt\",\n",
    "                 gene_sets=['KEGG_2016','KEGG_2013'],\n",
    "                 organism='Human', # don't forget to set organism to the one you desired! e.g. Yeast\n",
    "                 outdir='output/enrichr_kegg',\n",
    "                 # no_plot=True,\n",
    "                 cutoff=0.05\n",
    "                )"
   ]
  },
  {
   "cell_type": "markdown",
   "metadata": {
    "slideshow": {
     "slide_type": "slide"
    }
   },
   "source": [
    "### Enrichr results available as a Pandas DataFrame:"
   ]
  },
  {
   "cell_type": "code",
   "execution_count": 8,
   "metadata": {
    "slideshow": {
     "slide_type": "fragment"
    }
   },
   "outputs": [
    {
     "data": {
      "text/html": [
       "<div>\n",
       "<style scoped>\n",
       "    .dataframe tbody tr th:only-of-type {\n",
       "        vertical-align: middle;\n",
       "    }\n",
       "\n",
       "    .dataframe tbody tr th {\n",
       "        vertical-align: top;\n",
       "    }\n",
       "\n",
       "    .dataframe thead th {\n",
       "        text-align: right;\n",
       "    }\n",
       "</style>\n",
       "<table border=\"1\" class=\"dataframe\">\n",
       "  <thead>\n",
       "    <tr style=\"text-align: right;\">\n",
       "      <th></th>\n",
       "      <th>Gene_set</th>\n",
       "      <th>Term</th>\n",
       "      <th>Overlap</th>\n",
       "      <th>P-value</th>\n",
       "      <th>Adjusted P-value</th>\n",
       "      <th>Old P-value</th>\n",
       "      <th>Old Adjusted P-value</th>\n",
       "      <th>Odds Ratio</th>\n",
       "      <th>Combined Score</th>\n",
       "      <th>Genes</th>\n",
       "    </tr>\n",
       "  </thead>\n",
       "  <tbody>\n",
       "    <tr>\n",
       "      <th>0</th>\n",
       "      <td>KEGG_2016</td>\n",
       "      <td>Osteoclast differentiation Homo sapiens hsa04380</td>\n",
       "      <td>28/132</td>\n",
       "      <td>3.104504e-13</td>\n",
       "      <td>7.885440e-11</td>\n",
       "      <td>0</td>\n",
       "      <td>0</td>\n",
       "      <td>6.659625</td>\n",
       "      <td>191.802220</td>\n",
       "      <td>LILRA6;ITGB3;LILRA2;LILRA5;PPP3R1;FCGR3B;SIRPA...</td>\n",
       "    </tr>\n",
       "    <tr>\n",
       "      <th>1</th>\n",
       "      <td>KEGG_2016</td>\n",
       "      <td>Tuberculosis Homo sapiens hsa05152</td>\n",
       "      <td>31/178</td>\n",
       "      <td>4.288559e-12</td>\n",
       "      <td>5.446470e-10</td>\n",
       "      <td>0</td>\n",
       "      <td>0</td>\n",
       "      <td>5.224941</td>\n",
       "      <td>136.763196</td>\n",
       "      <td>RAB5B;ITGB2;PPP3R1;HLA-DMA;FCGR3B;HLA-DMB;CASP...</td>\n",
       "    </tr>\n",
       "    <tr>\n",
       "      <th>2</th>\n",
       "      <td>KEGG_2016</td>\n",
       "      <td>Phagosome Homo sapiens hsa04145</td>\n",
       "      <td>28/154</td>\n",
       "      <td>1.614009e-11</td>\n",
       "      <td>1.366528e-09</td>\n",
       "      <td>0</td>\n",
       "      <td>0</td>\n",
       "      <td>5.490501</td>\n",
       "      <td>136.437381</td>\n",
       "      <td>ATP6V1A;RAB5B;ITGB5;ITGB3;ITGB2;HLA-DMA;FCGR3B...</td>\n",
       "    </tr>\n",
       "    <tr>\n",
       "      <th>3</th>\n",
       "      <td>KEGG_2016</td>\n",
       "      <td>Rheumatoid arthritis Homo sapiens hsa05323</td>\n",
       "      <td>19/90</td>\n",
       "      <td>2.197884e-09</td>\n",
       "      <td>1.395656e-07</td>\n",
       "      <td>0</td>\n",
       "      <td>0</td>\n",
       "      <td>6.554453</td>\n",
       "      <td>130.668081</td>\n",
       "      <td>ATP6V1A;ATP6V1G1;ATP6V0B;TGFB1;ITGB2;FOS;ITGAL...</td>\n",
       "    </tr>\n",
       "    <tr>\n",
       "      <th>4</th>\n",
       "      <td>KEGG_2016</td>\n",
       "      <td>Leishmaniasis Homo sapiens hsa05140</td>\n",
       "      <td>17/73</td>\n",
       "      <td>3.132614e-09</td>\n",
       "      <td>1.591368e-07</td>\n",
       "      <td>0</td>\n",
       "      <td>0</td>\n",
       "      <td>7.422186</td>\n",
       "      <td>145.336773</td>\n",
       "      <td>TGFB1;IFNGR1;PRKCB;IFNGR2;ITGB2;FOS;MAPK14;HLA...</td>\n",
       "    </tr>\n",
       "  </tbody>\n",
       "</table>\n",
       "</div>"
      ],
      "text/plain": [
       "    Gene_set                                              Term Overlap  \\\n",
       "0  KEGG_2016  Osteoclast differentiation Homo sapiens hsa04380  28/132   \n",
       "1  KEGG_2016                Tuberculosis Homo sapiens hsa05152  31/178   \n",
       "2  KEGG_2016                   Phagosome Homo sapiens hsa04145  28/154   \n",
       "3  KEGG_2016        Rheumatoid arthritis Homo sapiens hsa05323   19/90   \n",
       "4  KEGG_2016               Leishmaniasis Homo sapiens hsa05140   17/73   \n",
       "\n",
       "        P-value  Adjusted P-value  Old P-value  Old Adjusted P-value  \\\n",
       "0  3.104504e-13      7.885440e-11            0                     0   \n",
       "1  4.288559e-12      5.446470e-10            0                     0   \n",
       "2  1.614009e-11      1.366528e-09            0                     0   \n",
       "3  2.197884e-09      1.395656e-07            0                     0   \n",
       "4  3.132614e-09      1.591368e-07            0                     0   \n",
       "\n",
       "   Odds Ratio  Combined Score  \\\n",
       "0    6.659625      191.802220   \n",
       "1    5.224941      136.763196   \n",
       "2    5.490501      136.437381   \n",
       "3    6.554453      130.668081   \n",
       "4    7.422186      145.336773   \n",
       "\n",
       "                                               Genes  \n",
       "0  LILRA6;ITGB3;LILRA2;LILRA5;PPP3R1;FCGR3B;SIRPA...  \n",
       "1  RAB5B;ITGB2;PPP3R1;HLA-DMA;FCGR3B;HLA-DMB;CASP...  \n",
       "2  ATP6V1A;RAB5B;ITGB5;ITGB3;ITGB2;HLA-DMA;FCGR3B...  \n",
       "3  ATP6V1A;ATP6V1G1;ATP6V0B;TGFB1;ITGB2;FOS;ITGAL...  \n",
       "4  TGFB1;IFNGR1;PRKCB;IFNGR2;ITGB2;FOS;MAPK14;HLA...  "
      ]
     },
     "execution_count": 8,
     "metadata": {},
     "output_type": "execute_result"
    }
   ],
   "source": [
    "enr.results.head(5)"
   ]
  },
  {
   "cell_type": "markdown",
   "metadata": {
    "slideshow": {
     "slide_type": "slide"
    }
   },
   "source": [
    "### Plotting\n",
    "#### Barplot:\n"
   ]
  },
  {
   "cell_type": "code",
   "execution_count": 11,
   "metadata": {
    "slideshow": {
     "slide_type": "fragment"
    }
   },
   "outputs": [
    {
     "data": {
      "image/png": "[encoded data removed]",
      "text/plain": [
       "<Figure size 468x432 with 1 Axes>"
      ]
     },
     "metadata": {
      "needs_background": "light"
     },
     "output_type": "display_data"
    }
   ],
   "source": [
    "from gseapy.plot import barplot, dotplot\n",
    "# to save your figure, make sure that ``ofname`` is not None\n",
    "barplot(enr.res2d,title='KEGG_2013',)"
   ]
  },
  {
   "cell_type": "markdown",
   "metadata": {
    "slideshow": {
     "slide_type": "slide"
    }
   },
   "source": [
    "#### Dotplot:"
   ]
  },
  {
   "cell_type": "code",
   "execution_count": 12,
   "metadata": {
    "slideshow": {
     "slide_type": "fragment"
    }
   },
   "outputs": [
    {
     "data": {
      "text/plain": [
       "<AxesSubplot:title={'center':'KEGG_2013'}, xlabel='-log$_{10}$(Adjusted P-value)'>"
      ]
     },
     "execution_count": 12,
     "metadata": {},
     "output_type": "execute_result"
    },
    {
     "data": {
      "image/png": "[encoded data removed]",
      "text/plain": [
       "<Figure size 432x396 with 2 Axes>"
      ]
     },
     "metadata": {
      "needs_background": "light"
     },
     "output_type": "display_data"
    }
   ],
   "source": [
    "# to save your figure, make sure that ``ofname`` is not None\n",
    "dotplot(enr.res2d, title='KEGG_2013',cmap='viridis_r')"
   ]
  },
  {
   "cell_type": "markdown",
   "metadata": {
    "slideshow": {
     "slide_type": "slide"
    }
   },
   "source": [
    "---\n",
    "## <a name=\"ex1\"></a>Exercise 1\n",
    "\n",
    "Redo the analysis using only `Disease_Signatures_from_GEO_up_2014` library. Make a dotplot and save it as disease_sig.png in the output directory"
   ]
  },
  {
   "cell_type": "code",
   "execution_count": 67,
   "metadata": {
    "slideshow": {
     "slide_type": "skip"
    }
   },
   "outputs": [],
   "source": []
  },
  {
   "cell_type": "markdown",
   "metadata": {
    "slideshow": {
     "slide_type": "skip"
    }
   },
   "source": [
    "<a href=\"#ex1sol\">Solution for Exercise 1</a>"
   ]
  },
  {
   "cell_type": "markdown",
   "metadata": {
    "slideshow": {
     "slide_type": "slide"
    }
   },
   "source": [
    "## 2. Prerank \n",
    "\n",
    "### Runs the gene set enrichment analysis against a user-supplied ranked list of genes.\n",
    "\n",
    "Gene Set Enrichment Analysis (GSEA) is a powerful analytical method for interpreting gene expression data.  It evaluates cumulative changes in the expression of groups of multiple genes defined based on prior biological knowledge. \n",
    "\n"
   ]
  },
  {
   "cell_type": "markdown",
   "metadata": {
    "slideshow": {
     "slide_type": "slide"
    }
   },
   "source": [
    "The GSEAPreranked module can be used to conduct gene set enrichment analysis on data that do not conform to the typical GSEA scenario. For example, it can be used when the ranking metric choices provided by the GSEA module are not appropriate for the data, or when a ranked list of genomic features deviates from traditional microarray expression data (e.g., GWAS results, ChIP-Seq, RNA-Seq, etc.).\n",
    "\n",
    "The user provides GSEAPreranked with a pre-ranked gene list.  Paired with each gene in the list is the numeric ranking statistic, which GSEAPreranked uses to rank order genes in descending order. GSEAPreranked calculates an enrichment score for each gene set.  A gene set’s enrichment score reflects how often members of that gene set occur at the top or bottom of the ranked data set (for example, in expression data, in either the most highly expressed genes or the most underexpressed genes)."
   ]
  },
  {
   "cell_type": "markdown",
   "metadata": {
    "slideshow": {
     "slide_type": "slide"
    }
   },
   "source": [
    "### Interpreting results\n",
    "\n",
    "![img](http://www.gsea-msigdb.org/gsea/doc/GSEAUserGuideTEXT.fld/image009.jpg)\n",
    "\n",
    "\n",
    "\n",
    "\n"
   ]
  },
  {
   "cell_type": "markdown",
   "metadata": {
    "slideshow": {
     "slide_type": "slide"
    }
   },
   "source": [
    "* The top portion of the plot shows the running ES for the gene set as the analysis walks down the ranked list. The score at the peak of the plot (the score furthest from 0.0) is the ES for the gene set. Gene sets with a distinct peak at the beginning (such as the one shown here) or end of the ranked list are generally the most interesting."
   ]
  },
  {
   "cell_type": "markdown",
   "metadata": {
    "slideshow": {
     "slide_type": "slide"
    }
   },
   "source": [
    "\n",
    "\n",
    "* The middle portion of the plot shows where the members of the gene set appear in the ranked list of genes.\n",
    "\n",
    "    The **leading edge subset** of a gene set is the subset of members that contribute most to the ES. For a positive ES (such as the one shown here), the leading edge subset is the set of members that appear in the ranked list prior to the peak score. For a negative ES, it is the set of members that appear subsequent to the peak score.\n",
    "    \n"
   ]
  },
  {
   "cell_type": "markdown",
   "metadata": {
    "slideshow": {
     "slide_type": "slide"
    }
   },
   "source": [
    "* The bottom portion of the plot shows the value of the ranking metric as you move down the list of ranked genes. The ranking metric measures a gene’s correlation with a phenotype. The value of the ranking metric goes from positive to negative as you move down the ranked list. A positive value indicates correlation with the first phenotype and a negative value indicates correlation with the second phenotype. For continuous phenotypes (time series or gene of interest), a positive value indicates correlation with the phenotype profile and a negative value indicates no correlation or inverse correlation with the profile."
   ]
  },
  {
   "cell_type": "markdown",
   "metadata": {
    "slideshow": {
     "slide_type": "slide"
    }
   },
   "source": [
    "### Assign prerank() with a pd.DataFrame, pd.Series , or a txt file\n",
    "Do not include header in your gene list.\n",
    "GSEApy will skip any data after “#”.\n",
    "Only contains two columns, or one cloumn with gene_name indexed when assign a DataFrame to prerank"
   ]
  },
  {
   "cell_type": "code",
   "execution_count": 15,
   "metadata": {
    "scrolled": true,
    "slideshow": {
     "slide_type": "fragment"
    }
   },
   "outputs": [
    {
     "data": {
      "text/html": [
       "<div>\n",
       "<style scoped>\n",
       "    .dataframe tbody tr th:only-of-type {\n",
       "        vertical-align: middle;\n",
       "    }\n",
       "\n",
       "    .dataframe tbody tr th {\n",
       "        vertical-align: top;\n",
       "    }\n",
       "\n",
       "    .dataframe thead th {\n",
       "        text-align: right;\n",
       "    }\n",
       "</style>\n",
       "<table border=\"1\" class=\"dataframe\">\n",
       "  <thead>\n",
       "    <tr style=\"text-align: right;\">\n",
       "      <th></th>\n",
       "      <th>0</th>\n",
       "      <th>1</th>\n",
       "    </tr>\n",
       "  </thead>\n",
       "  <tbody>\n",
       "    <tr>\n",
       "      <th>0</th>\n",
       "      <td>CTLA2B</td>\n",
       "      <td>2.502482</td>\n",
       "    </tr>\n",
       "    <tr>\n",
       "      <th>1</th>\n",
       "      <td>SCARA3</td>\n",
       "      <td>2.095578</td>\n",
       "    </tr>\n",
       "    <tr>\n",
       "      <th>2</th>\n",
       "      <td>LOC100044683</td>\n",
       "      <td>1.116398</td>\n",
       "    </tr>\n",
       "    <tr>\n",
       "      <th>3</th>\n",
       "      <td>CMBL</td>\n",
       "      <td>0.877640</td>\n",
       "    </tr>\n",
       "    <tr>\n",
       "      <th>4</th>\n",
       "      <td>CLIC6</td>\n",
       "      <td>0.822181</td>\n",
       "    </tr>\n",
       "  </tbody>\n",
       "</table>\n",
       "</div>"
      ],
      "text/plain": [
       "              0         1\n",
       "0        CTLA2B  2.502482\n",
       "1        SCARA3  2.095578\n",
       "2  LOC100044683  1.116398\n",
       "3          CMBL  0.877640\n",
       "4         CLIC6  0.822181"
      ]
     },
     "execution_count": 15,
     "metadata": {},
     "output_type": "execute_result"
    }
   ],
   "source": [
    "rnk = pd.read_csv(\"input/edb/gsea_data.gsea_data.rnk\", header=None, sep=\"\\t\")\n",
    "rnk.head()"
   ]
  },
  {
   "cell_type": "markdown",
   "metadata": {
    "slideshow": {
     "slide_type": "slide"
    }
   },
   "source": [
    "### Run prerank\n",
    "enrichr libraries are supported by prerank module. Just provide the name"
   ]
  },
  {
   "cell_type": "code",
   "execution_count": 16,
   "metadata": {
    "slideshow": {
     "slide_type": "fragment"
    }
   },
   "outputs": [],
   "source": [
    "\n",
    "# use 4 process to acceralate the permutation speed\n",
    "\n",
    "# note: multiprocessing may not work on windows\n",
    "pre_res = gp.prerank(rnk=rnk, gene_sets='KEGG_2016',\n",
    "                     processes=4,\n",
    "                     permutation_num=100, # reduce number to speed up testing\n",
    "                     outdir='output/prerank_report_kegg', format='png', seed=6)"
   ]
  },
  {
   "cell_type": "markdown",
   "metadata": {
    "slideshow": {
     "slide_type": "slide"
    }
   },
   "source": [
    "### Access results through obj.res2d attribute or obj.results"
   ]
  },
  {
   "cell_type": "code",
   "execution_count": 17,
   "metadata": {
    "slideshow": {
     "slide_type": "fragment"
    }
   },
   "outputs": [
    {
     "data": {
      "text/html": [
       "<div>\n",
       "<style scoped>\n",
       "    .dataframe tbody tr th:only-of-type {\n",
       "        vertical-align: middle;\n",
       "    }\n",
       "\n",
       "    .dataframe tbody tr th {\n",
       "        vertical-align: top;\n",
       "    }\n",
       "\n",
       "    .dataframe thead th {\n",
       "        text-align: right;\n",
       "    }\n",
       "</style>\n",
       "<table border=\"1\" class=\"dataframe\">\n",
       "  <thead>\n",
       "    <tr style=\"text-align: right;\">\n",
       "      <th></th>\n",
       "      <th>es</th>\n",
       "      <th>nes</th>\n",
       "      <th>pval</th>\n",
       "      <th>fdr</th>\n",
       "      <th>geneset_size</th>\n",
       "      <th>matched_size</th>\n",
       "      <th>genes</th>\n",
       "      <th>ledge_genes</th>\n",
       "    </tr>\n",
       "    <tr>\n",
       "      <th>Term</th>\n",
       "      <th></th>\n",
       "      <th></th>\n",
       "      <th></th>\n",
       "      <th></th>\n",
       "      <th></th>\n",
       "      <th></th>\n",
       "      <th></th>\n",
       "      <th></th>\n",
       "    </tr>\n",
       "  </thead>\n",
       "  <tbody>\n",
       "    <tr>\n",
       "      <th>Cytokine-cytokine receptor interaction Homo sapiens hsa04060</th>\n",
       "      <td>0.418234</td>\n",
       "      <td>1.526671</td>\n",
       "      <td>0.064935</td>\n",
       "      <td>0.591133</td>\n",
       "      <td>265</td>\n",
       "      <td>18</td>\n",
       "      <td>IL13RA1;CSF1;CCL2;TGFBR2;CD40;IL10RB;CXCL10;CX...</td>\n",
       "      <td>IL13RA1;CSF1;CCL2;TGFBR2;CD40;IL10RB;CXCL10</td>\n",
       "    </tr>\n",
       "    <tr>\n",
       "      <th>Focal adhesion Homo sapiens hsa04510</th>\n",
       "      <td>0.259225</td>\n",
       "      <td>0.859895</td>\n",
       "      <td>0.629032</td>\n",
       "      <td>0.993103</td>\n",
       "      <td>202</td>\n",
       "      <td>15</td>\n",
       "      <td>COL6A1;PARVA;FLNC;THBS4;LAMB3;PDGFRB;FLT4;ILK;...</td>\n",
       "      <td>COL6A1;PARVA;FLNC;THBS4;LAMB3;PDGFRB</td>\n",
       "    </tr>\n",
       "    <tr>\n",
       "      <th>HTLV-I infection Homo sapiens hsa05166</th>\n",
       "      <td>0.338286</td>\n",
       "      <td>1.344137</td>\n",
       "      <td>0.137931</td>\n",
       "      <td>0.643678</td>\n",
       "      <td>258</td>\n",
       "      <td>19</td>\n",
       "      <td>CRTC3;TGFBR2;CD40;PDGFRB;ADCY6;PPP3CC;ETS1;WNT...</td>\n",
       "      <td>CRTC3;TGFBR2;CD40;PDGFRB;ADCY6;PPP3CC;ETS1;WNT...</td>\n",
       "    </tr>\n",
       "    <tr>\n",
       "      <th>MAPK signaling pathway Homo sapiens hsa04010</th>\n",
       "      <td>0.179667</td>\n",
       "      <td>0.686976</td>\n",
       "      <td>0.847222</td>\n",
       "      <td>0.811166</td>\n",
       "      <td>255</td>\n",
       "      <td>18</td>\n",
       "      <td>CACNA1H;TGFBR2;FLNC;MAP3K5;PDGFRB;PPP3CC;NFATC...</td>\n",
       "      <td>CACNA1H;TGFBR2;FLNC;MAP3K5;PDGFRB;PPP3CC</td>\n",
       "    </tr>\n",
       "    <tr>\n",
       "      <th>Metabolic pathways Homo sapiens hsa01100</th>\n",
       "      <td>0.194868</td>\n",
       "      <td>0.902211</td>\n",
       "      <td>0.617647</td>\n",
       "      <td>1.000000</td>\n",
       "      <td>1239</td>\n",
       "      <td>36</td>\n",
       "      <td>CMBL;CDA;ST3GAL1;PLD2;CYP26A1;ENO2;GALNT4;PYGL...</td>\n",
       "      <td>CMBL;CDA;ST3GAL1;PLD2;CYP26A1;ENO2;GALNT4;PYGL</td>\n",
       "    </tr>\n",
       "  </tbody>\n",
       "</table>\n",
       "</div>"
      ],
      "text/plain": [
       "                                                          es       nes  \\\n",
       "Term                                                                     \n",
       "Cytokine-cytokine receptor interaction Homo sap...  0.418234  1.526671   \n",
       "Focal adhesion Homo sapiens hsa04510                0.259225  0.859895   \n",
       "HTLV-I infection Homo sapiens hsa05166              0.338286  1.344137   \n",
       "MAPK signaling pathway Homo sapiens hsa04010        0.179667  0.686976   \n",
       "Metabolic pathways Homo sapiens hsa01100            0.194868  0.902211   \n",
       "\n",
       "                                                        pval       fdr  \\\n",
       "Term                                                                     \n",
       "Cytokine-cytokine receptor interaction Homo sap...  0.064935  0.591133   \n",
       "Focal adhesion Homo sapiens hsa04510                0.629032  0.993103   \n",
       "HTLV-I infection Homo sapiens hsa05166              0.137931  0.643678   \n",
       "MAPK signaling pathway Homo sapiens hsa04010        0.847222  0.811166   \n",
       "Metabolic pathways Homo sapiens hsa01100            0.617647  1.000000   \n",
       "\n",
       "                                                    geneset_size  \\\n",
       "Term                                                               \n",
       "Cytokine-cytokine receptor interaction Homo sap...           265   \n",
       "Focal adhesion Homo sapiens hsa04510                         202   \n",
       "HTLV-I infection Homo sapiens hsa05166                       258   \n",
       "MAPK signaling pathway Homo sapiens hsa04010                 255   \n",
       "Metabolic pathways Homo sapiens hsa01100                    1239   \n",
       "\n",
       "                                                    matched_size  \\\n",
       "Term                                                               \n",
       "Cytokine-cytokine receptor interaction Homo sap...            18   \n",
       "Focal adhesion Homo sapiens hsa04510                          15   \n",
       "HTLV-I infection Homo sapiens hsa05166                        19   \n",
       "MAPK signaling pathway Homo sapiens hsa04010                  18   \n",
       "Metabolic pathways Homo sapiens hsa01100                      36   \n",
       "\n",
       "                                                                                                genes  \\\n",
       "Term                                                                                                    \n",
       "Cytokine-cytokine receptor interaction Homo sap...  IL13RA1;CSF1;CCL2;TGFBR2;CD40;IL10RB;CXCL10;CX...   \n",
       "Focal adhesion Homo sapiens hsa04510                COL6A1;PARVA;FLNC;THBS4;LAMB3;PDGFRB;FLT4;ILK;...   \n",
       "HTLV-I infection Homo sapiens hsa05166              CRTC3;TGFBR2;CD40;PDGFRB;ADCY6;PPP3CC;ETS1;WNT...   \n",
       "MAPK signaling pathway Homo sapiens hsa04010        CACNA1H;TGFBR2;FLNC;MAP3K5;PDGFRB;PPP3CC;NFATC...   \n",
       "Metabolic pathways Homo sapiens hsa01100            CMBL;CDA;ST3GAL1;PLD2;CYP26A1;ENO2;GALNT4;PYGL...   \n",
       "\n",
       "                                                                                          ledge_genes  \n",
       "Term                                                                                                   \n",
       "Cytokine-cytokine receptor interaction Homo sap...        IL13RA1;CSF1;CCL2;TGFBR2;CD40;IL10RB;CXCL10  \n",
       "Focal adhesion Homo sapiens hsa04510                             COL6A1;PARVA;FLNC;THBS4;LAMB3;PDGFRB  \n",
       "HTLV-I infection Homo sapiens hsa05166              CRTC3;TGFBR2;CD40;PDGFRB;ADCY6;PPP3CC;ETS1;WNT...  \n",
       "MAPK signaling pathway Homo sapiens hsa04010                 CACNA1H;TGFBR2;FLNC;MAP3K5;PDGFRB;PPP3CC  \n",
       "Metabolic pathways Homo sapiens hsa01100               CMBL;CDA;ST3GAL1;PLD2;CYP26A1;ENO2;GALNT4;PYGL  "
      ]
     },
     "execution_count": 17,
     "metadata": {},
     "output_type": "execute_result"
    }
   ],
   "source": [
    "\n",
    "pre_res.res2d.sort_index().head()"
   ]
  },
  {
   "cell_type": "markdown",
   "metadata": {
    "slideshow": {
     "slide_type": "slide"
    }
   },
   "source": [
    "### Generate your GSEA plot inside python console\n"
   ]
  },
  {
   "cell_type": "code",
   "execution_count": 18,
   "metadata": {
    "slideshow": {
     "slide_type": "fragment"
    }
   },
   "outputs": [
    {
     "data": {
      "text/plain": [
       "Index(['Pathways in cancer Homo sapiens hsa05200',\n",
       "       'Cytokine-cytokine receptor interaction Homo sapiens hsa04060',\n",
       "       'HTLV-I infection Homo sapiens hsa05166'],\n",
       "      dtype='object', name='Term')"
      ]
     },
     "execution_count": 18,
     "metadata": {},
     "output_type": "execute_result"
    }
   ],
   "source": [
    "# extract geneset terms in res2d\n",
    "terms = pre_res.res2d.index\n",
    "terms[:3]"
   ]
  },
  {
   "cell_type": "code",
   "execution_count": 90,
   "metadata": {
    "slideshow": {
     "slide_type": "subslide"
    }
   },
   "outputs": [
    {
     "data": {
      "image/png": "[encoded data removed]",
      "text/plain": [
       "<Figure size 432x396 with 4 Axes>"
      ]
     },
     "metadata": {
      "needs_background": "light"
     },
     "output_type": "display_data"
    }
   ],
   "source": [
    "from gseapy.plot import gseaplot\n",
    "\n",
    "# to save your figure, make sure that ofname is not None\n",
    "gseaplot(rank_metric=pre_res.ranking, term=terms[0], **pre_res.results[terms[0]])\n",
    "\n",
    "# save figure\n",
    "gseaplot(rank_metric=pre_res.ranking, term=terms[0], ofname='output/your.plot.pdf', **pre_res.results[terms[0]])"
   ]
  },
  {
   "cell_type": "markdown",
   "metadata": {
    "slideshow": {
     "slide_type": "slide"
    }
   },
   "source": [
    "---\n",
    "## <a name=\"ex2\"></a>Exercise 2\n",
    "\n",
    "Find out which pathway has the lowest p-value (not manually, use dataframe sorting) and plot the enrichment score for it"
   ]
  },
  {
   "cell_type": "markdown",
   "metadata": {
    "slideshow": {
     "slide_type": "skip"
    }
   },
   "source": [
    "<a href=\"#ex2sol\">Solution for Exercise 2</a>"
   ]
  },
  {
   "cell_type": "code",
   "execution_count": null,
   "metadata": {
    "slideshow": {
     "slide_type": "skip"
    }
   },
   "outputs": [],
   "source": []
  },
  {
   "cell_type": "markdown",
   "metadata": {
    "slideshow": {
     "slide_type": "slide"
    }
   },
   "source": [
    "## 3. GSEA\n",
    "Gene Set Enrichment Analysis (GSEA) is a computational method that determines whether an a priori defined set of genes shows statistically\n",
    "significant, concordant differences between two biological states\n",
    "(e.g. phenotypes).\n",
    "\n",
    "NOTE: GSEA uses lots of confusing data formats. If you feel lost, check out the description here: https://software.broadinstitute.org/cancer/software/gsea/wiki/index.php/Data_formats\n"
   ]
  },
  {
   "cell_type": "markdown",
   "metadata": {
    "slideshow": {
     "slide_type": "slide"
    }
   },
   "source": [
    "### First we load phenotype data as .cls file:"
   ]
  },
  {
   "cell_type": "code",
   "execution_count": 19,
   "metadata": {
    "slideshow": {
     "slide_type": "fragment"
    }
   },
   "outputs": [],
   "source": [
    "phenoA, phenoB, class_vector =  gp.parser.gsea_cls_parser(\"input/P53.cls\")\n"
   ]
  },
  {
   "cell_type": "markdown",
   "metadata": {
    "slideshow": {
     "slide_type": "fragment"
    }
   },
   "source": [
    "Class_vector is used to indicate group attributes for each sample:"
   ]
  },
  {
   "cell_type": "code",
   "execution_count": 20,
   "metadata": {
    "slideshow": {
     "slide_type": "fragment"
    }
   },
   "outputs": [
    {
     "name": "stdout",
     "output_type": "stream",
     "text": [
      "['MUT', 'MUT', 'MUT', 'MUT', 'MUT', 'MUT', 'MUT', 'MUT', 'MUT', 'MUT', 'MUT', 'MUT', 'MUT', 'MUT', 'MUT', 'MUT', 'MUT', 'MUT', 'MUT', 'MUT', 'MUT', 'MUT', 'MUT', 'MUT', 'MUT', 'MUT', 'MUT', 'MUT', 'MUT', 'MUT', 'MUT', 'MUT', 'MUT', 'WT', 'WT', 'WT', 'WT', 'WT', 'WT', 'WT', 'WT', 'WT', 'WT', 'WT', 'WT', 'WT', 'WT', 'WT', 'WT', 'WT']\n"
     ]
    }
   ],
   "source": [
    "print(class_vector)"
   ]
  },
  {
   "cell_type": "markdown",
   "metadata": {
    "slideshow": {
     "slide_type": "slide"
    }
   },
   "source": [
    "### Next step is gene expression matrix:"
   ]
  },
  {
   "cell_type": "code",
   "execution_count": 21,
   "metadata": {
    "slideshow": {
     "slide_type": "fragment"
    }
   },
   "outputs": [
    {
     "data": {
      "text/html": [
       "<div>\n",
       "<style scoped>\n",
       "    .dataframe tbody tr th:only-of-type {\n",
       "        vertical-align: middle;\n",
       "    }\n",
       "\n",
       "    .dataframe tbody tr th {\n",
       "        vertical-align: top;\n",
       "    }\n",
       "\n",
       "    .dataframe thead th {\n",
       "        text-align: right;\n",
       "    }\n",
       "</style>\n",
       "<table border=\"1\" class=\"dataframe\">\n",
       "  <thead>\n",
       "    <tr style=\"text-align: right;\">\n",
       "      <th></th>\n",
       "      <th>NAME</th>\n",
       "      <th>DESCRIPTION</th>\n",
       "      <th>786-0</th>\n",
       "      <th>BT-549</th>\n",
       "      <th>CCRF-CEM</th>\n",
       "      <th>COLO 205</th>\n",
       "      <th>EKVX</th>\n",
       "      <th>HCC-2998</th>\n",
       "      <th>HCT-15</th>\n",
       "      <th>HOP-62</th>\n",
       "      <th>...</th>\n",
       "      <th>MCF7</th>\n",
       "      <th>MOLT-4</th>\n",
       "      <th>NCI-H460</th>\n",
       "      <th>OVCAR-4</th>\n",
       "      <th>SF-539</th>\n",
       "      <th>SK-MEL-5</th>\n",
       "      <th>SR</th>\n",
       "      <th>UACC-257</th>\n",
       "      <th>UACC-62</th>\n",
       "      <th>UO-31</th>\n",
       "    </tr>\n",
       "  </thead>\n",
       "  <tbody>\n",
       "    <tr>\n",
       "      <th>0</th>\n",
       "      <td>TACC2</td>\n",
       "      <td>na</td>\n",
       "      <td>46.05</td>\n",
       "      <td>82.17</td>\n",
       "      <td>16.87</td>\n",
       "      <td>98.60</td>\n",
       "      <td>141.02</td>\n",
       "      <td>114.32</td>\n",
       "      <td>134.34</td>\n",
       "      <td>44.95</td>\n",
       "      <td>...</td>\n",
       "      <td>68.14</td>\n",
       "      <td>32.21</td>\n",
       "      <td>105.89</td>\n",
       "      <td>64.99</td>\n",
       "      <td>53.52</td>\n",
       "      <td>85.47</td>\n",
       "      <td>18.69</td>\n",
       "      <td>32.16</td>\n",
       "      <td>45.70</td>\n",
       "      <td>48.13</td>\n",
       "    </tr>\n",
       "    <tr>\n",
       "      <th>1</th>\n",
       "      <td>C14orf132</td>\n",
       "      <td>na</td>\n",
       "      <td>108.34</td>\n",
       "      <td>59.04</td>\n",
       "      <td>25.61</td>\n",
       "      <td>33.11</td>\n",
       "      <td>42.53</td>\n",
       "      <td>9.12</td>\n",
       "      <td>9.36</td>\n",
       "      <td>310.96</td>\n",
       "      <td>...</td>\n",
       "      <td>159.32</td>\n",
       "      <td>10.71</td>\n",
       "      <td>13.59</td>\n",
       "      <td>53.78</td>\n",
       "      <td>57.57</td>\n",
       "      <td>86.80</td>\n",
       "      <td>17.30</td>\n",
       "      <td>102.66</td>\n",
       "      <td>62.16</td>\n",
       "      <td>73.44</td>\n",
       "    </tr>\n",
       "    <tr>\n",
       "      <th>2</th>\n",
       "      <td>AGER</td>\n",
       "      <td>na</td>\n",
       "      <td>42.20</td>\n",
       "      <td>25.75</td>\n",
       "      <td>76.01</td>\n",
       "      <td>40.41</td>\n",
       "      <td>32.17</td>\n",
       "      <td>48.28</td>\n",
       "      <td>58.27</td>\n",
       "      <td>42.40</td>\n",
       "      <td>...</td>\n",
       "      <td>51.50</td>\n",
       "      <td>61.48</td>\n",
       "      <td>44.44</td>\n",
       "      <td>45.68</td>\n",
       "      <td>54.17</td>\n",
       "      <td>62.53</td>\n",
       "      <td>83.18</td>\n",
       "      <td>56.57</td>\n",
       "      <td>50.40</td>\n",
       "      <td>36.75</td>\n",
       "    </tr>\n",
       "    <tr>\n",
       "      <th>3</th>\n",
       "      <td>32385_at</td>\n",
       "      <td>na</td>\n",
       "      <td>7.43</td>\n",
       "      <td>13.94</td>\n",
       "      <td>8.55</td>\n",
       "      <td>21.13</td>\n",
       "      <td>15.09</td>\n",
       "      <td>19.05</td>\n",
       "      <td>16.47</td>\n",
       "      <td>7.60</td>\n",
       "      <td>...</td>\n",
       "      <td>30.77</td>\n",
       "      <td>21.27</td>\n",
       "      <td>13.36</td>\n",
       "      <td>16.19</td>\n",
       "      <td>12.07</td>\n",
       "      <td>17.62</td>\n",
       "      <td>22.60</td>\n",
       "      <td>4.50</td>\n",
       "      <td>14.59</td>\n",
       "      <td>11.33</td>\n",
       "    </tr>\n",
       "    <tr>\n",
       "      <th>4</th>\n",
       "      <td>RBM17</td>\n",
       "      <td>na</td>\n",
       "      <td>11.40</td>\n",
       "      <td>3.00</td>\n",
       "      <td>3.16</td>\n",
       "      <td>2.34</td>\n",
       "      <td>4.43</td>\n",
       "      <td>1.56</td>\n",
       "      <td>6.04</td>\n",
       "      <td>6.16</td>\n",
       "      <td>...</td>\n",
       "      <td>1.62</td>\n",
       "      <td>2.77</td>\n",
       "      <td>4.42</td>\n",
       "      <td>8.91</td>\n",
       "      <td>12.28</td>\n",
       "      <td>3.04</td>\n",
       "      <td>10.13</td>\n",
       "      <td>8.32</td>\n",
       "      <td>8.23</td>\n",
       "      <td>3.91</td>\n",
       "    </tr>\n",
       "  </tbody>\n",
       "</table>\n",
       "<p>5 rows × 52 columns</p>\n",
       "</div>"
      ],
      "text/plain": [
       "        NAME DESCRIPTION   786-0  BT-549  CCRF-CEM  COLO 205    EKVX  \\\n",
       "0      TACC2          na   46.05   82.17     16.87     98.60  141.02   \n",
       "1  C14orf132          na  108.34   59.04     25.61     33.11   42.53   \n",
       "2       AGER          na   42.20   25.75     76.01     40.41   32.17   \n",
       "3   32385_at          na    7.43   13.94      8.55     21.13   15.09   \n",
       "4      RBM17          na   11.40    3.00      3.16      2.34    4.43   \n",
       "\n",
       "   HCC-2998  HCT-15  HOP-62  ...    MCF7  MOLT-4  NCI-H460  OVCAR-4  SF-539  \\\n",
       "0    114.32  134.34   44.95  ...   68.14   32.21    105.89    64.99   53.52   \n",
       "1      9.12    9.36  310.96  ...  159.32   10.71     13.59    53.78   57.57   \n",
       "2     48.28   58.27   42.40  ...   51.50   61.48     44.44    45.68   54.17   \n",
       "3     19.05   16.47    7.60  ...   30.77   21.27     13.36    16.19   12.07   \n",
       "4      1.56    6.04    6.16  ...    1.62    2.77      4.42     8.91   12.28   \n",
       "\n",
       "   SK-MEL-5     SR  UACC-257  UACC-62  UO-31  \n",
       "0     85.47  18.69     32.16    45.70  48.13  \n",
       "1     86.80  17.30    102.66    62.16  73.44  \n",
       "2     62.53  83.18     56.57    50.40  36.75  \n",
       "3     17.62  22.60      4.50    14.59  11.33  \n",
       "4      3.04  10.13      8.32     8.23   3.91  \n",
       "\n",
       "[5 rows x 52 columns]"
      ]
     },
     "execution_count": 21,
     "metadata": {},
     "output_type": "execute_result"
    }
   ],
   "source": [
    "gene_exp = pd.read_csv(\"input/P53.txt\", sep=\"\\t\")\n",
    "gene_exp.head()"
   ]
  },
  {
   "cell_type": "markdown",
   "metadata": {
    "slideshow": {
     "slide_type": "slide"
    }
   },
   "source": [
    "### Now we are ready to run GSEA. As always we can provide the API with already loaded data or just with paths:"
   ]
  },
  {
   "cell_type": "code",
   "execution_count": 22,
   "metadata": {
    "slideshow": {
     "slide_type": "fragment"
    }
   },
   "outputs": [
    {
     "name": "stderr",
     "output_type": "stream",
     "text": [
      "/Users/dbblumenthal/opt/anaconda3/envs/python-intro/lib/python3.10/site-packages/joblib/externals/loky/process_executor.py:702: UserWarning: A worker stopped while some jobs were given to the executor. This can be caused by a too short worker timeout or by a memory leak.\n",
      "  warnings.warn(\n"
     ]
    }
   ],
   "source": [
    "gs_res = gp.gsea(data=gene_exp, # or data='./P53_resampling_data.txt'\n",
    "                 gene_sets='KEGG_2016', # enrichr library names\n",
    "                 cls= 'input/P53.cls', # cls=class_vector\n",
    "                 # set permutation_type to phenotype if samples >=15\n",
    "                 permutation_type='phenotype',\n",
    "                 permutation_num=100, # reduce number to speed up test\n",
    "                 outdir=None,  # do not write output to disk\n",
    "                 no_plot=True, # Skip plotting\n",
    "                 method='signal_to_noise',\n",
    "                 processes=4, seed= 7,\n",
    "                 format='png')"
   ]
  },
  {
   "cell_type": "markdown",
   "metadata": {
    "slideshow": {
     "slide_type": "slide"
    }
   },
   "source": [
    "### Access the dataframe results throught res2d attribute:"
   ]
  },
  {
   "cell_type": "code",
   "execution_count": 23,
   "metadata": {
    "slideshow": {
     "slide_type": "fragment"
    }
   },
   "outputs": [
    {
     "data": {
      "text/html": [
       "<div>\n",
       "<style scoped>\n",
       "    .dataframe tbody tr th:only-of-type {\n",
       "        vertical-align: middle;\n",
       "    }\n",
       "\n",
       "    .dataframe tbody tr th {\n",
       "        vertical-align: top;\n",
       "    }\n",
       "\n",
       "    .dataframe thead th {\n",
       "        text-align: right;\n",
       "    }\n",
       "</style>\n",
       "<table border=\"1\" class=\"dataframe\">\n",
       "  <thead>\n",
       "    <tr style=\"text-align: right;\">\n",
       "      <th></th>\n",
       "      <th>es</th>\n",
       "      <th>nes</th>\n",
       "      <th>pval</th>\n",
       "      <th>fdr</th>\n",
       "      <th>geneset_size</th>\n",
       "      <th>matched_size</th>\n",
       "      <th>genes</th>\n",
       "      <th>ledge_genes</th>\n",
       "    </tr>\n",
       "    <tr>\n",
       "      <th>Term</th>\n",
       "      <th></th>\n",
       "      <th></th>\n",
       "      <th></th>\n",
       "      <th></th>\n",
       "      <th></th>\n",
       "      <th></th>\n",
       "      <th></th>\n",
       "      <th></th>\n",
       "    </tr>\n",
       "  </thead>\n",
       "  <tbody>\n",
       "    <tr>\n",
       "      <th>ABC transporters Homo sapiens hsa02010</th>\n",
       "      <td>-0.328540</td>\n",
       "      <td>-1.234130</td>\n",
       "      <td>0.209302</td>\n",
       "      <td>0.535738</td>\n",
       "      <td>44</td>\n",
       "      <td>33</td>\n",
       "      <td>ABCD3;ABCD4;ABCA2;ABCB7;ABCD1;ABCA3;ABCC9;ABCB...</td>\n",
       "      <td>ABCG1;ABCC5;ABCB4;TAP2;CFTR;ABCC10;ABCB11;ABCC...</td>\n",
       "    </tr>\n",
       "    <tr>\n",
       "      <th>AGE-RAGE signaling pathway in diabetic complications Homo sapiens hsa04933</th>\n",
       "      <td>-0.261859</td>\n",
       "      <td>-1.077825</td>\n",
       "      <td>0.375000</td>\n",
       "      <td>0.667573</td>\n",
       "      <td>101</td>\n",
       "      <td>90</td>\n",
       "      <td>F3;PIK3CA;PLCE1;NRAS;RELA;RAC1;PLCB3;MAPK13;MA...</td>\n",
       "      <td>COL4A1;AKT3;VCAM1;PIK3R3;SMAD3;STAT1;THBD;SELE...</td>\n",
       "    </tr>\n",
       "    <tr>\n",
       "      <th>AMPK signaling pathway Homo sapiens hsa04152</th>\n",
       "      <td>0.198892</td>\n",
       "      <td>0.893478</td>\n",
       "      <td>0.725806</td>\n",
       "      <td>1.000000</td>\n",
       "      <td>124</td>\n",
       "      <td>89</td>\n",
       "      <td>PPP2R5B;PIK3CA;PPP2R5C;CREB3L1;PRKAA1;CREB3;PP...</td>\n",
       "      <td>PPP2R5B;PIK3CA;PPP2R5C;CREB3L1;PRKAA1;CREB3;PP...</td>\n",
       "    </tr>\n",
       "    <tr>\n",
       "      <th>Acute myeloid leukemia Homo sapiens hsa05221</th>\n",
       "      <td>0.196716</td>\n",
       "      <td>0.719384</td>\n",
       "      <td>0.872727</td>\n",
       "      <td>1.000000</td>\n",
       "      <td>57</td>\n",
       "      <td>50</td>\n",
       "      <td>MAP2K1;PIK3CA;NRAS;RELA;RPS6KB2;TCF7L2;JUP;RAF...</td>\n",
       "      <td>MAP2K1;PIK3CA;NRAS;RELA;RPS6KB2;TCF7L2;JUP;RAF...</td>\n",
       "    </tr>\n",
       "    <tr>\n",
       "      <th>Adherens junction Homo sapiens hsa04520</th>\n",
       "      <td>0.246805</td>\n",
       "      <td>0.975288</td>\n",
       "      <td>0.468750</td>\n",
       "      <td>1.000000</td>\n",
       "      <td>74</td>\n",
       "      <td>66</td>\n",
       "      <td>EP300;YES1;CTNND1;RAC1;WASF1;ERBB2;ACTN1;PTPRF...</td>\n",
       "      <td>EP300;YES1;CTNND1;RAC1;WASF1;ERBB2;ACTN1;PTPRF...</td>\n",
       "    </tr>\n",
       "  </tbody>\n",
       "</table>\n",
       "</div>"
      ],
      "text/plain": [
       "                                                          es       nes  \\\n",
       "Term                                                                     \n",
       "ABC transporters Homo sapiens hsa02010             -0.328540 -1.234130   \n",
       "AGE-RAGE signaling pathway in diabetic complica... -0.261859 -1.077825   \n",
       "AMPK signaling pathway Homo sapiens hsa04152        0.198892  0.893478   \n",
       "Acute myeloid leukemia Homo sapiens hsa05221        0.196716  0.719384   \n",
       "Adherens junction Homo sapiens hsa04520             0.246805  0.975288   \n",
       "\n",
       "                                                        pval       fdr  \\\n",
       "Term                                                                     \n",
       "ABC transporters Homo sapiens hsa02010              0.209302  0.535738   \n",
       "AGE-RAGE signaling pathway in diabetic complica...  0.375000  0.667573   \n",
       "AMPK signaling pathway Homo sapiens hsa04152        0.725806  1.000000   \n",
       "Acute myeloid leukemia Homo sapiens hsa05221        0.872727  1.000000   \n",
       "Adherens junction Homo sapiens hsa04520             0.468750  1.000000   \n",
       "\n",
       "                                                    geneset_size  \\\n",
       "Term                                                               \n",
       "ABC transporters Homo sapiens hsa02010                        44   \n",
       "AGE-RAGE signaling pathway in diabetic complica...           101   \n",
       "AMPK signaling pathway Homo sapiens hsa04152                 124   \n",
       "Acute myeloid leukemia Homo sapiens hsa05221                  57   \n",
       "Adherens junction Homo sapiens hsa04520                       74   \n",
       "\n",
       "                                                    matched_size  \\\n",
       "Term                                                               \n",
       "ABC transporters Homo sapiens hsa02010                        33   \n",
       "AGE-RAGE signaling pathway in diabetic complica...            90   \n",
       "AMPK signaling pathway Homo sapiens hsa04152                  89   \n",
       "Acute myeloid leukemia Homo sapiens hsa05221                  50   \n",
       "Adherens junction Homo sapiens hsa04520                       66   \n",
       "\n",
       "                                                                                                genes  \\\n",
       "Term                                                                                                    \n",
       "ABC transporters Homo sapiens hsa02010              ABCD3;ABCD4;ABCA2;ABCB7;ABCD1;ABCA3;ABCC9;ABCB...   \n",
       "AGE-RAGE signaling pathway in diabetic complica...  F3;PIK3CA;PLCE1;NRAS;RELA;RAC1;PLCB3;MAPK13;MA...   \n",
       "AMPK signaling pathway Homo sapiens hsa04152        PPP2R5B;PIK3CA;PPP2R5C;CREB3L1;PRKAA1;CREB3;PP...   \n",
       "Acute myeloid leukemia Homo sapiens hsa05221        MAP2K1;PIK3CA;NRAS;RELA;RPS6KB2;TCF7L2;JUP;RAF...   \n",
       "Adherens junction Homo sapiens hsa04520             EP300;YES1;CTNND1;RAC1;WASF1;ERBB2;ACTN1;PTPRF...   \n",
       "\n",
       "                                                                                          ledge_genes  \n",
       "Term                                                                                                   \n",
       "ABC transporters Homo sapiens hsa02010              ABCG1;ABCC5;ABCB4;TAP2;CFTR;ABCC10;ABCB11;ABCC...  \n",
       "AGE-RAGE signaling pathway in diabetic complica...  COL4A1;AKT3;VCAM1;PIK3R3;SMAD3;STAT1;THBD;SELE...  \n",
       "AMPK signaling pathway Homo sapiens hsa04152        PPP2R5B;PIK3CA;PPP2R5C;CREB3L1;PRKAA1;CREB3;PP...  \n",
       "Acute myeloid leukemia Homo sapiens hsa05221        MAP2K1;PIK3CA;NRAS;RELA;RPS6KB2;TCF7L2;JUP;RAF...  \n",
       "Adherens junction Homo sapiens hsa04520             EP300;YES1;CTNND1;RAC1;WASF1;ERBB2;ACTN1;PTPRF...  "
      ]
     },
     "execution_count": 23,
     "metadata": {},
     "output_type": "execute_result"
    }
   ],
   "source": [
    "gs_res.res2d.sort_index().head()"
   ]
  },
  {
   "cell_type": "markdown",
   "metadata": {
    "slideshow": {
     "slide_type": "slide"
    }
   },
   "source": [
    "### Make gsea plots:"
   ]
  },
  {
   "cell_type": "code",
   "execution_count": 24,
   "metadata": {
    "slideshow": {
     "slide_type": "fragment"
    }
   },
   "outputs": [
    {
     "data": {
      "image/png": "[encoded data removed]",
      "text/plain": [
       "<Figure size 432x396 with 4 Axes>"
      ]
     },
     "metadata": {
      "needs_background": "light"
     },
     "output_type": "display_data"
    }
   ],
   "source": [
    "from gseapy.plot import gseaplot, heatmap\n",
    "terms = gs_res.res2d.index\n",
    "# Make sure that ``ofname`` is not None, if you want to save your figure to disk\n",
    "gseaplot(gs_res.ranking, term=terms[0], **gs_res.results[terms[0]])"
   ]
  },
  {
   "cell_type": "code",
   "execution_count": 31,
   "metadata": {
    "slideshow": {
     "slide_type": "subslide"
    }
   },
   "outputs": [
    {
     "data": {
      "image/png": "[encoded data removed]",
      "text/plain": [
       "<Figure size 1296x432 with 2 Axes>"
      ]
     },
     "metadata": {
      "needs_background": "light"
     },
     "output_type": "display_data"
    }
   ],
   "source": [
    "# plotting heatmap\n",
    "genes = gs_res.res2d.genes[0].split(\";\")\n",
    "# Make sure that ``ofname`` is not None, if you want to save your figure to disk\n",
    "heatmap(df = gs_res.heatmat.loc[genes], z_score=0, title=terms[0], figsize=(18,6))"
   ]
  },
  {
   "cell_type": "markdown",
   "metadata": {
    "slideshow": {
     "slide_type": "slide"
    }
   },
   "source": [
    "##  Single Sample GSEA\n",
    "\n",
    "Single-sample GSEA (ssGSEA), an extension of Gene Set Enrichment Analysis (GSEA), calculates separate enrichment scores for each pairing of a sample and gene set.  Each ssGSEA enrichment score represents the degree to which the genes in a particular gene set are coordinately up- or down-regulated within a sample.\n",
    "\n",
    "Note: When you run ssGSEA, all genes names in your gene_sets file should be found in your expression table. Example:\n"
   ]
  },
  {
   "cell_type": "markdown",
   "metadata": {
    "slideshow": {
     "slide_type": "slide"
    }
   },
   "source": [
    "#### Expression matrix:"
   ]
  },
  {
   "cell_type": "code",
   "execution_count": 25,
   "metadata": {
    "slideshow": {
     "slide_type": "fragment"
    }
   },
   "outputs": [
    {
     "data": {
      "text/html": [
       "<div>\n",
       "<style scoped>\n",
       "    .dataframe tbody tr th:only-of-type {\n",
       "        vertical-align: middle;\n",
       "    }\n",
       "\n",
       "    .dataframe tbody tr th {\n",
       "        vertical-align: top;\n",
       "    }\n",
       "\n",
       "    .dataframe thead th {\n",
       "        text-align: right;\n",
       "    }\n",
       "</style>\n",
       "<table border=\"1\" class=\"dataframe\">\n",
       "  <thead>\n",
       "    <tr style=\"text-align: right;\">\n",
       "      <th></th>\n",
       "      <th>NAME</th>\n",
       "      <th>786-0</th>\n",
       "      <th>BT-549</th>\n",
       "      <th>CCRF-CEM</th>\n",
       "      <th>COLO 205</th>\n",
       "      <th>EKVX</th>\n",
       "      <th>HCC-2998</th>\n",
       "      <th>HCT-15</th>\n",
       "      <th>HOP-62</th>\n",
       "      <th>HOP-92</th>\n",
       "      <th>...</th>\n",
       "      <th>MCF7</th>\n",
       "      <th>MOLT-4</th>\n",
       "      <th>NCI-H460</th>\n",
       "      <th>OVCAR-4</th>\n",
       "      <th>SF-539</th>\n",
       "      <th>SK-MEL-5</th>\n",
       "      <th>SR</th>\n",
       "      <th>UACC-257</th>\n",
       "      <th>UACC-62</th>\n",
       "      <th>UO-31</th>\n",
       "    </tr>\n",
       "  </thead>\n",
       "  <tbody>\n",
       "    <tr>\n",
       "      <th>0</th>\n",
       "      <td>CTLA2B</td>\n",
       "      <td>111.19</td>\n",
       "      <td>86.22</td>\n",
       "      <td>121.85</td>\n",
       "      <td>75.19</td>\n",
       "      <td>208.62</td>\n",
       "      <td>130.59</td>\n",
       "      <td>124.72</td>\n",
       "      <td>324.09</td>\n",
       "      <td>242.71</td>\n",
       "      <td>...</td>\n",
       "      <td>163.76</td>\n",
       "      <td>59.50</td>\n",
       "      <td>134.12</td>\n",
       "      <td>152.09</td>\n",
       "      <td>197.46</td>\n",
       "      <td>137.79</td>\n",
       "      <td>81.53</td>\n",
       "      <td>123.37</td>\n",
       "      <td>81.41</td>\n",
       "      <td>180.78</td>\n",
       "    </tr>\n",
       "    <tr>\n",
       "      <th>1</th>\n",
       "      <td>SCARA3</td>\n",
       "      <td>460.30</td>\n",
       "      <td>558.34</td>\n",
       "      <td>183.55</td>\n",
       "      <td>37.29</td>\n",
       "      <td>158.00</td>\n",
       "      <td>43.61</td>\n",
       "      <td>80.83</td>\n",
       "      <td>300.08</td>\n",
       "      <td>1250.25</td>\n",
       "      <td>...</td>\n",
       "      <td>109.91</td>\n",
       "      <td>120.42</td>\n",
       "      <td>73.06</td>\n",
       "      <td>115.03</td>\n",
       "      <td>95.12</td>\n",
       "      <td>37.56</td>\n",
       "      <td>76.16</td>\n",
       "      <td>41.10</td>\n",
       "      <td>77.51</td>\n",
       "      <td>519.17</td>\n",
       "    </tr>\n",
       "    <tr>\n",
       "      <th>2</th>\n",
       "      <td>LOC100044683</td>\n",
       "      <td>97.25</td>\n",
       "      <td>118.94</td>\n",
       "      <td>81.17</td>\n",
       "      <td>119.51</td>\n",
       "      <td>119.88</td>\n",
       "      <td>107.73</td>\n",
       "      <td>165.57</td>\n",
       "      <td>203.97</td>\n",
       "      <td>135.43</td>\n",
       "      <td>...</td>\n",
       "      <td>222.84</td>\n",
       "      <td>124.98</td>\n",
       "      <td>114.75</td>\n",
       "      <td>141.66</td>\n",
       "      <td>170.19</td>\n",
       "      <td>147.70</td>\n",
       "      <td>157.48</td>\n",
       "      <td>152.18</td>\n",
       "      <td>98.89</td>\n",
       "      <td>118.06</td>\n",
       "    </tr>\n",
       "    <tr>\n",
       "      <th>3</th>\n",
       "      <td>CMBL</td>\n",
       "      <td>33.45</td>\n",
       "      <td>55.10</td>\n",
       "      <td>221.67</td>\n",
       "      <td>50.30</td>\n",
       "      <td>35.12</td>\n",
       "      <td>75.70</td>\n",
       "      <td>84.01</td>\n",
       "      <td>44.12</td>\n",
       "      <td>79.96</td>\n",
       "      <td>...</td>\n",
       "      <td>51.32</td>\n",
       "      <td>117.11</td>\n",
       "      <td>59.46</td>\n",
       "      <td>78.46</td>\n",
       "      <td>45.55</td>\n",
       "      <td>49.07</td>\n",
       "      <td>96.69</td>\n",
       "      <td>33.09</td>\n",
       "      <td>10.38</td>\n",
       "      <td>52.89</td>\n",
       "    </tr>\n",
       "    <tr>\n",
       "      <th>4</th>\n",
       "      <td>CLIC6</td>\n",
       "      <td>35.75</td>\n",
       "      <td>41.26</td>\n",
       "      <td>63.04</td>\n",
       "      <td>219.86</td>\n",
       "      <td>42.53</td>\n",
       "      <td>54.19</td>\n",
       "      <td>86.98</td>\n",
       "      <td>71.20</td>\n",
       "      <td>53.89</td>\n",
       "      <td>...</td>\n",
       "      <td>154.05</td>\n",
       "      <td>31.62</td>\n",
       "      <td>37.66</td>\n",
       "      <td>32.64</td>\n",
       "      <td>63.35</td>\n",
       "      <td>27.95</td>\n",
       "      <td>70.99</td>\n",
       "      <td>36.25</td>\n",
       "      <td>17.50</td>\n",
       "      <td>49.41</td>\n",
       "    </tr>\n",
       "  </tbody>\n",
       "</table>\n",
       "<p>5 rows × 51 columns</p>\n",
       "</div>"
      ],
      "text/plain": [
       "           NAME   786-0  BT-549  CCRF-CEM  COLO 205    EKVX  HCC-2998  HCT-15  \\\n",
       "0        CTLA2B  111.19   86.22    121.85     75.19  208.62    130.59  124.72   \n",
       "1        SCARA3  460.30  558.34    183.55     37.29  158.00     43.61   80.83   \n",
       "2  LOC100044683   97.25  118.94     81.17    119.51  119.88    107.73  165.57   \n",
       "3          CMBL   33.45   55.10    221.67     50.30   35.12     75.70   84.01   \n",
       "4         CLIC6   35.75   41.26     63.04    219.86   42.53     54.19   86.98   \n",
       "\n",
       "   HOP-62   HOP-92  ...    MCF7  MOLT-4  NCI-H460  OVCAR-4  SF-539  SK-MEL-5  \\\n",
       "0  324.09   242.71  ...  163.76   59.50    134.12   152.09  197.46    137.79   \n",
       "1  300.08  1250.25  ...  109.91  120.42     73.06   115.03   95.12     37.56   \n",
       "2  203.97   135.43  ...  222.84  124.98    114.75   141.66  170.19    147.70   \n",
       "3   44.12    79.96  ...   51.32  117.11     59.46    78.46   45.55     49.07   \n",
       "4   71.20    53.89  ...  154.05   31.62     37.66    32.64   63.35     27.95   \n",
       "\n",
       "       SR  UACC-257  UACC-62   UO-31  \n",
       "0   81.53    123.37    81.41  180.78  \n",
       "1   76.16     41.10    77.51  519.17  \n",
       "2  157.48    152.18    98.89  118.06  \n",
       "3   96.69     33.09    10.38   52.89  \n",
       "4   70.99     36.25    17.50   49.41  \n",
       "\n",
       "[5 rows x 51 columns]"
      ]
     },
     "execution_count": 25,
     "metadata": {},
     "output_type": "execute_result"
    }
   ],
   "source": [
    "df = pd.read_csv(\"input/P53_resampling_data.txt\", sep=\"\\t\")\n",
    "df.head()"
   ]
  },
  {
   "cell_type": "markdown",
   "metadata": {
    "slideshow": {
     "slide_type": "slide"
    }
   },
   "source": [
    "#### Gene set:"
   ]
  },
  {
   "cell_type": "code",
   "execution_count": 26,
   "metadata": {
    "slideshow": {
     "slide_type": "fragment"
    }
   },
   "outputs": [
    {
     "name": "stderr",
     "output_type": "stream",
     "text": [
      "/var/folders/71/cy2w33mn5wng7mg2_mdj3x2h0000gn/T/ipykernel_9298/1090297284.py:1: ParserWarning: Falling back to the 'python' engine because the 'c' engine does not support skipfooter; you can avoid this warning by specifying engine='python'.\n",
      "  gs = pd.read_csv(\"input/genes.gmt\", sep = \"\\t\", skipfooter = 6, header= None)\n"
     ]
    },
    {
     "data": {
      "text/html": [
       "<div>\n",
       "<style scoped>\n",
       "    .dataframe tbody tr th:only-of-type {\n",
       "        vertical-align: middle;\n",
       "    }\n",
       "\n",
       "    .dataframe tbody tr th {\n",
       "        vertical-align: top;\n",
       "    }\n",
       "\n",
       "    .dataframe thead th {\n",
       "        text-align: right;\n",
       "    }\n",
       "</style>\n",
       "<table border=\"1\" class=\"dataframe\">\n",
       "  <thead>\n",
       "    <tr style=\"text-align: right;\">\n",
       "      <th></th>\n",
       "      <th>0</th>\n",
       "      <th>1</th>\n",
       "      <th>2</th>\n",
       "      <th>3</th>\n",
       "      <th>4</th>\n",
       "      <th>5</th>\n",
       "      <th>6</th>\n",
       "      <th>7</th>\n",
       "      <th>8</th>\n",
       "      <th>9</th>\n",
       "      <th>...</th>\n",
       "      <th>36</th>\n",
       "      <th>37</th>\n",
       "      <th>38</th>\n",
       "      <th>39</th>\n",
       "      <th>40</th>\n",
       "      <th>41</th>\n",
       "      <th>42</th>\n",
       "      <th>43</th>\n",
       "      <th>44</th>\n",
       "      <th>45</th>\n",
       "    </tr>\n",
       "  </thead>\n",
       "  <tbody>\n",
       "    <tr>\n",
       "      <th>0</th>\n",
       "      <td>YvX_UpIN_Y</td>\n",
       "      <td>std_cutoffs</td>\n",
       "      <td>DPP4</td>\n",
       "      <td>FAM198B</td>\n",
       "      <td>SPO11</td>\n",
       "      <td>CD28</td>\n",
       "      <td>CLDN6</td>\n",
       "      <td>MFAP5</td>\n",
       "      <td>FGFBP1</td>\n",
       "      <td>SLAMF9</td>\n",
       "      <td>...</td>\n",
       "      <td>STAT4</td>\n",
       "      <td>PTGIS</td>\n",
       "      <td>IGF2BP1</td>\n",
       "      <td>BGLAP</td>\n",
       "      <td>LOC100128076</td>\n",
       "      <td>PDE6H</td>\n",
       "      <td>PTPLAD2</td>\n",
       "      <td>DAPK2</td>\n",
       "      <td>CACNG6</td>\n",
       "      <td>MOGAT2</td>\n",
       "    </tr>\n",
       "    <tr>\n",
       "      <th>1</th>\n",
       "      <td>YvX_UpIN_X</td>\n",
       "      <td>std_cutoffs</td>\n",
       "      <td>SERPINF1</td>\n",
       "      <td>IL33</td>\n",
       "      <td>CYB561</td>\n",
       "      <td>CLEC14A</td>\n",
       "      <td>ST6GAL1</td>\n",
       "      <td>SLC5A3</td>\n",
       "      <td>STEAP3</td>\n",
       "      <td>UGT1A1</td>\n",
       "      <td>...</td>\n",
       "      <td>None</td>\n",
       "      <td>None</td>\n",
       "      <td>None</td>\n",
       "      <td>None</td>\n",
       "      <td>None</td>\n",
       "      <td>None</td>\n",
       "      <td>None</td>\n",
       "      <td>None</td>\n",
       "      <td>None</td>\n",
       "      <td>None</td>\n",
       "    </tr>\n",
       "  </tbody>\n",
       "</table>\n",
       "<p>2 rows × 46 columns</p>\n",
       "</div>"
      ],
      "text/plain": [
       "           0            1         2        3       4        5        6   \\\n",
       "0  YvX_UpIN_Y  std_cutoffs      DPP4  FAM198B   SPO11     CD28    CLDN6   \n",
       "1  YvX_UpIN_X  std_cutoffs  SERPINF1     IL33  CYB561  CLEC14A  ST6GAL1   \n",
       "\n",
       "       7       8       9   ...     36     37       38     39            40  \\\n",
       "0   MFAP5  FGFBP1  SLAMF9  ...  STAT4  PTGIS  IGF2BP1  BGLAP  LOC100128076   \n",
       "1  SLC5A3  STEAP3  UGT1A1  ...   None   None     None   None          None   \n",
       "\n",
       "      41       42     43      44      45  \n",
       "0  PDE6H  PTPLAD2  DAPK2  CACNG6  MOGAT2  \n",
       "1   None     None   None    None    None  \n",
       "\n",
       "[2 rows x 46 columns]"
      ]
     },
     "execution_count": 26,
     "metadata": {},
     "output_type": "execute_result"
    }
   ],
   "source": [
    "gs = pd.read_csv(\"input/genes.gmt\", sep = \"\\t\", skipfooter = 6, header= None)\n",
    "gs"
   ]
  },
  {
   "cell_type": "markdown",
   "metadata": {
    "slideshow": {
     "slide_type": "slide"
    }
   },
   "source": [
    "### Running ssGSEA:"
   ]
  },
  {
   "cell_type": "code",
   "execution_count": 27,
   "metadata": {
    "slideshow": {
     "slide_type": "fragment"
    }
   },
   "outputs": [
    {
     "name": "stderr",
     "output_type": "stream",
     "text": [
      "2022-04-05 10:55:37,190 Warning: dropping duplicated gene names, only keep the first values\n"
     ]
    }
   ],
   "source": [
    "# txt, gct file input\n",
    "ss = gp.ssgsea(data=\"input/P53_resampling_data.txt\",\n",
    "               gene_sets=\"input/genes.gmt\",\n",
    "               outdir='output/ssgsea_report',\n",
    "               sample_norm_method='rank', # choose 'custom' for your own rank list\n",
    "               permutation_num=0, # skip permutation procedure, because you don't need it\n",
    "               no_plot=True, # skip plotting, because you don't need these figures\n",
    "               processes=4, format='png', seed=9)"
   ]
  },
  {
   "cell_type": "markdown",
   "metadata": {
    "slideshow": {
     "slide_type": "slide"
    }
   },
   "source": [
    "## ssGSEA results:"
   ]
  },
  {
   "cell_type": "code",
   "execution_count": 28,
   "metadata": {
    "slideshow": {
     "slide_type": "fragment"
    }
   },
   "outputs": [
    {
     "data": {
      "text/html": [
       "<div>\n",
       "<style scoped>\n",
       "    .dataframe tbody tr th:only-of-type {\n",
       "        vertical-align: middle;\n",
       "    }\n",
       "\n",
       "    .dataframe tbody tr th {\n",
       "        vertical-align: top;\n",
       "    }\n",
       "\n",
       "    .dataframe thead th {\n",
       "        text-align: right;\n",
       "    }\n",
       "</style>\n",
       "<table border=\"1\" class=\"dataframe\">\n",
       "  <thead>\n",
       "    <tr style=\"text-align: right;\">\n",
       "      <th></th>\n",
       "      <th>786-0</th>\n",
       "      <th>BT-549</th>\n",
       "      <th>CCRF-CEM</th>\n",
       "      <th>COLO 205</th>\n",
       "      <th>EKVX</th>\n",
       "      <th>HCC-2998</th>\n",
       "      <th>HCT-15</th>\n",
       "      <th>HOP-62</th>\n",
       "      <th>HOP-92</th>\n",
       "      <th>HS 578T</th>\n",
       "      <th>...</th>\n",
       "      <th>MCF7</th>\n",
       "      <th>MOLT-4</th>\n",
       "      <th>NCI-H460</th>\n",
       "      <th>OVCAR-4</th>\n",
       "      <th>SF-539</th>\n",
       "      <th>SK-MEL-5</th>\n",
       "      <th>SR</th>\n",
       "      <th>UACC-257</th>\n",
       "      <th>UACC-62</th>\n",
       "      <th>UO-31</th>\n",
       "    </tr>\n",
       "    <tr>\n",
       "      <th>Term|NES</th>\n",
       "      <th></th>\n",
       "      <th></th>\n",
       "      <th></th>\n",
       "      <th></th>\n",
       "      <th></th>\n",
       "      <th></th>\n",
       "      <th></th>\n",
       "      <th></th>\n",
       "      <th></th>\n",
       "      <th></th>\n",
       "      <th></th>\n",
       "      <th></th>\n",
       "      <th></th>\n",
       "      <th></th>\n",
       "      <th></th>\n",
       "      <th></th>\n",
       "      <th></th>\n",
       "      <th></th>\n",
       "      <th></th>\n",
       "      <th></th>\n",
       "      <th></th>\n",
       "    </tr>\n",
       "  </thead>\n",
       "  <tbody>\n",
       "    <tr>\n",
       "      <th>DvA_UpIN_A</th>\n",
       "      <td>0.402250</td>\n",
       "      <td>0.059182</td>\n",
       "      <td>0.104570</td>\n",
       "      <td>0.181656</td>\n",
       "      <td>0.323479</td>\n",
       "      <td>0.031077</td>\n",
       "      <td>0.046273</td>\n",
       "      <td>0.290477</td>\n",
       "      <td>0.256892</td>\n",
       "      <td>0.364879</td>\n",
       "      <td>...</td>\n",
       "      <td>0.037469</td>\n",
       "      <td>0.156571</td>\n",
       "      <td>0.168744</td>\n",
       "      <td>0.326920</td>\n",
       "      <td>0.353249</td>\n",
       "      <td>0.159152</td>\n",
       "      <td>0.122046</td>\n",
       "      <td>0.392206</td>\n",
       "      <td>0.457858</td>\n",
       "      <td>0.450500</td>\n",
       "    </tr>\n",
       "    <tr>\n",
       "      <th>DvA_UpIN_D</th>\n",
       "      <td>0.730157</td>\n",
       "      <td>0.758250</td>\n",
       "      <td>0.776068</td>\n",
       "      <td>0.572771</td>\n",
       "      <td>0.711643</td>\n",
       "      <td>0.554986</td>\n",
       "      <td>0.471377</td>\n",
       "      <td>0.647169</td>\n",
       "      <td>0.755184</td>\n",
       "      <td>0.771360</td>\n",
       "      <td>...</td>\n",
       "      <td>0.638009</td>\n",
       "      <td>0.748293</td>\n",
       "      <td>0.670887</td>\n",
       "      <td>0.800462</td>\n",
       "      <td>0.859748</td>\n",
       "      <td>0.548625</td>\n",
       "      <td>0.600289</td>\n",
       "      <td>0.646756</td>\n",
       "      <td>0.599317</td>\n",
       "      <td>0.762698</td>\n",
       "    </tr>\n",
       "  </tbody>\n",
       "</table>\n",
       "<p>2 rows × 50 columns</p>\n",
       "</div>"
      ],
      "text/plain": [
       "               786-0    BT-549  CCRF-CEM  COLO 205      EKVX  HCC-2998  \\\n",
       "Term|NES                                                                 \n",
       "DvA_UpIN_A  0.402250  0.059182  0.104570  0.181656  0.323479  0.031077   \n",
       "DvA_UpIN_D  0.730157  0.758250  0.776068  0.572771  0.711643  0.554986   \n",
       "\n",
       "              HCT-15    HOP-62    HOP-92   HS 578T  ...      MCF7    MOLT-4  \\\n",
       "Term|NES                                            ...                       \n",
       "DvA_UpIN_A  0.046273  0.290477  0.256892  0.364879  ...  0.037469  0.156571   \n",
       "DvA_UpIN_D  0.471377  0.647169  0.755184  0.771360  ...  0.638009  0.748293   \n",
       "\n",
       "            NCI-H460   OVCAR-4    SF-539  SK-MEL-5        SR  UACC-257  \\\n",
       "Term|NES                                                                 \n",
       "DvA_UpIN_A  0.168744  0.326920  0.353249  0.159152  0.122046  0.392206   \n",
       "DvA_UpIN_D  0.670887  0.800462  0.859748  0.548625  0.600289  0.646756   \n",
       "\n",
       "             UACC-62     UO-31  \n",
       "Term|NES                        \n",
       "DvA_UpIN_A  0.457858  0.450500  \n",
       "DvA_UpIN_D  0.599317  0.762698  \n",
       "\n",
       "[2 rows x 50 columns]"
      ]
     },
     "execution_count": 28,
     "metadata": {},
     "output_type": "execute_result"
    }
   ],
   "source": [
    "ss.res2d.sort_index().head()\n"
   ]
  },
  {
   "cell_type": "markdown",
   "metadata": {
    "slideshow": {
     "slide_type": "slide"
    }
   },
   "source": [
    "### Access Enrichment Score (ES) and NES:\n",
    "Results are saved to two attribute:\n",
    "\n",
    "* obj.resultsOnSamples: ES\n",
    "* obj.res2d: NES"
   ]
  },
  {
   "cell_type": "code",
   "execution_count": 29,
   "metadata": {
    "slideshow": {
     "slide_type": "fragment"
    }
   },
   "outputs": [
    {
     "data": {
      "text/html": [
       "<div>\n",
       "<style scoped>\n",
       "    .dataframe tbody tr th:only-of-type {\n",
       "        vertical-align: middle;\n",
       "    }\n",
       "\n",
       "    .dataframe tbody tr th {\n",
       "        vertical-align: top;\n",
       "    }\n",
       "\n",
       "    .dataframe thead th {\n",
       "        text-align: right;\n",
       "    }\n",
       "</style>\n",
       "<table border=\"1\" class=\"dataframe\">\n",
       "  <thead>\n",
       "    <tr style=\"text-align: right;\">\n",
       "      <th></th>\n",
       "      <th>786-0</th>\n",
       "      <th>BT-549</th>\n",
       "      <th>CCRF-CEM</th>\n",
       "      <th>COLO 205</th>\n",
       "      <th>EKVX</th>\n",
       "      <th>HCC-2998</th>\n",
       "      <th>HCT-15</th>\n",
       "      <th>HOP-62</th>\n",
       "      <th>HOP-92</th>\n",
       "      <th>HS 578T</th>\n",
       "      <th>...</th>\n",
       "      <th>MCF7</th>\n",
       "      <th>MOLT-4</th>\n",
       "      <th>NCI-H460</th>\n",
       "      <th>OVCAR-4</th>\n",
       "      <th>SF-539</th>\n",
       "      <th>SK-MEL-5</th>\n",
       "      <th>SR</th>\n",
       "      <th>UACC-257</th>\n",
       "      <th>UACC-62</th>\n",
       "      <th>UO-31</th>\n",
       "    </tr>\n",
       "  </thead>\n",
       "  <tbody>\n",
       "    <tr>\n",
       "      <th>DvA_UpIN_A</th>\n",
       "      <td>0.065666</td>\n",
       "      <td>0.009661</td>\n",
       "      <td>0.017071</td>\n",
       "      <td>0.029655</td>\n",
       "      <td>0.052807</td>\n",
       "      <td>0.005073</td>\n",
       "      <td>0.007554</td>\n",
       "      <td>0.047419</td>\n",
       "      <td>0.041937</td>\n",
       "      <td>0.059565</td>\n",
       "      <td>...</td>\n",
       "      <td>0.006117</td>\n",
       "      <td>0.025560</td>\n",
       "      <td>0.027547</td>\n",
       "      <td>0.053368</td>\n",
       "      <td>0.057667</td>\n",
       "      <td>0.025981</td>\n",
       "      <td>0.019924</td>\n",
       "      <td>0.064026</td>\n",
       "      <td>0.074744</td>\n",
       "      <td>0.073543</td>\n",
       "    </tr>\n",
       "    <tr>\n",
       "      <th>DvA_UpIN_D</th>\n",
       "      <td>0.119195</td>\n",
       "      <td>0.123782</td>\n",
       "      <td>0.126690</td>\n",
       "      <td>0.093503</td>\n",
       "      <td>0.116173</td>\n",
       "      <td>0.090600</td>\n",
       "      <td>0.076951</td>\n",
       "      <td>0.105648</td>\n",
       "      <td>0.123281</td>\n",
       "      <td>0.125922</td>\n",
       "      <td>...</td>\n",
       "      <td>0.104153</td>\n",
       "      <td>0.122156</td>\n",
       "      <td>0.109520</td>\n",
       "      <td>0.130673</td>\n",
       "      <td>0.140351</td>\n",
       "      <td>0.089561</td>\n",
       "      <td>0.097995</td>\n",
       "      <td>0.105581</td>\n",
       "      <td>0.097836</td>\n",
       "      <td>0.124508</td>\n",
       "    </tr>\n",
       "  </tbody>\n",
       "</table>\n",
       "<p>2 rows × 50 columns</p>\n",
       "</div>"
      ],
      "text/plain": [
       "               786-0    BT-549  CCRF-CEM  COLO 205      EKVX  HCC-2998  \\\n",
       "DvA_UpIN_A  0.065666  0.009661  0.017071  0.029655  0.052807  0.005073   \n",
       "DvA_UpIN_D  0.119195  0.123782  0.126690  0.093503  0.116173  0.090600   \n",
       "\n",
       "              HCT-15    HOP-62    HOP-92   HS 578T  ...      MCF7    MOLT-4  \\\n",
       "DvA_UpIN_A  0.007554  0.047419  0.041937  0.059565  ...  0.006117  0.025560   \n",
       "DvA_UpIN_D  0.076951  0.105648  0.123281  0.125922  ...  0.104153  0.122156   \n",
       "\n",
       "            NCI-H460   OVCAR-4    SF-539  SK-MEL-5        SR  UACC-257  \\\n",
       "DvA_UpIN_A  0.027547  0.053368  0.057667  0.025981  0.019924  0.064026   \n",
       "DvA_UpIN_D  0.109520  0.130673  0.140351  0.089561  0.097995  0.105581   \n",
       "\n",
       "             UACC-62     UO-31  \n",
       "DvA_UpIN_A  0.074744  0.073543  \n",
       "DvA_UpIN_D  0.097836  0.124508  \n",
       "\n",
       "[2 rows x 50 columns]"
      ]
     },
     "execution_count": 29,
     "metadata": {},
     "output_type": "execute_result"
    }
   ],
   "source": [
    "# ES\n",
    "# convert dict to DataFrame\n",
    "es = pd.DataFrame(ss.resultsOnSamples)\n",
    "es.sort_index().head()"
   ]
  },
  {
   "cell_type": "code",
   "execution_count": 30,
   "metadata": {
    "slideshow": {
     "slide_type": "fragment"
    }
   },
   "outputs": [
    {
     "data": {
      "text/html": [
       "<div>\n",
       "<style scoped>\n",
       "    .dataframe tbody tr th:only-of-type {\n",
       "        vertical-align: middle;\n",
       "    }\n",
       "\n",
       "    .dataframe tbody tr th {\n",
       "        vertical-align: top;\n",
       "    }\n",
       "\n",
       "    .dataframe thead th {\n",
       "        text-align: right;\n",
       "    }\n",
       "</style>\n",
       "<table border=\"1\" class=\"dataframe\">\n",
       "  <thead>\n",
       "    <tr style=\"text-align: right;\">\n",
       "      <th></th>\n",
       "      <th>786-0</th>\n",
       "      <th>BT-549</th>\n",
       "      <th>CCRF-CEM</th>\n",
       "      <th>COLO 205</th>\n",
       "      <th>EKVX</th>\n",
       "      <th>HCC-2998</th>\n",
       "      <th>HCT-15</th>\n",
       "      <th>HOP-62</th>\n",
       "      <th>HOP-92</th>\n",
       "      <th>HS 578T</th>\n",
       "      <th>...</th>\n",
       "      <th>MCF7</th>\n",
       "      <th>MOLT-4</th>\n",
       "      <th>NCI-H460</th>\n",
       "      <th>OVCAR-4</th>\n",
       "      <th>SF-539</th>\n",
       "      <th>SK-MEL-5</th>\n",
       "      <th>SR</th>\n",
       "      <th>UACC-257</th>\n",
       "      <th>UACC-62</th>\n",
       "      <th>UO-31</th>\n",
       "    </tr>\n",
       "    <tr>\n",
       "      <th>Term|NES</th>\n",
       "      <th></th>\n",
       "      <th></th>\n",
       "      <th></th>\n",
       "      <th></th>\n",
       "      <th></th>\n",
       "      <th></th>\n",
       "      <th></th>\n",
       "      <th></th>\n",
       "      <th></th>\n",
       "      <th></th>\n",
       "      <th></th>\n",
       "      <th></th>\n",
       "      <th></th>\n",
       "      <th></th>\n",
       "      <th></th>\n",
       "      <th></th>\n",
       "      <th></th>\n",
       "      <th></th>\n",
       "      <th></th>\n",
       "      <th></th>\n",
       "      <th></th>\n",
       "    </tr>\n",
       "  </thead>\n",
       "  <tbody>\n",
       "    <tr>\n",
       "      <th>DvA_UpIN_A</th>\n",
       "      <td>0.402250</td>\n",
       "      <td>0.059182</td>\n",
       "      <td>0.104570</td>\n",
       "      <td>0.181656</td>\n",
       "      <td>0.323479</td>\n",
       "      <td>0.031077</td>\n",
       "      <td>0.046273</td>\n",
       "      <td>0.290477</td>\n",
       "      <td>0.256892</td>\n",
       "      <td>0.364879</td>\n",
       "      <td>...</td>\n",
       "      <td>0.037469</td>\n",
       "      <td>0.156571</td>\n",
       "      <td>0.168744</td>\n",
       "      <td>0.326920</td>\n",
       "      <td>0.353249</td>\n",
       "      <td>0.159152</td>\n",
       "      <td>0.122046</td>\n",
       "      <td>0.392206</td>\n",
       "      <td>0.457858</td>\n",
       "      <td>0.450500</td>\n",
       "    </tr>\n",
       "    <tr>\n",
       "      <th>DvA_UpIN_D</th>\n",
       "      <td>0.730157</td>\n",
       "      <td>0.758250</td>\n",
       "      <td>0.776068</td>\n",
       "      <td>0.572771</td>\n",
       "      <td>0.711643</td>\n",
       "      <td>0.554986</td>\n",
       "      <td>0.471377</td>\n",
       "      <td>0.647169</td>\n",
       "      <td>0.755184</td>\n",
       "      <td>0.771360</td>\n",
       "      <td>...</td>\n",
       "      <td>0.638009</td>\n",
       "      <td>0.748293</td>\n",
       "      <td>0.670887</td>\n",
       "      <td>0.800462</td>\n",
       "      <td>0.859748</td>\n",
       "      <td>0.548625</td>\n",
       "      <td>0.600289</td>\n",
       "      <td>0.646756</td>\n",
       "      <td>0.599317</td>\n",
       "      <td>0.762698</td>\n",
       "    </tr>\n",
       "  </tbody>\n",
       "</table>\n",
       "<p>2 rows × 50 columns</p>\n",
       "</div>"
      ],
      "text/plain": [
       "               786-0    BT-549  CCRF-CEM  COLO 205      EKVX  HCC-2998  \\\n",
       "Term|NES                                                                 \n",
       "DvA_UpIN_A  0.402250  0.059182  0.104570  0.181656  0.323479  0.031077   \n",
       "DvA_UpIN_D  0.730157  0.758250  0.776068  0.572771  0.711643  0.554986   \n",
       "\n",
       "              HCT-15    HOP-62    HOP-92   HS 578T  ...      MCF7    MOLT-4  \\\n",
       "Term|NES                                            ...                       \n",
       "DvA_UpIN_A  0.046273  0.290477  0.256892  0.364879  ...  0.037469  0.156571   \n",
       "DvA_UpIN_D  0.471377  0.647169  0.755184  0.771360  ...  0.638009  0.748293   \n",
       "\n",
       "            NCI-H460   OVCAR-4    SF-539  SK-MEL-5        SR  UACC-257  \\\n",
       "Term|NES                                                                 \n",
       "DvA_UpIN_A  0.168744  0.326920  0.353249  0.159152  0.122046  0.392206   \n",
       "DvA_UpIN_D  0.670887  0.800462  0.859748  0.548625  0.600289  0.646756   \n",
       "\n",
       "             UACC-62     UO-31  \n",
       "Term|NES                        \n",
       "DvA_UpIN_A  0.457858  0.450500  \n",
       "DvA_UpIN_D  0.599317  0.762698  \n",
       "\n",
       "[2 rows x 50 columns]"
      ]
     },
     "execution_count": 30,
     "metadata": {},
     "output_type": "execute_result"
    }
   ],
   "source": [
    "# NES\n",
    "# scale or no have no affects on final nes value\n",
    "nes = ss.res2d\n",
    "nes.sort_index().head()"
   ]
  },
  {
   "cell_type": "markdown",
   "metadata": {
    "slideshow": {
     "slide_type": "slide"
    }
   },
   "source": [
    "---\n",
    "## Solutions for Exercises"
   ]
  },
  {
   "cell_type": "markdown",
   "metadata": {
    "slideshow": {
     "slide_type": "slide"
    }
   },
   "source": [
    "<a name=\"ex1sol\">Solution for Exercise 1</a>"
   ]
  },
  {
   "cell_type": "code",
   "execution_count": 13,
   "metadata": {
    "slideshow": {
     "slide_type": "fragment"
    }
   },
   "outputs": [
    {
     "name": "stderr",
     "output_type": "stream",
     "text": [
      "/Users/dbblumenthal/opt/anaconda3/envs/python-intro/lib/python3.10/site-packages/gseapy/enrichr.py:427: FutureWarning: The frame.append method is deprecated and will be removed from pandas in a future version. Use pandas.concat instead.\n",
      "  self.results = self.results.append(res, ignore_index=True)\n"
     ]
    }
   ],
   "source": [
    " \n",
    "enr = gp.enrichr(gene_list=\"input/gene_list.txt\",\n",
    "             gene_sets= 'Disease_Signatures_from_GEO_up_2014',\n",
    "             organism='Human', # don't forget to set organism to the one you desired! e.g. Yeast\n",
    "             outdir='output/enrichr_kegg',\n",
    "             # no_plot=True,\n",
    "             cutoff=0.05 # test dataset, use lower value from range(0,1)\n",
    "            )\n",
    "dotplot(enr.res2d, title='Disease_Signatures_from_GEO_up_2014',cmap='viridis_r', ofname = \"output/disease_sig.png\")"
   ]
  },
  {
   "cell_type": "markdown",
   "metadata": {
    "slideshow": {
     "slide_type": "skip"
    }
   },
   "source": [
    "<a href=\"#ex1\">Back to Exercise 1</a>\n"
   ]
  },
  {
   "cell_type": "markdown",
   "metadata": {
    "slideshow": {
     "slide_type": "slide"
    }
   },
   "source": [
    "\n",
    "<a name=\"ex2sol\">Solution for Exercise 2</a>"
   ]
  },
  {
   "cell_type": "code",
   "execution_count": 95,
   "metadata": {
    "slideshow": {
     "slide_type": "fragment"
    }
   },
   "outputs": [
    {
     "data": {
      "image/png": "[encoded data removed]",
      "text/plain": [
       "<Figure size 432x396 with 4 Axes>"
      ]
     },
     "metadata": {
      "needs_background": "light"
     },
     "output_type": "display_data"
    }
   ],
   "source": [
    "idx = pre_res.res2d.pval.argmin()\n",
    "gseaplot(rank_metric=pre_res.ranking, term=terms[idx], **pre_res.results[terms[idx]])\n"
   ]
  },
  {
   "cell_type": "markdown",
   "metadata": {
    "slideshow": {
     "slide_type": "skip"
    }
   },
   "source": [
    "<a href=\"#ex2\">Back to Exercise 2</a>\n"
   ]
  },
  {
   "cell_type": "code",
   "execution_count": null,
   "metadata": {},
   "outputs": [],
   "source": []
  }
 ],
 "metadata": {
  "celltoolbar": "Slideshow",
  "kernelspec": {
   "display_name": "Python 3 (ipykernel)",
   "language": "python",
   "name": "python3"
  },
  "language_info": {
   "codemirror_mode": {
    "name": "ipython",
    "version": 3
   },
   "file_extension": ".py",
   "mimetype": "text/x-python",
   "name": "python",
   "nbconvert_exporter": "python",
   "pygments_lexer": "ipython3",
   "version": "3.10.4"
  },
  "latex_envs": {
   "LaTeX_envs_menu_present": true,
   "autoclose": false,
   "autocomplete": true,
   "bibliofile": "biblio.bib",
   "cite_by": "apalike",
   "current_citInitial": 1,
   "eqLabelWithNumbers": true,
   "eqNumInitial": 1,
   "hotkeys": {
    "equation": "Ctrl-E",
    "itemize": "Ctrl-I"
   },
   "labels_anchors": false,
   "latex_user_defs": false,
   "report_style_numbering": false,
   "user_envs_cfg": false
  }
 },
 "nbformat": 4,
 "nbformat_minor": 4
}
