{
  "cells": [
    {
      "cell_type": "markdown",
      "id": "consolidated-orlando",
      "metadata": {
        "id": "consolidated-orlando"
      },
      "source": [
        "<figure>\n",
        "  <IMG SRC=\"input/FAU.png\" WIDTH=250 ALIGN=\"right\">\n",
        "</figure>\n",
        "\n",
        "# Image Classification with Keras\n",
        "    \n",
        "*David B. Blumenthal*, *Suryadipto Sarkar*"
      ]
    },
    {
      "cell_type": "markdown",
      "id": "passing-audience",
      "metadata": {
        "id": "passing-audience"
      },
      "source": [
        "\n",
        "\n",
        "## What is Tensorflow?\n",
        "\n",
        "\n",
        "Tensorflow is an open-source end-to-end platform that facilitates designing and deploying Machine Learning models using Python."
      ]
    },
    {
      "cell_type": "markdown",
      "id": "_Xzz20cGx--p",
      "metadata": {
        "id": "_Xzz20cGx--p"
      },
      "source": [
        "\n",
        "\n",
        "## What is Keras?\n",
        "\n",
        "\n",
        "Keras is an API built on top of TensorFlow, that supports deep learning."
      ]
    },
    {
      "cell_type": "code",
      "source": [
        "!unzip PET-IMAGES.zip"
      ],
      "metadata": {
        "id": "NyFHl-GYYy0z"
      },
      "id": "NyFHl-GYYy0z",
      "execution_count": null,
      "outputs": []
    },
    {
      "cell_type": "code",
      "execution_count": null,
      "id": "obvious-foundation",
      "metadata": {
        "id": "obvious-foundation"
      },
      "outputs": [],
      "source": [
        "# IMPORT REQUIRED LIBRARIES:\n",
        "# --------------------------\n",
        "import tensorflow as tf\n",
        "from tensorflow.keras.models import Sequential\n",
        "from tensorflow.keras.layers import Dense, Dropout, Activation, Flatten, Conv2D, MaxPooling2D\n",
        "import pickle\n",
        "import numpy as np\n",
        "from numpy import genfromtxt\n",
        "import numpy as np\n",
        "import matplotlib.pyplot as plt\n",
        "import matplotlib.image as mpimg\n",
        "import os\n",
        "import cv2\n",
        "from PIL import Image\n",
        "import imageio\n",
        "import pandas as pd\n",
        "import random\n",
        "import pickle\n",
        "import pandas as pd\n",
        "from sklearn.preprocessing import LabelBinarizer\n",
        "from skimage.io import imread_collection\n",
        "import glob"
      ]
    },
    {
      "cell_type": "markdown",
      "id": "RbG3DPw3ds44",
      "metadata": {
        "id": "RbG3DPw3ds44"
      },
      "source": [
        "## **Note:**\n",
        "* This is the way to mount drive and read images directly from Google Drive. However, since we have 24,000 images, this will take a while. Therefore, I will show you just this first step on Spyder as I can access the files locally.\n",
        "* Then, we can just upload the numpy arrays here and work on those.\n",
        "\n",
        "  * Anyway, you only need to do this the very first time that you read in the data.\n",
        "  * .py script can be accessed over this link: \n"
      ]
    },
    {
      "cell_type": "markdown",
      "id": "IBdKo70mIJTe",
      "metadata": {
        "id": "IBdKo70mIJTe"
      },
      "source": [
        "## Classification Dataset\n",
        "\n",
        "\n",
        "We will make use of the popular 'Cats vs Dogs' classification dataset.\n",
        "\n",
        "Dataset download link: https://download.microsoft.com/download/3/E/1/3E1C3F21-ECDB-4869-8368-6DEBA77B919F/kagglecatsanddogs_3367a.zip"
      ]
    },
    {
      "cell_type": "markdown",
      "id": "rL0UpsnS7fMq",
      "metadata": {
        "id": "rL0UpsnS7fMq"
      },
      "source": [
        "## <a name=\"ex1\"></a>Exercise-1:\n",
        "\n",
        "* Read all of the .jpeg and .png images from a folder.\n",
        "\n",
        "* Save all of the images in a single list (i.e., a list of image arrays). Note that this is the most common way of working with data in python. We often save all of the data into numpy lists or dataframes or similar structures.\n",
        "\n",
        "There are many ways of doing this. I have made use of **opencv** as it is one of the most popular Computer Vision libraries in python. Read more at: https://github.com/opencv/opencv"
      ]
    },
    {
      "cell_type": "markdown",
      "source": [
        "<a href=\"#ex1sol\">Solution for Exercise 1</a>"
      ],
      "metadata": {
        "id": "6VxtI7S8P_Zt"
      },
      "id": "6VxtI7S8P_Zt"
    },
    {
      "cell_type": "markdown",
      "id": "PFjyIH88-aKt",
      "metadata": {
        "id": "PFjyIH88-aKt"
      },
      "source": [
        "## Handling pickle (or npy) data:\n",
        "\n",
        "* We often need to run ML algorithms many times with little tweaks in the model.\n",
        "\n",
        "* How do we achieve this? Of course, we could read the data every time and save it as a list as shown above.\n",
        "\n",
        "* However, this is a very time-consuming approach.\n",
        "\n",
        "* What is a better approach? Saving the data as a list of image arrays once, and save that for later use.\n",
        "\n",
        "\n",
        "\n",
        "Read about the **`.pickle`** and **`.npy`** file types. (Here, we will use pickle - don't forget to import the **** library.)\n"
      ]
    },
    {
      "cell_type": "markdown",
      "source": [
        "### Writing data to pickle file:"
      ],
      "metadata": {
        "id": "Ey2BtSSSmUqk"
      },
      "id": "Ey2BtSSSmUqk"
    },
    {
      "cell_type": "code",
      "execution_count": null,
      "id": "jQhffyIxALJk",
      "metadata": {
        "id": "jQhffyIxALJk"
      },
      "outputs": [],
      "source": [
        "# # SYNTAX:\n",
        "# # -------\n",
        "# pickle_out=open(\"data.pickle\",\"wb\")\n",
        "# pickle.dump(data,pickle_out)\n",
        "# pickle_out.close()"
      ]
    },
    {
      "cell_type": "markdown",
      "source": [
        "### Reading data from pickle file:"
      ],
      "metadata": {
        "id": "Hz9eO2u_mZyA"
      },
      "id": "Hz9eO2u_mZyA"
    },
    {
      "cell_type": "code",
      "source": [
        "# # SYNTAX:\n",
        "# # -------\n",
        "# data=pickle.load(open(\"data.pickle\",\"rb\"))"
      ],
      "metadata": {
        "id": "HJ6Cn-8rmc54"
      },
      "id": "HJ6Cn-8rmc54",
      "execution_count": null,
      "outputs": []
    },
    {
      "cell_type": "markdown",
      "source": [
        "## <a name=\"ex2\"></a>Exercise-2:\n",
        "\n",
        "* Read in the training data(X) and corresponding labels(y)."
      ],
      "metadata": {
        "id": "zJNyAnoFnRRN"
      },
      "id": "zJNyAnoFnRRN"
    },
    {
      "cell_type": "markdown",
      "source": [
        "<a href=\"#ex2sol\">Solution for Exercise 2</a>"
      ],
      "metadata": {
        "id": "9duTDEw8oEwp"
      },
      "id": "9duTDEw8oEwp"
    },
    {
      "cell_type": "markdown",
      "source": [
        "# Randomizing the data:"
      ],
      "metadata": {
        "id": "NXjAqa1DrOnr"
      },
      "id": "NXjAqa1DrOnr"
    },
    {
      "cell_type": "markdown",
      "id": "paF8xtO2qnzt",
      "metadata": {
        "id": "paF8xtO2qnzt"
      },
      "source": [
        "## <a name=\"ex3\"></a> Exercise-3:\n",
        "\n",
        "* Randomize the data while preserving the sample-wise label information."
      ]
    },
    {
      "cell_type": "markdown",
      "source": [
        "<a href=\"#ex3sol\">Solution for Exercise 3</a>"
      ],
      "metadata": {
        "id": "L8gMKPNFrk_Q"
      },
      "id": "L8gMKPNFrk_Q"
    },
    {
      "cell_type": "markdown",
      "source": [
        "## <a name=\"ex4\"></a> Exercise-4:\n",
        "\n",
        "* Save shuffled data as pickle file for later use."
      ],
      "metadata": {
        "id": "6w-4rEt4tOYn"
      },
      "id": "6w-4rEt4tOYn"
    },
    {
      "cell_type": "markdown",
      "source": [
        "<a href=\"#ex4sol\">Solution for Exercise 4</a>"
      ],
      "metadata": {
        "id": "UmokcGsG9miR"
      },
      "id": "UmokcGsG9miR"
    },
    {
      "cell_type": "markdown",
      "id": "sTCAVBx2tBoP",
      "metadata": {
        "id": "sTCAVBx2tBoP"
      },
      "source": [
        "# **CONVOLUTIONAL NEURAL NETWORKS (CNNs):**"
      ]
    },
    {
      "cell_type": "markdown",
      "id": "kwWqDKSNtx2T",
      "metadata": {
        "id": "kwWqDKSNtx2T"
      },
      "source": [
        "# Why CNNs?\n",
        "\n",
        "* Convert data to embeddings/ features\n",
        "* Example: Converting images from pixel space to feature space\n",
        "* Enhances learning, reduces dimensionality, represents the data better\n",
        "\n",
        "![](https://drive.google.com/uc?export=view&id=1imb0ZgzQ6sK02SniXUf4VebiLL7A14xa)"
      ]
    },
    {
      "cell_type": "markdown",
      "id": "0sm_svbftR93",
      "metadata": {
        "id": "0sm_svbftR93"
      },
      "source": [
        "# Components/ Layers:"
      ]
    },
    {
      "cell_type": "markdown",
      "id": "9ULjcZ605a0b",
      "metadata": {
        "id": "9ULjcZ605a0b"
      },
      "source": [
        "### **Question**: Looking at the kernel matrix provided above, what kind of pattern do you think it is meant to detect?\n",
        "\n",
        "  * Answer: Vertical edges"
      ]
    },
    {
      "cell_type": "markdown",
      "id": "cJs1ePysMW9R",
      "metadata": {
        "id": "cJs1ePysMW9R"
      },
      "source": [
        "## I. Convolutional Layer:\n",
        "* Helps extract local patterns in the data (here, image).\n",
        "* Also helps reduce the number of features. But that is a byproduct of the convolution operation, it is not the main objective. The main objective is to extract meaningful local patterns.\n",
        "+ ### **Note: If the image is an RGB (3-channel image), the convolved image is also 3-channel. If the input image is a gray (1-channel) image, the convolved image is also single-channeled.**\n",
        "  + This is because the kernel is applied on each channel separately for convolution.\n",
        "\n",
        "<br><br>\n",
        "\n",
        "## **An oversimplified example of convolution:**\n",
        "(Note: Kernel size 4*4, padding 0, stride length=1)\n",
        "![](https://drive.google.com/uc?export=view&id=1QngPcDB6pwkIz5Yhftr-3Rj8WEgD5h0Z)"
      ]
    },
    {
      "cell_type": "markdown",
      "id": "tS9egfG_NeaL",
      "metadata": {
        "id": "tS9egfG_NeaL"
      },
      "source": [
        "## II. Pooling Layer:\n",
        "\n",
        "* The main function of the pooling layer is to reduce dimensionality.\n",
        "* Two popular types of pooling: MaxPooling, and AveragePooling.\n",
        "* AveragePooling also helps in noise reduction.\n",
        "\n",
        "<br>\n",
        "\n",
        "## **A simple example of Pooling:**\n",
        "(Note: Pooling window size 3*3)\n",
        "![](https://drive.google.com/uc?export=view&id=17FzHhVdWnI0nrQDkOKiw-JlLqt0mJ9_p)"
      ]
    },
    {
      "cell_type": "markdown",
      "id": "ftwhH-7wxcl4",
      "metadata": {
        "id": "ftwhH-7wxcl4"
      },
      "source": [
        "## III. Feedforward Layer:\n",
        "* Standard Neural Network architecture used for classification\n",
        "\n",
        "<br>\n",
        "\n",
        "## **A simple fully-connected, feed forward neural network:**\n",
        "\n",
        "![](https://drive.google.com/uc?export=view&id=1bdz0dUNBzt7Ovo5m57-U_-qiBsq846sE)\n",
        "\n"
      ]
    },
    {
      "cell_type": "markdown",
      "id": "XMUUcT1dC9wn",
      "metadata": {
        "id": "XMUUcT1dC9wn"
      },
      "source": [
        "# Note on the 'Flatten' layer:\n",
        "* This is really not a layer in the conventional sense, although it is defined in the tensorflow.keras.layers.\n",
        "* This is a function used to convert the features (or weights) after pooling, to be fed into the aforementioned feedforward neural network for classification.\n",
        "\n",
        "  * We will see this a little later when we design the model."
      ]
    },
    {
      "cell_type": "markdown",
      "id": "fbV7RxjMxt2h",
      "metadata": {
        "id": "fbV7RxjMxt2h"
      },
      "source": [
        "# **For interested readers:**\n",
        "\n",
        "### Basic ideas behind machine learning and AI:\n",
        "* What do we mean by 'learning' and 'intelligent' systems?\n",
        "* What are the three main types of machine learning, and what are the differences?\n",
        "\n",
        "### Artificial neural networks:\n",
        "* NN-related terms: Neurons, layers, activation functions, fully connected networks, multi-layer perceptron\n",
        "* Hyperparameter tuning and model improvement basics: Learning rate, no. of neurons oer layer, how to set model size (i.e., no. and type of layers)\n",
        "* Learning-related: Learning rate, backpropagation, gradient descent\n",
        "\n",
        "### Optional reading (slightly more advanced):\n",
        "* What is transfer learning? What are pre-trained models, and how to use them? Why pre-trained models?\n",
        "* What is overfitting? How to 1. detect 2. tackle overfitting?\n",
        "  * Regularization, Dropout, resampling, oversampling (read about 'SMOTE') and undersampling, data augmentation techniques."
      ]
    },
    {
      "cell_type": "markdown",
      "id": "SV56FzfOiqRX",
      "metadata": {
        "id": "SV56FzfOiqRX"
      },
      "source": [
        "# **Designing the model:**\n",
        "\n",
        "\n",
        "<br>\n",
        "\n",
        "### A schematic representation of our model:\n",
        "\n",
        "![](https://drive.google.com/uc?export=view&id=1bDTsN4kiXvC1gh2vlPeVtbAhgmiu_dBn)\n",
        "\n"
      ]
    },
    {
      "cell_type": "code",
      "execution_count": null,
      "id": "EmnpyJz7i8HT",
      "metadata": {
        "id": "EmnpyJz7i8HT"
      },
      "outputs": [],
      "source": [
        "X=pickle.load(open(\"X.pickle\",\"rb\"))\n",
        "y=pickle.load(open(\"y.pickle\",\"rb\"))\n",
        "\n",
        "# Normalize data\n",
        "X=np.asarray(X)/255.0\n",
        "# X=X.tolist()\n",
        "\n",
        "y = np.array(y)\n",
        "\n",
        "model=Sequential()\n",
        "\n",
        "model.add(  Conv2D(64,(3,3),input_shape=X.shape[1:])  )\n",
        "model.add(Activation(\"relu\"))\n",
        "model.add(MaxPooling2D(pool_size=(2,2)))\n",
        "\n",
        "model.add(  Conv2D(32,(2,2))    )\n",
        "model.add(Activation(\"relu\"))\n",
        "model.add(MaxPooling2D(pool_size=(2,2)))\n",
        "\n",
        "model.add(Flatten())\n",
        "\n",
        "model.add(Dense(128))\n",
        "model.add(Activation('sigmoid'))\n",
        "\n",
        "# model.add(Dense(64))\n",
        "# model.add(Activation('sigmoid'))\n",
        "\n",
        "model.add(Dense(1))\n",
        "model.add(Activation(\"sigmoid\"))\n",
        "\n",
        "model.compile(loss=\"binary_crossentropy\",\n",
        "              optimizer=\"adam\",\n",
        "              metrics=['accuracy'])\n",
        "\n",
        "# callback = tf.keras.callbacks.EarlyStopping(monitor='val_loss', patience=3)\n",
        "\n",
        "# history=model.fit(X, y, batch_size=32, shuffle=True, sample_weight=None, epochs=50,validation_split=0.1, verbose = 1, callbacks=[callback]) # seed=100,         \n",
        "\n",
        "history=model.fit(X, y, batch_size=32, shuffle=True, sample_weight=None, epochs=50,validation_split=0.1, verbose = 1) # seed=100,         \n",
        "\n",
        "\n",
        "# model.fit(X,y,batch_size=32,epochs=25,validation_split=0.1)\n",
        "\n",
        "# list all data in history\n",
        "print(history.history.keys())\n",
        "# summarize history for accuracy\n",
        "plt.plot(history.history['accuracy'])\n",
        "plt.plot(history.history['val_accuracy'])\n",
        "plt.title('model accuracy')\n",
        "plt.ylabel('accuracy')\n",
        "plt.xlabel('epoch')\n",
        "plt.legend(['train', 'validation'], loc='upper left')\n",
        "plt.show()\n",
        "# summarize history for loss\n",
        "plt.plot(history.history['loss'])\n",
        "plt.plot(history.history['val_loss'])\n",
        "plt.title('model loss')\n",
        "plt.ylabel('loss')\n",
        "plt.xlabel('epoch')\n",
        "plt.legend(['train', 'validation'], loc='upper left')\n",
        "plt.show()"
      ]
    },
    {
      "cell_type": "markdown",
      "source": [
        "## <a name=\"ex5\"></a> Exercise-5:\n",
        "* How many neurons are there in each of the aforementioned layers?"
      ],
      "metadata": {
        "id": "jkTis5DGvqVb"
      },
      "id": "jkTis5DGvqVb"
    },
    {
      "cell_type": "markdown",
      "source": [
        "<a href=\"#ex5sol\">Solution for Exercise 5</a>"
      ],
      "metadata": {
        "id": "IzkOWlkJv6El"
      },
      "id": "IzkOWlkJv6El"
    },
    {
      "cell_type": "markdown",
      "source": [
        "## <a name=\"ex6\"></a> Exercise-6:\n",
        "* Why have we not used a Softmax layer?"
      ],
      "metadata": {
        "id": "29ulDvxLvzIV"
      },
      "id": "29ulDvxLvzIV"
    },
    {
      "cell_type": "markdown",
      "source": [
        "<a href=\"#ex6sol\">Solution for Exercise 6</a>"
      ],
      "metadata": {
        "id": "oDcNVKrev6sF"
      },
      "id": "oDcNVKrev6sF"
    },
    {
      "cell_type": "markdown",
      "source": [
        "<a name=\"ex1sol\">Solution for Exercise 1</a>"
      ],
      "metadata": {
        "id": "5yacG7sYSO7v"
      },
      "id": "5yacG7sYSO7v"
    },
    {
      "cell_type": "code",
      "source": [
        "# Simple way to read in all of the data:\n",
        "# --------------------------------------\n",
        "\n",
        "####################################################################################\n",
        "CATS_folder='PET-IMAGES/Cat' # CATS_folder='Cat_folder_path' | # If reading from Drive: CATS_folder='/content/drive/MyDrive/PetImages/Cat'\n",
        "DOGS_folder='PET-IMAGES/Dog' # DOGS_folder='Dog_folder_path' | # If reading from Drive: DOGS_folder='/content/drive/MyDrive/PetImages/Dog'\n",
        "\n",
        "imdir = CATS_folder # or, DOGS_folder\n",
        "ext = ['png', 'jpg'] # add other image formats for other datasets\n",
        "files = []\n",
        "[files.extend(glob.glob(imdir + '*.' + e)) for e in ext]\n",
        "images = [cv2.imread(file) for file in files]\n",
        "####################################################################################"
      ],
      "metadata": {
        "id": "uygDN6GASbaz"
      },
      "id": "uygDN6GASbaz",
      "execution_count": null,
      "outputs": []
    },
    {
      "cell_type": "markdown",
      "source": [
        "<a href=\"#ex1\">Back to Exercise 1</a>"
      ],
      "metadata": {
        "id": "spxTpYLDbbr8"
      },
      "id": "spxTpYLDbbr8"
    },
    {
      "cell_type": "markdown",
      "source": [
        "<a name=\"ex2sol\">Solution for Exercise 2</a>"
      ],
      "metadata": {
        "id": "JUPxFoApoOSN"
      },
      "id": "JUPxFoApoOSN"
    },
    {
      "cell_type": "code",
      "source": [
        "X=pickle.load(open(\"X.pickle\",\"rb\"))\n",
        "y=pickle.load(open(\"y.pickle\",\"rb\"))"
      ],
      "metadata": {
        "id": "qkQbLZgCoZGf"
      },
      "id": "qkQbLZgCoZGf",
      "execution_count": null,
      "outputs": []
    },
    {
      "cell_type": "markdown",
      "source": [
        "<a href=\"#ex2\">Back to Exercise 2</a>"
      ],
      "metadata": {
        "id": "HDEv3rTEoSBo"
      },
      "id": "HDEv3rTEoSBo"
    },
    {
      "cell_type": "markdown",
      "source": [
        "<a name=\"ex3sol\">Solution for Exercise 3</a>"
      ],
      "metadata": {
        "id": "Toq7raURsvqO"
      },
      "id": "Toq7raURsvqO"
    },
    {
      "cell_type": "code",
      "source": [
        "def Shuffle(X, y):\n",
        "    X_shuffled=[]\n",
        "    y_shuffled=[]\n",
        "    length=len(y)\n",
        "    index=list(range(length))\n",
        "    random.Random(12).shuffle(index)\n",
        "    for i in range(length):\n",
        "        X_shuffled.append(X[index[i]])\n",
        "        y_shuffled.append(y[index[i]])\n",
        "    return X_shuffled, y_shuffled\n",
        "X, y=Shuffle(X, y)"
      ],
      "metadata": {
        "id": "-nBq2bZoswKy"
      },
      "id": "-nBq2bZoswKy",
      "execution_count": null,
      "outputs": []
    },
    {
      "cell_type": "markdown",
      "source": [
        "<a href=\"#ex3\">Back to Exercise 3</a>"
      ],
      "metadata": {
        "id": "5RM5vfoss8EZ"
      },
      "id": "5RM5vfoss8EZ"
    },
    {
      "cell_type": "markdown",
      "source": [
        "<a name=\"ex4sol\">Solution for Exercise 4</a>"
      ],
      "metadata": {
        "id": "df2Te6Fc94mh"
      },
      "id": "df2Te6Fc94mh"
    },
    {
      "cell_type": "code",
      "source": [
        "# Save the training data\n",
        "pickle_out=open(\"X_save.pickle\",\"wb\")\n",
        "pickle.dump(X,pickle_out)\n",
        "pickle_out.close()\n",
        "# Save the training labels\n",
        "pickle_out=open(\"y_save.pickle\",\"wb\")\n",
        "pickle.dump(y,pickle_out)\n",
        "pickle_out.close()"
      ],
      "metadata": {
        "id": "w-E5MGcf-GFG"
      },
      "id": "w-E5MGcf-GFG",
      "execution_count": null,
      "outputs": []
    },
    {
      "cell_type": "markdown",
      "source": [
        "<a href=\"#ex4\">Back to Exercise 4</a>"
      ],
      "metadata": {
        "id": "ADasurGm98CT"
      },
      "id": "ADasurGm98CT"
    },
    {
      "cell_type": "markdown",
      "source": [
        "<a name=\"ex5sol\">Solution for Exercise 5</a>"
      ],
      "metadata": {
        "id": "ecbIfYcwwAvZ"
      },
      "id": "ecbIfYcwwAvZ"
    },
    {
      "cell_type": "markdown",
      "source": [
        "* ***Conv-1***: 64, ***Conv2***: 32, ***Dense-1***: 128, ***Dense-2***: 1"
      ],
      "metadata": {
        "id": "djn_FJV5wCqY"
      },
      "id": "djn_FJV5wCqY"
    },
    {
      "cell_type": "markdown",
      "source": [
        "<a href=\"#ex5\">Back to Exercise 5</a>"
      ],
      "metadata": {
        "id": "XXpxgXUfwD1O"
      },
      "id": "XXpxgXUfwD1O"
    },
    {
      "cell_type": "markdown",
      "source": [
        "<a name=\"ex6sol\">Solution for Exercise 6</a>"
      ],
      "metadata": {
        "id": "nUA7Uopb7lQs"
      },
      "id": "nUA7Uopb7lQs"
    },
    {
      "cell_type": "markdown",
      "source": [
        "Because in 2-class classification, the probabilities will anyway add up to 1 when using sigmoid function."
      ],
      "metadata": {
        "id": "lTinfT_M7oKM"
      },
      "id": "lTinfT_M7oKM"
    },
    {
      "cell_type": "markdown",
      "source": [
        "<a href=\"#ex6\">Back to Exercise 6</a>"
      ],
      "metadata": {
        "id": "KY8_di7S7rDa"
      },
      "id": "KY8_di7S7rDa"
    },
    {
      "cell_type": "markdown",
      "id": "Ip2dZppyxvdR",
      "metadata": {
        "id": "Ip2dZppyxvdR"
      },
      "source": [
        "### References:\n",
        "[1] Image generated with BioRender.com"
      ]
    }
  ],
  "metadata": {
    "celltoolbar": "Slideshow",
    "colab": {
      "collapsed_sections": [],
      "name": "7_image_classification_using_keras (1).ipynb",
      "private_outputs": true,
      "provenance": []
    },
    "interpreter": {
      "hash": "eef83daaa25a6a574d0d0479cc43f87e19b645fd2c92685619488cac1bd491c0"
    },
    "kernelspec": {
      "display_name": "python-intro",
      "language": "python",
      "name": "python-intro"
    },
    "language_info": {
      "codemirror_mode": {
        "name": "ipython",
        "version": 3
      },
      "file_extension": ".py",
      "mimetype": "text/x-python",
      "name": "python",
      "nbconvert_exporter": "python",
      "pygments_lexer": "ipython3",
      "version": "3.10.4"
    },
    "latex_envs": {
      "LaTeX_envs_menu_present": true,
      "autoclose": false,
      "autocomplete": true,
      "bibliofile": "biblio.bib",
      "cite_by": "apalike",
      "current_citInitial": 1,
      "eqLabelWithNumbers": true,
      "eqNumInitial": 1,
      "hotkeys": {
        "equation": "Ctrl-E",
        "itemize": "Ctrl-I"
      },
      "labels_anchors": false,
      "latex_user_defs": false,
      "report_style_numbering": false,
      "user_envs_cfg": false
    }
  },
  "nbformat": 4,
  "nbformat_minor": 5
}