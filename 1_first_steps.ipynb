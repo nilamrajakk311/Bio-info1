{
 "cells": [
  {
   "cell_type": "markdown",
   "id": "japanese-triangle",
   "metadata": {
    "slideshow": {
     "slide_type": "slide"
    }
   },
   "source": [
    "<figure>\n",
    "  <IMG SRC=\"input/FAU.png\" WIDTH=250 ALIGN=\"right\">\n",
    "</figure>\n",
    "\n",
    "# First Steps in Python 3\n",
    "    \n",
    "*David B. Blumenthal, Suryadipto Sarkar*"
   ]
  },
  {
   "cell_type": "markdown",
   "id": "dated-resolution",
   "metadata": {
    "slideshow": {
     "slide_type": "slide"
    }
   },
   "source": [
    "---\n",
    "## Hello world in Python"
   ]
  },
  {
   "cell_type": "code",
   "execution_count": 1,
   "id": "prostate-exclusion",
   "metadata": {
    "slideshow": {
     "slide_type": "fragment"
    }
   },
   "outputs": [
    {
     "name": "stdout",
     "output_type": "stream",
     "text": [
      "Hello world!\n"
     ]
    }
   ],
   "source": [
    "print('Hello world!')"
   ]
  },
  {
   "cell_type": "markdown",
   "id": "artistic-butterfly",
   "metadata": {
    "slideshow": {
     "slide_type": "slide"
    }
   },
   "source": [
    "---\n",
    "## Use Python 3 as a calculator"
   ]
  },
  {
   "cell_type": "code",
   "execution_count": 3,
   "id": "growing-newport",
   "metadata": {
    "slideshow": {
     "slide_type": "fragment"
    }
   },
   "outputs": [
    {
     "name": "stdout",
     "output_type": "stream",
     "text": [
      "11\n",
      "30\n",
      "7776\n",
      "1.2\n",
      "1\n",
      "1\n"
     ]
    }
   ],
   "source": [
    "print(6 + 5)  # Addition\n",
    "print(6 * 5)  # Multiplication\n",
    "print(6 ** 5) # Exponentiation\n",
    "print(6 / 5)  # Division\n",
    "print(6 // 5) # Integer division\n",
    "print(6 % 5)  # Modulo"
   ]
  },
  {
   "cell_type": "markdown",
   "id": "varying-virus",
   "metadata": {
    "slideshow": {
     "slide_type": "slide"
    }
   },
   "source": [
    "---\n",
    "## Variables\n",
    "\n",
    "Like in all programming languages, **variables** are used in Python to **store values**."
   ]
  },
  {
   "cell_type": "code",
   "execution_count": 3,
   "id": "pharmaceutical-ferry",
   "metadata": {
    "slideshow": {
     "slide_type": "fragment"
    }
   },
   "outputs": [
    {
     "name": "stdout",
     "output_type": "stream",
     "text": [
      "2.0\n",
      "20\n"
     ]
    }
   ],
   "source": [
    "a = 6         # Initialize and declare variable a.\n",
    "print(a / 3)  # Divide a by 3.\n",
    "a += 4        # Add 4 to a.\n",
    "a *= 2        # Multiply a by 2.\n",
    "print(a)      # Print current value stored in a."
   ]
  },
  {
   "cell_type": "markdown",
   "id": "remarkable-bearing",
   "metadata": {
    "slideshow": {
     "slide_type": "slide"
    }
   },
   "source": [
    "---\n",
    "## <a name=\"ex1\"></a>Exercise 1\n",
    "\n",
    "Use Python to compute the value of the polynomial\n",
    "$$f(x)=\\sum_{i=0}^2a_ix^i$$\n",
    "at $x=50$, for $a_0=3$, $a_1=2.3$, and $a_2=-5.4$.\n",
    "\n",
    "Save the solution in a variable called `poly_at_x`."
   ]
  },
  {
   "cell_type": "code",
   "execution_count": null,
   "id": "cultural-approach",
   "metadata": {
    "slideshow": {
     "slide_type": "skip"
    }
   },
   "outputs": [],
   "source": []
  },
  {
   "cell_type": "markdown",
   "id": "apparent-stage",
   "metadata": {
    "slideshow": {
     "slide_type": "skip"
    }
   },
   "source": [
    "<a href=\"#ex1sol\">Solution for Exercise 1</a>"
   ]
  },
  {
   "cell_type": "markdown",
   "id": "exterior-judgment",
   "metadata": {
    "slideshow": {
     "slide_type": "slide"
    }
   },
   "source": [
    "---\n",
    "## Data types in Python"
   ]
  },
  {
   "cell_type": "markdown",
   "id": "4db8acce",
   "metadata": {
    "slideshow": {
     "slide_type": "slide"
    }
   },
   "source": [
    "### Everything is an object\n",
    "\n",
    "- Every value in Python has a **data type**.\n",
    "- Everything is an **object** in Python.\n",
    "- $\\Longrightarrow$ **Types are classes** and **variables are objects** instantiating them."
   ]
  },
  {
   "cell_type": "markdown",
   "id": "3cbe4e69",
   "metadata": {
    "slideshow": {
     "slide_type": "slide"
    }
   },
   "source": [
    "### Some important data types\n",
    "\n",
    "- **Numbers**: `int`, `float`, `complex`.\n",
    "- **Strings**: `str`.\n",
    "- **Booleans**: `bool`.\n",
    "- **Containers**: `list`, `tuple`, `set`, `dict`."
   ]
  },
  {
   "cell_type": "markdown",
   "id": "052c6916",
   "metadata": {
    "slideshow": {
     "slide_type": "slide"
    }
   },
   "source": [
    "### Dynamic typing\n",
    "\n",
    "Python is **dynamically typed**, which means that:\n",
    "\n",
    "- You **don't have to declare** the type of a variable.\n",
    "- The type of a variable is **known only at runtime**."
   ]
  },
  {
   "cell_type": "code",
   "execution_count": 5,
   "id": "instructional-shannon",
   "metadata": {
    "slideshow": {
     "slide_type": "slide"
    }
   },
   "outputs": [
    {
     "name": "stdout",
     "output_type": "stream",
     "text": [
      "<class 'int'> True\n",
      "<class 'float'> False\n",
      "<class 'float'> True\n"
     ]
    }
   ],
   "source": [
    "# Variable a is an int.\n",
    "a = 3\n",
    "print(type(a), isinstance(a, int))\n",
    "\n",
    "# Variable b is a float.\n",
    "b = 3.0\n",
    "print(type(b), isinstance(b, int))\n",
    "\n",
    "# Now, a is a float.\n",
    "a += b\n",
    "print(type(a), isinstance(a, float))"
   ]
  },
  {
   "cell_type": "markdown",
   "id": "expanded-america",
   "metadata": {
    "slideshow": {
     "slide_type": "slide"
    }
   },
   "source": [
    "### Explicit type conversion\n",
    "\n",
    "Explicitly changing the type of a variable is easy:"
   ]
  },
  {
   "cell_type": "code",
   "execution_count": 6,
   "id": "behavioral-partition",
   "metadata": {
    "slideshow": {
     "slide_type": "slide"
    }
   },
   "outputs": [
    {
     "name": "stdout",
     "output_type": "stream",
     "text": [
      "6\n",
      "<class 'str'>\n"
     ]
    }
   ],
   "source": [
    "a = 6.7        # We initialize a as a float.\n",
    "a = int(a)     # Now, we have converted a to an int.\n",
    "print(a)       # We loose the non-integral part (it is cut, not rounded).\n",
    "a = str(a)     # Now, a is a string.\n",
    "print(type(a))"
   ]
  },
  {
   "cell_type": "markdown",
   "id": "restricted-hughes",
   "metadata": {
    "slideshow": {
     "slide_type": "slide"
    }
   },
   "source": [
    "---\n",
    "## Strings\n",
    "\n",
    "- One of Python's many advantages: it allows **very easy string handling**.\n",
    "\n",
    "```python\n",
    "single_quote_string = 'I am a string.'\n",
    "double_quote_string = \"I am also a string.\"\n",
    "```\n",
    "\n",
    "- Strings constructed via **single quotes** and **double quotes** are equivalent, just **be consistent**."
   ]
  },
  {
   "cell_type": "markdown",
   "id": "3901dd0a",
   "metadata": {
    "slideshow": {
     "slide_type": "slide"
    }
   },
   "source": [
    "### Formatted strings (f-Strings)"
   ]
  },
  {
   "cell_type": "code",
   "execution_count": 7,
   "id": "waiting-drama",
   "metadata": {
    "slideshow": {
     "slide_type": "fragment"
    }
   },
   "outputs": [
    {
     "name": "stdout",
     "output_type": "stream",
     "text": [
      "My name is Ann and I am 28 years old.\n"
     ]
    }
   ],
   "source": [
    "name = 'Ann'\n",
    "age = 28\n",
    "f_string = f'My name is {name} and I am {age} years old.'\n",
    "print(f_string)"
   ]
  },
  {
   "cell_type": "markdown",
   "id": "instant-integrity",
   "metadata": {
    "slideshow": {
     "slide_type": "slide"
    }
   },
   "source": [
    "### Pretty-printing floats and integers with f-Strings"
   ]
  },
  {
   "cell_type": "code",
   "execution_count": 6,
   "id": "effective-compensation",
   "metadata": {
    "slideshow": {
     "slide_type": "slide"
    }
   },
   "outputs": [
    {
     "name": "stdout",
     "output_type": "stream",
     "text": [
      "    34.38\n",
      " 3.44e+01\n",
      "  34.3848\n",
      "34.38\n",
      "   123456\n",
      "1.234560e+05\n",
      "11110001001000000\n",
      "361100\n",
      "1e240\n"
     ]
    }
   ],
   "source": [
    "width = 9                           # Lower bound on desired width.\n",
    "precision = 2                       # Desired precision.\n",
    "x = 34.3848                         # A float.\n",
    "n = 123456                          # An int.\n",
    "print(f'{x:{width}.{precision}f}')  # Pretty-print float, specifying both width and precision.\n",
    "print(f'{x:{width}.{precision}e}')  # Pretty-print float in scientific notation, specifying both width and precision.\n",
    "print(f'{x:{width}}')               # Pretty-print float, specifying width only.\n",
    "print(f'{x:.{precision}f}')         # Pretty-print float, specifying precision only.\n",
    "print(f'{n:{width}}')               # Pretty-print int, specifying width.\n",
    "print(f'{n:e}')                     # Print int in scientific notation.\n",
    "print(f'{n:b}')                     # Print int in binary notation.\n",
    "print(f'{n:o}')                     # Print int in octal notation.\n",
    "print(f'{n:x}')                     # Print int in hexadecimal notation."
   ]
  },
  {
   "cell_type": "markdown",
   "id": "sudden-manhattan",
   "metadata": {
    "slideshow": {
     "slide_type": "slide"
    }
   },
   "source": [
    "### Most important string operations"
   ]
  },
  {
   "cell_type": "code",
   "execution_count": 9,
   "id": "passing-cooperation",
   "metadata": {
    "slideshow": {
     "slide_type": "slide"
    }
   },
   "outputs": [
    {
     "name": "stdout",
     "output_type": "stream",
     "text": [
      "I\n",
      ".\n",
      "I a\n",
      "I am a stri\n",
      "m a string.\n",
      "ng.\n",
      "m a\n",
      "I am a string.I am a string.I am a string.\n",
      "I am a string. I am also a string.\n",
      "14\n"
     ]
    }
   ],
   "source": [
    "s_1 = 'I am a string.'      # Construct string using single quotes.\n",
    "s_2 = \"I am also a string.\" # Construct string using double quotes.\n",
    "print(s_1[0])               # Get character at first position.\n",
    "print(s_1[-1])              # Get character at last position.\n",
    "print(s_1[:3])              # Get prefix consisting of first three characters.\n",
    "print(s_1[:-3])             # Get prefix consisting of all but last three characters.\n",
    "print(s_1[3:])              # Get suffix consisting of all but the first three characters.\n",
    "print(s_1[-3:])             # Get suffix consisting of the last three characters.\n",
    "print(s_1[3:6])             # Get substring starting at fourth character (index 3) and ending at sixth character (index 5).\n",
    "print(s_1 * 3)              # Repeat string three times. \n",
    "print(s_1 + ' ' + s_2)      # Concatenate strings.\n",
    "print(len(s_1))             # Get length of string."
   ]
  },
  {
   "cell_type": "markdown",
   "id": "extraordinary-given",
   "metadata": {
    "slideshow": {
     "slide_type": "slide"
    }
   },
   "source": [
    "### Strings are immutable"
   ]
  },
  {
   "cell_type": "code",
   "execution_count": 10,
   "id": "thirty-honduras",
   "metadata": {
    "slideshow": {
     "slide_type": "fragment"
    }
   },
   "outputs": [
    {
     "ename": "TypeError",
     "evalue": "'str' object does not support item assignment",
     "output_type": "error",
     "traceback": [
      "\u001b[0;31m---------------------------------------------------------------------------\u001b[0m",
      "\u001b[0;31mTypeError\u001b[0m                                 Traceback (most recent call last)",
      "Input \u001b[0;32mIn [10]\u001b[0m, in \u001b[0;36m<cell line: 1>\u001b[0;34m()\u001b[0m\n\u001b[0;32m----> 1\u001b[0m s_1[\u001b[38;5;241m4\u001b[39m] \u001b[38;5;241m=\u001b[39m \u001b[38;5;124m'\u001b[39m\u001b[38;5;124m4\u001b[39m\u001b[38;5;124m'\u001b[39m\n",
      "\u001b[0;31mTypeError\u001b[0m: 'str' object does not support item assignment"
     ]
    }
   ],
   "source": [
    "s_1[4] = '4'"
   ]
  },
  {
   "cell_type": "markdown",
   "id": "professional-muscle",
   "metadata": {
    "slideshow": {
     "slide_type": "slide"
    }
   },
   "source": [
    "## <a name=\"ex2\"></a>Exercise 2\n",
    "\n",
    "Use f-strings to **pretty-print** the solution `poly_at_x` to Exercise 1, using **scientific notation** and **2 bits precision**. "
   ]
  },
  {
   "cell_type": "code",
   "execution_count": null,
   "id": "excellent-blowing",
   "metadata": {
    "slideshow": {
     "slide_type": "skip"
    }
   },
   "outputs": [],
   "source": []
  },
  {
   "cell_type": "markdown",
   "id": "together-clothing",
   "metadata": {
    "slideshow": {
     "slide_type": "skip"
    }
   },
   "source": [
    "<a href=\"#ex2sol\">Solution for Exercise 2</a>"
   ]
  },
  {
   "cell_type": "markdown",
   "id": "steady-concord",
   "metadata": {
    "slideshow": {
     "slide_type": "slide"
    }
   },
   "source": [
    "---\n",
    "## Lists\n",
    "\n",
    "- Versatile containers that can contain items of **different types**.\n",
    "\n",
    "```python\n",
    "l = [4, 'Apple', True]\n",
    "```\n",
    "\n",
    "- Lists are **mutable**."
   ]
  },
  {
   "cell_type": "markdown",
   "id": "9def7847",
   "metadata": {
    "slideshow": {
     "slide_type": "slide"
    }
   },
   "source": [
    "### Most important list operations"
   ]
  },
  {
   "cell_type": "code",
   "execution_count": 13,
   "id": "computational-serum",
   "metadata": {
    "slideshow": {
     "slide_type": "slide"
    }
   },
   "outputs": [
    {
     "name": "stdout",
     "output_type": "stream",
     "text": [
      "['abcd', 786, 2.23, 'john', 70.2]\n",
      "abcd\n",
      "[786, 2.23]\n",
      "[2.23, 'john', 70.2]\n",
      "[123, 'john', 123, 'john']\n",
      "['abcd', 786, 2.23, 'john', 70.2, 123, 'john']\n",
      "5\n",
      "['abcd', 786, 'changed', 'john', 70.2, 'new']\n"
     ]
    }
   ],
   "source": [
    "l_1 = ['abcd', 786 , 2.23, 'john', 70.2] # Construct first list.\n",
    "l_2 = [123, 'john']                      # Construct second list.\n",
    "print(l_1)                               # Print complete list.\n",
    "print(l_1[0])                            # Get first element of the list.\n",
    "print(l_1[1:3])                          # Get elements starting from 2nd till 3rd.\n",
    "print(l_1[2:])                           # Get elements starting from 3rd element.\n",
    "print(l_2 * 2)                           # Repeat list two times.\n",
    "print(l_1 + l_2)                         # Concatenate lists.\n",
    "print(len(l_1))                          # Length of list.\n",
    "l_1.append('new')                        # Add new item to list.\n",
    "l_1[2] = 'changed'                       # Update item in list.\n",
    "print(l_1)                               # Print updated list."
   ]
  },
  {
   "cell_type": "markdown",
   "id": "aerial-discretion",
   "metadata": {
    "slideshow": {
     "slide_type": "slide"
    }
   },
   "source": [
    "---\n",
    "## Tuples\n",
    "\n",
    "- **Immutable** containers that can contain items of **different types** $\\Longrightarrow$ **read-only lists**.\n",
    "\n",
    "```python\n",
    "t = (4, 'Apple', True)\n",
    "```"
   ]
  },
  {
   "cell_type": "markdown",
   "id": "71ab4975",
   "metadata": {
    "slideshow": {
     "slide_type": "slide"
    }
   },
   "source": [
    "### Most important tuple operations (similar to list operations)"
   ]
  },
  {
   "cell_type": "code",
   "execution_count": 13,
   "id": "extra-change",
   "metadata": {
    "slideshow": {
     "slide_type": "slide"
    }
   },
   "outputs": [
    {
     "name": "stdout",
     "output_type": "stream",
     "text": [
      "('abcd', 786, 2.23, 'john', 70.2)\n",
      "abcd\n",
      "(786, 2.23)\n",
      "(2.23, 'john', 70.2)\n",
      "(123, 'john', 123, 'john')\n",
      "('abcd', 786, 2.23, 'john', 70.2, 123, 'john')\n",
      "5\n"
     ]
    }
   ],
   "source": [
    "t_1 = ('abcd', 786 , 2.23, 'john', 70.2) # Construct first tuple.\n",
    "t_2 = (123, 'john')                      # Construct second tuple.\n",
    "print(t_1)                               # Print complete tuplet.\n",
    "print(t_1[0])                            # Get first element of the tuple.\n",
    "print(t_1[1:3])                          # Get elements starting from 2nd till 3rd.\n",
    "print(t_1[2:])                           # Get elements starting from 3rd element.\n",
    "print(t_2 * 2)                           # Repeat tuple two times.\n",
    "print(t_1 + t_2)                         # Concatenate tuple.\n",
    "print(len(t_1))                          # Length of tuple."
   ]
  },
  {
   "cell_type": "markdown",
   "id": "american-complement",
   "metadata": {
    "slideshow": {
     "slide_type": "slide"
    }
   },
   "source": [
    "### But this does not work:"
   ]
  },
  {
   "cell_type": "code",
   "execution_count": 14,
   "id": "unlike-german",
   "metadata": {
    "slideshow": {
     "slide_type": "fragment"
    }
   },
   "outputs": [
    {
     "ename": "AttributeError",
     "evalue": "'tuple' object has no attribute 'append'",
     "output_type": "error",
     "traceback": [
      "\u001b[0;31m---------------------------------------------------------------------------\u001b[0m",
      "\u001b[0;31mAttributeError\u001b[0m                            Traceback (most recent call last)",
      "Input \u001b[0;32mIn [14]\u001b[0m, in \u001b[0;36m<cell line: 1>\u001b[0;34m()\u001b[0m\n\u001b[0;32m----> 1\u001b[0m \u001b[43mt_1\u001b[49m\u001b[38;5;241;43m.\u001b[39;49m\u001b[43mappend\u001b[49m(\u001b[38;5;124m'\u001b[39m\u001b[38;5;124mnew\u001b[39m\u001b[38;5;124m'\u001b[39m)\n",
      "\u001b[0;31mAttributeError\u001b[0m: 'tuple' object has no attribute 'append'"
     ]
    }
   ],
   "source": [
    "t_1.append('new')   # Cannot add item to tuple."
   ]
  },
  {
   "cell_type": "markdown",
   "id": "arranged-institute",
   "metadata": {
    "slideshow": {
     "slide_type": "slide"
    }
   },
   "source": [
    "---\n",
    "## Dictionaries\n",
    "\n",
    "- **Hash table** type with **keys** and **values**.\n",
    "\n",
    "```python\n",
    "d = {'True': True, 2: 2.0}\n",
    "```\n",
    "\n",
    "- **Keys** must be hashable – usually `int` or `str`.\n",
    "- **Values** can be of any type."
   ]
  },
  {
   "cell_type": "markdown",
   "id": "284f6e22",
   "metadata": {
    "slideshow": {
     "slide_type": "slide"
    }
   },
   "source": [
    "### Most important dictionary operations"
   ]
  },
  {
   "cell_type": "code",
   "execution_count": 7,
   "id": "cognitive-example",
   "metadata": {
    "scrolled": true,
    "slideshow": {
     "slide_type": "slide"
    }
   },
   "outputs": [
    {
     "name": "stdout",
     "output_type": "stream",
     "text": [
      "This is one\n",
      "This is two\n",
      "{'name': 'john', 'code': 6734}\n",
      "2\n",
      "dict_keys(['name', 'code'])\n",
      "dict_values(['john', 6734])\n",
      "dict_items([('name', 'john'), ('code', 6734)])\n",
      "False\n",
      "{'one': 'This is one', 2: 'This is 2'}\n"
     ]
    }
   ],
   "source": [
    "d_1 = {}                             # Initialize empty dict.\n",
    "d_1['one'] = 'This is one'           # Add string key 'one' with value 'This is one'.\n",
    "d_1[2]     = 'This is two'           # Add int key 2 with value 'This is two'.\n",
    "d_2 = {'name': 'john', 'code': 6734} # Initialize non-empty dict.\n",
    "print(d_1['one'])                    # Get value for key 'one'.\n",
    "print(d_1[2])                        # Get value for key 2.\n",
    "print(d_2)                           # Prints complete dictionary.\n",
    "print(len(d_1))                      # Length of dictionary.\n",
    "print(d_2.keys())                    # Get all the keys.\n",
    "print(d_2.values())                  # Get all the values.\n",
    "print(d_2.items())                   # Get all the key-value pairs as tuples.\n",
    "print('key' in d_1)                  # Check if dict has key 'key'.\n",
    "d_1[2] = 'This is 2'                 # Update value for existing key.\n",
    "print(d_1)                           # Print updated dict."
   ]
  },
  {
   "cell_type": "markdown",
   "id": "addressed-money",
   "metadata": {
    "slideshow": {
     "slide_type": "slide"
    }
   },
   "source": [
    "---\n",
    "## Comparisons and Boolean operations\n",
    "\n",
    "```python\n",
    "lhs == rhs        # Equal.\n",
    "lhs != rhs        # Unequal.\n",
    "lhs > rhs         # Strictly greater.\n",
    "lhs < rhs         # Strictly smaller.\n",
    "lhs >= rhs        # Greater or equal.\n",
    "lhs <= rhs        # Smaller or equal.\n",
    "elem in container # Checks containment.\n",
    "cond_1 and cond_2 # Logical and.\n",
    "cond_1 or cond_2  # Logical or.\n",
    "```"
   ]
  },
  {
   "cell_type": "markdown",
   "id": "first-validity",
   "metadata": {
    "slideshow": {
     "slide_type": "slide"
    }
   },
   "source": [
    "---\n",
    "## `if`/`else`-statements\n",
    "\n",
    "\n",
    "### Syntax\n",
    "\n",
    "```python\n",
    "if condition:\n",
    "    # do something\n",
    "elif condition:\n",
    "    # do something\n",
    "else:\n",
    "    # do something\n",
    "```"
   ]
  },
  {
   "cell_type": "markdown",
   "id": "statewide-politics",
   "metadata": {
    "slideshow": {
     "slide_type": "slide"
    }
   },
   "source": [
    "---\n",
    "## <a name=\"ex3\"></a>Exercise 3\n",
    "\n",
    "Print the integer `n` in scientific notation, if `n` is smaller than 50, and in binary notation, otherwise. "
   ]
  },
  {
   "cell_type": "code",
   "execution_count": 16,
   "id": "olympic-image",
   "metadata": {
    "slideshow": {
     "slide_type": "skip"
    }
   },
   "outputs": [],
   "source": [
    "from random import randrange # Random number generator.\n",
    "n = randrange(100)           # A random integer between 0 and 99."
   ]
  },
  {
   "cell_type": "markdown",
   "id": "located-surname",
   "metadata": {
    "slideshow": {
     "slide_type": "skip"
    }
   },
   "source": [
    "<a href=\"#ex3sol\">Solution for Exercise 3</a>"
   ]
  },
  {
   "cell_type": "markdown",
   "id": "electoral-probability",
   "metadata": {
    "slideshow": {
     "slide_type": "slide"
    }
   },
   "source": [
    "---\n",
    "## `for`-loops\n",
    "\n",
    "### Syntax\n",
    "\n",
    "```python\n",
    "for elem in iterator:\n",
    "    # do something\n",
    "```"
   ]
  },
  {
   "cell_type": "markdown",
   "id": "3f98f66f",
   "metadata": {
    "slideshow": {
     "slide_type": "slide"
    }
   },
   "source": [
    "### Iterating through lists"
   ]
  },
  {
   "cell_type": "code",
   "execution_count": 10,
   "id": "likely-visibility",
   "metadata": {
    "slideshow": {
     "slide_type": "slide"
    }
   },
   "outputs": [
    {
     "name": "stdout",
     "output_type": "stream",
     "text": [
      "The sum of the elements in [5] is 5.\n",
      "The sum of the elements in [5, 3] is 8.\n",
      "The sum of the elements in [5, 3, 2] is 10.\n",
      "The sum of the elements in [5, 3, 2, 1] is 11.\n",
      "The sum of the elements in [5, 3, 2, 1, 4] is 15.\n"
     ]
    }
   ],
   "source": [
    "running_sum = 0\n",
    "l = [5, 3, 2, 1, 4]\n",
    "index = 0\n",
    "for elem in l:\n",
    "    running_sum += elem\n",
    "    print(f'The sum of the elements in {l[:index + 1]} is {running_sum}.')\n",
    "    index += 1"
   ]
  },
  {
   "cell_type": "markdown",
   "id": "welcome-nickname",
   "metadata": {
    "slideshow": {
     "slide_type": "slide"
    }
   },
   "source": [
    "### The same using `enumerate`\n",
    "\n",
    "```python\n",
    "for index, elem in enumerate(iterator):\n",
    "    # do something\n",
    "```"
   ]
  },
  {
   "cell_type": "code",
   "execution_count": 11,
   "id": "knowing-instrument",
   "metadata": {
    "slideshow": {
     "slide_type": "fragment"
    }
   },
   "outputs": [
    {
     "name": "stdout",
     "output_type": "stream",
     "text": [
      "The sum of the elements in [5] is 5.\n",
      "The sum of the elements in [5, 3] is 8.\n",
      "The sum of the elements in [5, 3, 2] is 10.\n",
      "The sum of the elements in [5, 3, 2, 1] is 11.\n",
      "The sum of the elements in [5, 3, 2, 1, 4] is 15.\n"
     ]
    }
   ],
   "source": [
    "running_sum = 0\n",
    "l = [5, 3, 2, 1, 4]\n",
    "for index, elem in enumerate(l):\n",
    "    running_sum += elem\n",
    "    print(f'The sum of the elements in {l[:index + 1]} is {running_sum}.')"
   ]
  },
  {
   "cell_type": "markdown",
   "id": "animal-luther",
   "metadata": {
    "slideshow": {
     "slide_type": "slide"
    }
   },
   "source": [
    "### Interating through ranges.\n",
    "\n",
    "\n",
    "### Syntax\n",
    "\n",
    "```python\n",
    "range(start=0, stop, step=1)\n",
    "```\n",
    "\n",
    "- Returns sequence of integers starting at `start`, ending at `stop` **(not included)**, using step-size `step`.\n",
    "- Default of `start` is `0`.\n",
    "- Default of `step` is `1`."
   ]
  },
  {
   "cell_type": "code",
   "execution_count": 14,
   "id": "pressed-weight",
   "metadata": {
    "slideshow": {
     "slide_type": "slide"
    }
   },
   "outputs": [
    {
     "name": "stdout",
     "output_type": "stream",
     "text": [
      "The entry at position 0 in l_1 is abcd.\n",
      "The entry at position 1 in l_1 is 786.\n",
      "The entry at position 2 in l_1 is changed.\n",
      "The entry at position 3 in l_1 is john.\n",
      "The entry at position 4 in l_1 is 70.2.\n",
      "The entry at position 5 in l_1 is new.\n"
     ]
    }
   ],
   "source": [
    "for i in range(len(l_1)):\n",
    "    print(f'The entry at position {i} in l_1 is {l_1[i]}.')"
   ]
  },
  {
   "cell_type": "markdown",
   "id": "southeast-prize",
   "metadata": {
    "slideshow": {
     "slide_type": "slide"
    }
   },
   "source": [
    "### Iterating through dictionaries"
   ]
  },
  {
   "cell_type": "code",
   "execution_count": 21,
   "id": "joined-lighter",
   "metadata": {
    "slideshow": {
     "slide_type": "slide"
    }
   },
   "outputs": [
    {
     "name": "stdout",
     "output_type": "stream",
     "text": [
      "The value for key one in d_1 is This is one\n",
      "The value for key 2 in d_1 is This is 2\n",
      "The value for key one in d_1 is This is one\n",
      "The value for key 2 in d_1 is This is 2\n"
     ]
    }
   ],
   "source": [
    "# Iterate trough keys.\n",
    "for key in d_1:\n",
    "    print(f'The value for key {key} in d_1 is {d_1[key]}')\n",
    "    \n",
    "# Iterate trough key-value pairs.\n",
    "for key, value in d_1.items():\n",
    "    print(f'The value for key {key} in d_1 is {value}')"
   ]
  },
  {
   "cell_type": "markdown",
   "id": "ecd46ce2",
   "metadata": {
    "slideshow": {
     "slide_type": "slide"
    }
   },
   "source": [
    "### The `itertools` package"
   ]
  },
  {
   "cell_type": "code",
   "execution_count": 15,
   "id": "91e44a08",
   "metadata": {
    "slideshow": {
     "slide_type": "fragment"
    }
   },
   "outputs": [],
   "source": [
    "import itertools as itt"
   ]
  },
  {
   "cell_type": "markdown",
   "id": "28eaeb9d",
   "metadata": {
    "slideshow": {
     "slide_type": "slide"
    }
   },
   "source": [
    "#### Iterating over Cartesian products"
   ]
  },
  {
   "cell_type": "code",
   "execution_count": 19,
   "id": "3fef8fbb",
   "metadata": {
    "slideshow": {
     "slide_type": "fragment"
    }
   },
   "outputs": [
    {
     "name": "stdout",
     "output_type": "stream",
     "text": [
      "num=1,char=a\n",
      "num=1,char=b\n",
      "num=1,char=c\n",
      "num=2,char=a\n",
      "num=2,char=b\n",
      "num=2,char=c\n",
      "num=3,char=a\n",
      "num=3,char=b\n",
      "num=3,char=c\n",
      "num=4,char=a\n",
      "num=4,char=b\n",
      "num=4,char=c\n",
      "num=5,char=a\n",
      "num=5,char=b\n",
      "num=5,char=c\n"
     ]
    }
   ],
   "source": [
    "l_1 = [1,2,3,4,5]\n",
    "l_2 = ['a','b','c']\n",
    "for num, char in itt.product(l_1, l_2):\n",
    "    print(f'num={num},char={char}')"
   ]
  },
  {
   "cell_type": "markdown",
   "id": "84b76394",
   "metadata": {
    "slideshow": {
     "slide_type": "slide"
    }
   },
   "source": [
    "#### Iterating over permutations of given size"
   ]
  },
  {
   "cell_type": "code",
   "execution_count": 21,
   "id": "d58e2292",
   "metadata": {
    "slideshow": {
     "slide_type": "fragment"
    }
   },
   "outputs": [
    {
     "name": "stdout",
     "output_type": "stream",
     "text": [
      "char_1=a,char_2=b\n",
      "char_1=a,char_2=c\n",
      "char_1=b,char_2=a\n",
      "char_1=b,char_2=c\n",
      "char_1=c,char_2=a\n",
      "char_1=c,char_2=b\n"
     ]
    }
   ],
   "source": [
    "l_2 = ['a','b','c']\n",
    "for char_1, char_2 in itt.permutations(l_2, 2):\n",
    "    print(f'char_1={char_1},char_2={char_2}')"
   ]
  },
  {
   "cell_type": "markdown",
   "id": "b5bb1118",
   "metadata": {
    "slideshow": {
     "slide_type": "slide"
    }
   },
   "source": [
    "#### Iterating over combinations without replacement (sets) of given size"
   ]
  },
  {
   "cell_type": "code",
   "execution_count": 22,
   "id": "f4fee79e",
   "metadata": {
    "slideshow": {
     "slide_type": "fragment"
    }
   },
   "outputs": [
    {
     "name": "stdout",
     "output_type": "stream",
     "text": [
      "char_1=a,char_2=b\n",
      "char_1=a,char_2=c\n",
      "char_1=b,char_2=c\n"
     ]
    }
   ],
   "source": [
    "l_2 = ['a','b','c']\n",
    "for char_1, char_2 in itt.combinations(l_2, 2):\n",
    "    print(f'char_1={char_1},char_2={char_2}')"
   ]
  },
  {
   "cell_type": "markdown",
   "id": "short-despite",
   "metadata": {
    "slideshow": {
     "slide_type": "slide"
    }
   },
   "source": [
    "---\n",
    "## <a name=\"ex4\"></a>Exercise 4\n",
    "\n",
    "- Create a dictionary `days_in_months` where the **keys are months** and the **values are the number of days** in the month.\n",
    "- Iterate through the dictionary with a for-loop which prints `The number of days in MONTH is XX.`."
   ]
  },
  {
   "cell_type": "code",
   "execution_count": null,
   "id": "selective-accordance",
   "metadata": {
    "slideshow": {
     "slide_type": "skip"
    }
   },
   "outputs": [],
   "source": []
  },
  {
   "cell_type": "markdown",
   "id": "delayed-oakland",
   "metadata": {
    "slideshow": {
     "slide_type": "skip"
    }
   },
   "source": [
    "<a href=\"#ex4sol\">Solution for Exercise 4</a>"
   ]
  },
  {
   "cell_type": "markdown",
   "id": "infectious-alpha",
   "metadata": {
    "slideshow": {
     "slide_type": "slide"
    }
   },
   "source": [
    "---\n",
    "## `break` and `continue`\n",
    "\n",
    "- With `break`, you exit the current loop.\n",
    "- With `continue`, you fast-forward to the next iteration of the current loop."
   ]
  },
  {
   "cell_type": "markdown",
   "id": "2f45ece4",
   "metadata": {
    "slideshow": {
     "slide_type": "slide"
    }
   },
   "source": [
    "\n",
    "### Sum up all non-negative entries of a list using `continue`"
   ]
  },
  {
   "cell_type": "code",
   "execution_count": 23,
   "id": "tribal-desktop",
   "metadata": {
    "slideshow": {
     "slide_type": "slide"
    }
   },
   "outputs": [
    {
     "name": "stdout",
     "output_type": "stream",
     "text": [
      "The sum of all non-negative entries in [5, 3, -2, -1, 4] is 12.\n"
     ]
    }
   ],
   "source": [
    "l = [5, 3, -2, -1, 4]\n",
    "running_sum = 0\n",
    "for elem in l:\n",
    "    if elem < 0:\n",
    "        continue\n",
    "    running_sum += elem\n",
    "print(f'The sum of all non-negative entries in {l} is {running_sum}.')"
   ]
  },
  {
   "cell_type": "markdown",
   "id": "metropolitan-counter",
   "metadata": {
    "slideshow": {
     "slide_type": "slide"
    }
   },
   "source": [
    "### Use `break` to sum up all entries of the longest prefix of a list that contains only non-negative entries"
   ]
  },
  {
   "cell_type": "code",
   "execution_count": 24,
   "id": "given-portland",
   "metadata": {
    "slideshow": {
     "slide_type": "slide"
    }
   },
   "outputs": [
    {
     "name": "stdout",
     "output_type": "stream",
     "text": [
      "The sum of the entries of the longest non-negative prefix of [5, 3, -2, -1, 4] is 8.\n"
     ]
    }
   ],
   "source": [
    "running_sum = 0\n",
    "for elem in l:\n",
    "    if elem < 0:\n",
    "        break\n",
    "    running_sum += elem\n",
    "print(f'The sum of the entries of the longest non-negative prefix of {l} is {running_sum}.')"
   ]
  },
  {
   "cell_type": "markdown",
   "id": "constitutional-prize",
   "metadata": {
    "slideshow": {
     "slide_type": "slide"
    }
   },
   "source": [
    "---\n",
    "## `while`-loops\n",
    "\n",
    "### Syntax\n",
    "\n",
    "```python\n",
    "while condition:\n",
    "    # do something\n",
    "```"
   ]
  },
  {
   "cell_type": "markdown",
   "id": "24d9ca87",
   "metadata": {
    "slideshow": {
     "slide_type": "slide"
    }
   },
   "source": [
    "### Find index of first occurence of element in list"
   ]
  },
  {
   "cell_type": "code",
   "execution_count": 25,
   "id": "dominant-elements",
   "metadata": {
    "slideshow": {
     "slide_type": "slide"
    }
   },
   "outputs": [
    {
     "name": "stdout",
     "output_type": "stream",
     "text": [
      "The element 2 does not occur in [5, 3, 1, 4].\n"
     ]
    }
   ],
   "source": [
    "elem = 2            # The element we would like to find.\n",
    "index = 0           # The index.\n",
    "l = [5, 3, 2, 1, 4] # A list that contains the element.\n",
    "l = [5, 3, 1, 4]    # A list that does not contain it.\n",
    "\n",
    "while index < len(l) and l[index] != elem:\n",
    "    index += 1\n",
    "if index < len(l):\n",
    "    print(f'The index of the first occurence of {elem} in {l} is {index}.')\n",
    "else:\n",
    "    print(f'The element {elem} does not occur in {l}.')"
   ]
  },
  {
   "cell_type": "markdown",
   "id": "matched-click",
   "metadata": {
    "slideshow": {
     "slide_type": "slide"
    }
   },
   "source": [
    "---\n",
    "## <a name=\"ex5\"></a>Exercise 5\n",
    "\n",
    "Find the index of the first occurence of `elem` in `l` using `for` and `break`."
   ]
  },
  {
   "cell_type": "code",
   "execution_count": null,
   "id": "mediterranean-balance",
   "metadata": {
    "slideshow": {
     "slide_type": "skip"
    }
   },
   "outputs": [],
   "source": []
  },
  {
   "cell_type": "markdown",
   "id": "powered-skiing",
   "metadata": {
    "slideshow": {
     "slide_type": "skip"
    }
   },
   "source": [
    "<a href=\"#ex5sol\">Solution for Exercise 5</a>"
   ]
  },
  {
   "cell_type": "markdown",
   "id": "provincial-region",
   "metadata": {
    "slideshow": {
     "slide_type": "slide"
    }
   },
   "source": [
    "---\n",
    "## List, dictionary, and set comprehension\n",
    "\n",
    "- One of the nicest features in Python.\n",
    "- Construct lists, dictionaries, or sets via `for`-loops in just one line.\n",
    "- **Syntax for lists:** `l = [EXPRESSION for item in iterable if CONDITION]`\n",
    "- **Syntax for dictionaries:** `l = {KEY_EXPRESSION: VALUE_EXPRESSION for item in iterable if CONDITION}`\n",
    "- **Syntax for sets:** `l = {EXPRESSION for item in iterable if CONDITION}`\n"
   ]
  },
  {
   "cell_type": "markdown",
   "id": "9699a3d6",
   "metadata": {
    "slideshow": {
     "slide_type": "slide"
    }
   },
   "source": [
    "### Examples"
   ]
  },
  {
   "cell_type": "code",
   "execution_count": 27,
   "id": "trying-meeting",
   "metadata": {
    "slideshow": {
     "slide_type": "slide"
    }
   },
   "outputs": [
    {
     "name": "stdout",
     "output_type": "stream",
     "text": [
      "[True, False, True, False, True, False, True, False]\n",
      "{'0': False, '1': True, '2': False, '3': True, '4': False, '5': True, '6': False, '7': True, '8': False, '9': True}\n",
      "[True, False, True, False, True, False, True, False]\n"
     ]
    }
   ],
   "source": [
    "my_numbers = list(range(10))                        # Some numbers. \n",
    "is_even = [i % 2 == 0 for i in my_numbers if i < 8] # List specifying whether numbers smaller than 8 are even or odd.\n",
    "print(is_even)\n",
    "is_odd = {str(i): i % 2 == 1 for i in my_numbers}   # Dict containing string representations as keys and is-odd-flag as values.\n",
    "print(is_odd)\n",
    "int_division_by_two = {i // 2 for i in my_numbers}  # All possible results of integer divisions by 2.\n",
    "print(is_even)"
   ]
  },
  {
   "cell_type": "markdown",
   "id": "fourth-salon",
   "metadata": {
    "slideshow": {
     "slide_type": "slide"
    }
   },
   "source": [
    "---\n",
    "## Reading files\n",
    "\n",
    "### Open files for reading using the `with`-`as`-statement\n",
    "\n",
    "```python\n",
    "with open(filename, 'r') as fp: # Open file for reading and automatically close it at end of with-scope.\n",
    "    for line in fp:             # Iterate through the lines of the file.\n",
    "        pass                    # The keyword \"pass\" is a placeholder that does nothing.\n",
    "```"
   ]
  },
  {
   "cell_type": "markdown",
   "id": "fe480dad",
   "metadata": {
    "slideshow": {
     "slide_type": "slide"
    }
   },
   "source": [
    "### A rudimentary parser using `string.split()` , `string.strip()`, and `string.join()`\n",
    "\n",
    "- Create a **dictionary** which contains the **line numbers as keys** and a **list of words in the respective lines as values** (words are defined as white-space separated tokens).\n",
    "- **`string.strip(chars)`** returns a copy of `string` where all leading and trailing characters contained in `chars` are removed.\n",
    "- **`string.split(char)`** returns a list of all substrings of `string`seperated by character `char`.\n",
    "- **`string.join(list)`** returns a string where all elements of `list` are concatenated with `string`."
   ]
  },
  {
   "cell_type": "code",
   "execution_count": 28,
   "id": "alive-strap",
   "metadata": {
    "scrolled": true,
    "slideshow": {
     "slide_type": "slide"
    }
   },
   "outputs": [
    {
     "name": "stdout",
     "output_type": "stream",
     "text": [
      "{0: ['This', 'is', 'the', 'first', 'line'], 1: ['And', 'this', 'is', 'the', 'second', 'line']}\n",
      "This-is-the-first-line\n"
     ]
    }
   ],
   "source": [
    "words_in_lines = {}                                   # Initialize dictionary.\n",
    "with open('input/dummy_input.txt', 'r') as fp:        # Open input file for reading.\n",
    "    for line_number, line in enumerate(fp):           # Iterate through lines of input file.\n",
    "        line = line.strip('.\\n\\t ')                   # Remove leading and trailing dots, white-spaces, tabs, newlines.\n",
    "        words_in_lines[line_number] = line.split(' ') # Split line into words and add to dictionary.\n",
    "print(words_in_lines)                                 # Print dictionary.\n",
    "print('-'.join(words_in_lines[0]))                    # Now print a string where all words in the first "
   ]
  },
  {
   "cell_type": "markdown",
   "id": "instructional-whole",
   "metadata": {
    "slideshow": {
     "slide_type": "slide"
    }
   },
   "source": [
    "---\n",
    "## Writing files\n",
    "\n",
    "### Write to file using the `with`-`as`-statement"
   ]
  },
  {
   "cell_type": "code",
   "execution_count": 29,
   "id": "automatic-shadow",
   "metadata": {
    "slideshow": {
     "slide_type": "slide"
    }
   },
   "outputs": [],
   "source": [
    "with open('output/dummy_output.txt', 'w') as fp: # Open file for writing.\n",
    "    fp.write('First part of first line.')        # Write to file.\n",
    "    fp.write(' Second part of first line.\\n')    # Write to file, create new line via '\\n'.\n",
    "    fp.write('Second line.\\n')                   # Write to file."
   ]
  },
  {
   "cell_type": "markdown",
   "id": "mighty-glucose",
   "metadata": {
    "slideshow": {
     "slide_type": "slide"
    }
   },
   "source": [
    "---\n",
    "## All opening modes of the `open(filename, mode)` function\n",
    "\n",
    "|Mode|Description|\n",
    "|---|---|\n",
    "|**`'r'`**|Open or **reading** (default).|\n",
    "|**`'w'`**|Open for **writing**. Creates a new file if it does not exist or truncates the file if it exists.|\n",
    "|**`'x'`**|Open for **exclusive creation**. If the file already exists, the operation fails.|\n",
    "|**`'a'`**|Open for **appending** at the end of the file without truncating it. Creates a new file if it does not exist.|\n",
    "|**`'+'`**|Open for **updating, i.e., reading and writing**.|\n",
    "|**`'t'`**|Open in **text** mode (default).|\n",
    "|**`'b'`**|Open in **binary** mode.|"
   ]
  },
  {
   "cell_type": "markdown",
   "id": "pharmaceutical-teaching",
   "metadata": {
    "slideshow": {
     "slide_type": "slide"
    }
   },
   "source": [
    "---\n",
    "## <a name=\"ex6\"></a>Exercise 6\n",
    "\n",
    "- Open the file `input/dummy_input.txt` and create a dictionary which, for each line, contains a list with the positions of all occurences of the character `'e'` in this line.\n",
    "- Create a file called `output/e_occurences_in_dummy_input.txt` which, for each line in the input file, contains a line of the following form:\n",
    "\n",
    "```\n",
    "Positions of character 'e' in line LINENUMBER: POS, POS, ..., POS. \n",
    "```\n",
    "\n",
    "- Hint: You might find it useful to have a look at [`string.join()`](https://docs.python.org/3/library/stdtypes.html#str.join)."
   ]
  },
  {
   "cell_type": "code",
   "execution_count": null,
   "id": "tough-studio",
   "metadata": {
    "slideshow": {
     "slide_type": "skip"
    }
   },
   "outputs": [],
   "source": []
  },
  {
   "cell_type": "markdown",
   "id": "advised-party",
   "metadata": {
    "slideshow": {
     "slide_type": "skip"
    }
   },
   "source": [
    "<a href=\"#ex6sol\">Solution for Exercise 6</a>"
   ]
  },
  {
   "cell_type": "markdown",
   "id": "ranging-confusion",
   "metadata": {
    "slideshow": {
     "slide_type": "slide"
    }
   },
   "source": [
    "---\n",
    "## Solutions for exercises"
   ]
  },
  {
   "cell_type": "markdown",
   "id": "mental-attendance",
   "metadata": {
    "slideshow": {
     "slide_type": "slide"
    }
   },
   "source": [
    "<a name=\"ex1sol\">Solution for Exercise 1</a>"
   ]
  },
  {
   "cell_type": "code",
   "execution_count": 4,
   "id": "dying-progressive",
   "metadata": {
    "slideshow": {
     "slide_type": "fragment"
    }
   },
   "outputs": [
    {
     "name": "stdout",
     "output_type": "stream",
     "text": [
      "-13382.0\n"
     ]
    }
   ],
   "source": [
    "x = 50\n",
    "a_0 = 3\n",
    "a_1 = 2.3\n",
    "a_2 = -5.4\n",
    "poly_at_x = a_0 + a_1 * x + a_2 * x ** 2\n",
    "print(poly_at_x)"
   ]
  },
  {
   "cell_type": "markdown",
   "id": "accessible-genesis",
   "metadata": {
    "slideshow": {
     "slide_type": "skip"
    }
   },
   "source": [
    "<a href=\"#ex1\">Back to Exercise 1</a>"
   ]
  },
  {
   "cell_type": "markdown",
   "id": "natural-candidate",
   "metadata": {
    "slideshow": {
     "slide_type": "slide"
    }
   },
   "source": [
    "<a name=\"ex2sol\">Solution for Exercise 2</a>"
   ]
  },
  {
   "cell_type": "code",
   "execution_count": 11,
   "id": "sexual-guyana",
   "metadata": {
    "slideshow": {
     "slide_type": "fragment"
    }
   },
   "outputs": [
    {
     "name": "stdout",
     "output_type": "stream",
     "text": [
      "The solution to Exercise 1 is -1.34e+04.\n"
     ]
    }
   ],
   "source": [
    "print(f'The solution to Exercise 1 is {poly_at_x:.2e}.')"
   ]
  },
  {
   "cell_type": "markdown",
   "id": "outer-turkey",
   "metadata": {
    "slideshow": {
     "slide_type": "skip"
    }
   },
   "source": [
    "<a href=\"#ex2\">Back to Exercise 2</a>"
   ]
  },
  {
   "cell_type": "markdown",
   "id": "extended-parking",
   "metadata": {
    "slideshow": {
     "slide_type": "slide"
    }
   },
   "source": [
    "<a name=\"ex3sol\">Solution for Exercise 3</a>"
   ]
  },
  {
   "cell_type": "code",
   "execution_count": 17,
   "id": "according-management",
   "metadata": {
    "slideshow": {
     "slide_type": "fragment"
    }
   },
   "outputs": [
    {
     "name": "stdout",
     "output_type": "stream",
     "text": [
      "1001000\n"
     ]
    }
   ],
   "source": [
    "from random import randrange # Random number generator.\n",
    "n = randrange(100)           # A random integer between 0 and 99.\n",
    "\n",
    "if n < 50:\n",
    "    print(f'{n:.1e}')\n",
    "else:\n",
    "    print(f'{n:b}')"
   ]
  },
  {
   "cell_type": "markdown",
   "id": "responsible-oracle",
   "metadata": {
    "slideshow": {
     "slide_type": "skip"
    }
   },
   "source": [
    "<a href=\"#ex3\">Back to Exercise 3</a>"
   ]
  },
  {
   "cell_type": "markdown",
   "id": "timely-bracelet",
   "metadata": {
    "slideshow": {
     "slide_type": "slide"
    }
   },
   "source": [
    "<a name=\"ex4sol\">Solution for Exercise 4</a>"
   ]
  },
  {
   "cell_type": "code",
   "execution_count": 22,
   "id": "grateful-asian",
   "metadata": {
    "slideshow": {
     "slide_type": "fragment"
    }
   },
   "outputs": [
    {
     "name": "stdout",
     "output_type": "stream",
     "text": [
      "The number of days in January is 31.\n",
      "The number of days in February is 28.\n",
      "The number of days in March is 31.\n",
      "The number of days in April is 30.\n",
      "The number of days in May is 31.\n",
      "The number of days in June is 30.\n",
      "The number of days in July is 31.\n",
      "The number of days in August is 31.\n",
      "The number of days in September is 30.\n",
      "The number of days in October is 31.\n",
      "The number of days in November is 30.\n",
      "The number of days in December is 31.\n"
     ]
    }
   ],
   "source": [
    "days_in_months = {'January': 31, 'February': 28, 'March': 31, 'April': '30', 'May': 31, 'June': 30,\n",
    "                 'July': 31, 'August': 31, 'September': 30, 'October': 31, 'November': 30, 'December': 31}\n",
    "for month, days in days_in_months.items():\n",
    "    print(f'The number of days in {month} is {days}.')"
   ]
  },
  {
   "cell_type": "markdown",
   "id": "secret-staff",
   "metadata": {
    "slideshow": {
     "slide_type": "skip"
    }
   },
   "source": [
    "<a href=\"#ex4\">Back to Exercise 4</a>"
   ]
  },
  {
   "cell_type": "markdown",
   "id": "lonely-destination",
   "metadata": {
    "slideshow": {
     "slide_type": "slide"
    }
   },
   "source": [
    "<a name=\"ex5sol\">Solution for Exercise 5</a>"
   ]
  },
  {
   "cell_type": "code",
   "execution_count": 26,
   "id": "electric-return",
   "metadata": {
    "slideshow": {
     "slide_type": "fragment"
    }
   },
   "outputs": [
    {
     "name": "stdout",
     "output_type": "stream",
     "text": [
      "The element 2 does not occur in [5, 3, 1, 4].\n"
     ]
    }
   ],
   "source": [
    "found_elem = False\n",
    "for index in range(len(l)):\n",
    "    if l[index] == elem:\n",
    "        print(f'The index of the first occurence of {elem} in {l} is {index}.')\n",
    "        found_elem = True\n",
    "        break\n",
    "if not found_elem:\n",
    "    print(f'The element {elem} does not occur in {l}.')"
   ]
  },
  {
   "cell_type": "markdown",
   "id": "absent-chorus",
   "metadata": {
    "slideshow": {
     "slide_type": "skip"
    }
   },
   "source": [
    "<a href=\"#ex5\">Back to Exercise 5</a>"
   ]
  },
  {
   "cell_type": "markdown",
   "id": "compact-enzyme",
   "metadata": {
    "slideshow": {
     "slide_type": "slide"
    }
   },
   "source": [
    "<a name=\"ex6sol\">Solution for Exercise 6</a>"
   ]
  },
  {
   "cell_type": "code",
   "execution_count": 30,
   "id": "inappropriate-machine",
   "metadata": {
    "slideshow": {
     "slide_type": "fragment"
    }
   },
   "outputs": [],
   "source": [
    "e_positions_in_lines = {}\n",
    "with open('input/dummy_input.txt') as fp:\n",
    "    for line_number, line in enumerate(fp):\n",
    "        e_positions_in_lines[line_number] = []\n",
    "        for position, char in enumerate(line):\n",
    "            if char == 'e':\n",
    "                e_positions_in_lines[line_number].append(str(position))\n",
    "                \n",
    "with open('output/e_occurences_in_dummy_input.txt', 'w') as fp:\n",
    "    for line_number, positions in e_positions_in_lines.items():\n",
    "        fp.write(f\"Positions of character 'e' in line {line_number}: {', '.join(positions)}.\\n\")"
   ]
  },
  {
   "cell_type": "markdown",
   "id": "japanese-spine",
   "metadata": {
    "slideshow": {
     "slide_type": "skip"
    }
   },
   "source": [
    "<a href=\"#ex6\">Back to Exercise 6</a>"
   ]
  }
 ],
 "metadata": {
  "celltoolbar": "Slideshow",
  "kernelspec": {
   "display_name": "python-intro",
   "language": "python",
   "name": "python-intro"
  },
  "language_info": {
   "codemirror_mode": {
    "name": "ipython",
    "version": 3
   },
   "file_extension": ".py",
   "mimetype": "text/x-python",
   "name": "python",
   "nbconvert_exporter": "python",
   "pygments_lexer": "ipython3",
   "version": "3.8.8"
  },
  "latex_envs": {
   "LaTeX_envs_menu_present": true,
   "autoclose": false,
   "autocomplete": true,
   "bibliofile": "biblio.bib",
   "cite_by": "apalike",
   "current_citInitial": 1,
   "eqLabelWithNumbers": true,
   "eqNumInitial": 1,
   "hotkeys": {
    "equation": "Ctrl-E",
    "itemize": "Ctrl-I"
   },
   "labels_anchors": false,
   "latex_user_defs": false,
   "report_style_numbering": false,
   "user_envs_cfg": false
  }
 },
 "nbformat": 4,
 "nbformat_minor": 5
}
